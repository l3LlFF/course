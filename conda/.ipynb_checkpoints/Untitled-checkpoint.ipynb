{
 "cells": [
  {
   "cell_type": "code",
   "execution_count": 130,
   "metadata": {},
   "outputs": [],
   "source": [
    "import numpy as np\n",
    "import math\n",
    "from scipy.linalg import expm\n",
    "from numpy import linalg as LA\n",
    "from functools import cache\n",
    "from math import factorial as fact\n",
    "from tqdm import tqdm"
   ]
  },
  {
   "cell_type": "code",
   "execution_count": 131,
   "metadata": {},
   "outputs": [],
   "source": [
    "D_0 = np.matrix([\n",
    "    [-0.405780, 0],\n",
    "    [0, -0.013173]\n",
    "])"
   ]
  },
  {
   "cell_type": "code",
   "execution_count": 132,
   "metadata": {},
   "outputs": [],
   "source": [
    "D_1 = np.matrix([\n",
    "    [0.403080, 0.0027],\n",
    "    [0.007338, 0.005835]\n",
    "])"
   ]
  },
  {
   "cell_type": "code",
   "execution_count": 133,
   "metadata": {},
   "outputs": [],
   "source": [
    "matrix_size = 2\n",
    "lambd = 0.1\n",
    "gamma = 0.4\n",
    "epsilon = 1e-6\n",
    "b_1 = 1\n",
    "K = 1\n",
    "h = np.diag(-D_0).max()"
   ]
  },
  {
   "cell_type": "code",
   "execution_count": 134,
   "metadata": {},
   "outputs": [],
   "source": [
    "O = np.zeros((matrix_size, matrix_size))"
   ]
  },
  {
   "cell_type": "code",
   "execution_count": 135,
   "metadata": {},
   "outputs": [],
   "source": [
    "I = np.identity(matrix_size)"
   ]
  },
  {
   "cell_type": "markdown",
   "metadata": {},
   "source": [
    "$$\\varphi_k(t)$$"
   ]
  },
  {
   "cell_type": "code",
   "execution_count": 136,
   "metadata": {},
   "outputs": [],
   "source": [
    "def varphi_k_t(k, t):\n",
    "    return (gamma * t)**k / math.factorial(k) * math.exp(-gamma*t)"
   ]
  },
  {
   "cell_type": "markdown",
   "metadata": {},
   "source": [
    "$$\\hat\\varphi_k(t)$$"
   ]
  },
  {
   "cell_type": "code",
   "execution_count": 137,
   "metadata": {},
   "outputs": [],
   "source": [
    "def hat_varphi_k_t(k, t):\n",
    "    norm = 1\n",
    "    summa = 0\n",
    "    i = 0\n",
    "    while norm > epsilon:\n",
    "        norm = varphi_k_t(k + i, t)\n",
    "        summa += norm\n",
    "        i += 1\n",
    "    return summa"
   ]
  },
  {
   "cell_type": "markdown",
   "metadata": {},
   "source": [
    "$$\\varphi_k$$"
   ]
  },
  {
   "cell_type": "code",
   "execution_count": 138,
   "metadata": {},
   "outputs": [],
   "source": [
    "def varphi_k(k):\n",
    "    return varphi_k_t(k, b_1)"
   ]
  },
  {
   "cell_type": "markdown",
   "metadata": {},
   "source": [
    "$$\\hat\\varphi_k$$"
   ]
  },
  {
   "cell_type": "code",
   "execution_count": 139,
   "metadata": {},
   "outputs": [],
   "source": [
    "def hat_varphi_k(k):\n",
    "    norm = 1\n",
    "    summa = 0\n",
    "    i = 0\n",
    "    while norm > epsilon:\n",
    "        norm = varphi_k(k + i)\n",
    "        summa += norm\n",
    "        i += 1\n",
    "    return summa"
   ]
  },
  {
   "cell_type": "markdown",
   "metadata": {},
   "source": [
    "$$\\sum\\limits_{i=0}^{\\infty}P(i,t)z^i=e^{(D_0+D_1z)t}$$"
   ]
  },
  {
   "cell_type": "code",
   "execution_count": 140,
   "metadata": {},
   "outputs": [],
   "source": [
    "def P_i_t_z(z, t):\n",
    "    return expm((D_0 + D_1 * z) * t)"
   ]
  },
  {
   "cell_type": "markdown",
   "metadata": {},
   "source": [
    "$$K_n^{(j)}$$"
   ]
  },
  {
   "cell_type": "code",
   "execution_count": 141,
   "metadata": {},
   "outputs": [],
   "source": [
    "@cache\n",
    "def K_n(n, j):\n",
    "    if j == 0 and n == 0:\n",
    "        return I.copy()\n",
    "    elif j == 0 and n >= 1:\n",
    "        return O.copy()\n",
    "    elif n == 0:\n",
    "        return K_n(0, j - 1) * (I + D_0 / h)\n",
    "    elif n>=1 and j>=1:\n",
    "        return K_n(n - 1, j-1) * D_1 / h + K_n(n, j-1) * (I + D_0 / h)\n"
   ]
  },
  {
   "cell_type": "markdown",
   "metadata": {},
   "source": [
    "$$\\Phi(i,k)$$"
   ]
  },
  {
   "cell_type": "code",
   "execution_count": 142,
   "metadata": {},
   "outputs": [],
   "source": [
    "def Phi_i_k(i, k):\n",
    "    norm = 1\n",
    "    j = 1\n",
    "    summa = K_n(i, 0).copy()\n",
    "    while norm > epsilon or norm == 0:\n",
    "        element = (h * b_1)**j / fact(j) * K_n(i, j)\n",
    "        norm = LA.norm(element)\n",
    "        summa += element\n",
    "        j += 1\n",
    "    return np.exp(-(h + gamma) * b_1) * (gamma * b_1)**k / fact(k) * summa"
   ]
  },
  {
   "cell_type": "code",
   "execution_count": 143,
   "metadata": {},
   "outputs": [
    {
     "data": {
      "text/plain": [
       "array([[3.09731967e-06, 2.41395671e-08],\n",
       "       [6.56059792e-08, 1.45365496e-09]])"
      ]
     },
     "execution_count": 143,
     "metadata": {},
     "output_type": "execute_result"
    }
   ],
   "source": [
    "Phi_i_k(2, 5)"
   ]
  },
  {
   "cell_type": "markdown",
   "metadata": {},
   "source": [
    "$$\\hat\\Phi(i,k)$$"
   ]
  },
  {
   "cell_type": "code",
   "execution_count": 144,
   "metadata": {},
   "outputs": [],
   "source": [
    "def hat_Phi_i_k(i, k):\n",
    "    # First summ\n",
    "    norm = 1\n",
    "    j = 1\n",
    "    summa_1 = K_n(i, 0).copy()\n",
    "    while norm > epsilon or norm == 0:\n",
    "        element = (h * b_1)**j / fact(j) * K_n(i, j)\n",
    "        norm = LA.norm(element)\n",
    "        summa_1 += element\n",
    "        j += 1\n",
    "    # Second sum\n",
    "    norm = 1\n",
    "    l = k\n",
    "    summa_2 = 0\n",
    "    while norm > epsilon or norm == 0:\n",
    "        element = (gamma * b_1)**l / fact(l)\n",
    "        norm = LA.norm(element)\n",
    "        summa_2 += element\n",
    "        l += 1\n",
    "    return np.exp(-(h + gamma) * b_1) * summa_1 * summa_2"
   ]
  },
  {
   "cell_type": "markdown",
   "metadata": {},
   "source": [
    "$$N(m)$$"
   ]
  },
  {
   "cell_type": "code",
   "execution_count": 145,
   "metadata": {},
   "outputs": [],
   "source": [
    "def N(m):\n",
    "    norm = 1\n",
    "    j = 1\n",
    "    summa = K_n(m, 0) / (h + gamma)\n",
    "    while norm > epsilon or norm == 0:\n",
    "        element = (h / (h + gamma))**j / (h + gamma) * K_n(m, j)\n",
    "        norm = LA.norm(element)\n",
    "        summa += element\n",
    "        j += 1\n",
    "    return gamma * summa"
   ]
  },
  {
   "cell_type": "code",
   "execution_count": 146,
   "metadata": {},
   "outputs": [
    {
     "data": {
      "text/plain": [
       "array([[0.12424997, 0.00166847],\n",
       "       [0.00453454, 0.00025038]])"
      ]
     },
     "execution_count": 146,
     "metadata": {},
     "output_type": "execute_result"
    }
   ],
   "source": [
    "N(2)"
   ]
  },
  {
   "cell_type": "markdown",
   "metadata": {},
   "source": [
    "$$M(r)$$"
   ]
  },
  {
   "cell_type": "code",
   "execution_count": 147,
   "metadata": {},
   "outputs": [],
   "source": [
    "def M(r):\n",
    "    return gamma**r * (-D_0 + gamma * I)**(-(r + 1)) * D_1"
   ]
  },
  {
   "cell_type": "markdown",
   "metadata": {},
   "source": [
    "$$\\hat M(r)$$"
   ]
  },
  {
   "cell_type": "code",
   "execution_count": 148,
   "metadata": {},
   "outputs": [],
   "source": [
    "def hat_M(r):\n",
    "    return gamma**r * (-D_0 + gamma * I)**(-r) * (-D_0)**(-1) * D_1"
   ]
  },
  {
   "cell_type": "markdown",
   "metadata": {},
   "source": [
    "$$P\\left\\{(0, 0) \\to (j, k' ) \\right\\}=M(0)\\sum\\limits_{n = 0}^{j}N(n)\\Phi(j-n, k') + N(0)\\sum\\limits_{m = 0}^{k'}M(m)\\Phi(j, k' - m),$$\n",
    "$$\\; k'= {\\overline{0,K-2}};$$"
   ]
  },
  {
   "cell_type": "code",
   "execution_count": 149,
   "metadata": {},
   "outputs": [],
   "source": [
    "def P_0_0_j_k_(j, k_):\n",
    "    summa_1 = np.zeros((matrix_size, matrix_size))\n",
    "    summa_2 = np.zeros((matrix_size, matrix_size))\n",
    "    for n in range(j + 1):\n",
    "        summa_1 += N(n) * Phi_i_k(j - n, k_)\n",
    "    for m in range(k_ + 1):\n",
    "        summa_2 += M(m) * Phi_i_k(j, k_ - m)\n",
    "    return M(0) * summa_1 + N(0) * summa_2    "
   ]
  },
  {
   "cell_type": "code",
   "execution_count": 150,
   "metadata": {},
   "outputs": [
    {
     "data": {
      "text/plain": [
       "matrix([[6.13220678e-04, 2.71729853e-10],\n",
       "        [1.79241336e-07, 6.55230459e-06]])"
      ]
     },
     "execution_count": 150,
     "metadata": {},
     "output_type": "execute_result"
    }
   ],
   "source": [
    "P_0_0_j_k_(2, 5)"
   ]
  },
  {
   "cell_type": "markdown",
   "metadata": {},
   "source": [
    "\n",
    "$$P\\left\\{(0, 0) \\to (j,K-1 ) \\right\\}= N(0)\\biggl[\\sum\\limits_{m = 0}^{K-1}M(m)\\Phi(j, K-1 - m)\n",
    "+\\hat {M}(K) \\Phi(j, 0)\\biggr] $$$$+M(0)\\sum\\limits_{n = 0}^{j}N(n)\\Phi(j-n, K-1);$$"
   ]
  },
  {
   "cell_type": "code",
   "execution_count": 179,
   "metadata": {},
   "outputs": [],
   "source": [
    "def P_0_0_j_K_1(j):\n",
    "    summa_1 = np.zeros((matrix_size, matrix_size))\n",
    "    summa_2 = np.zeros((matrix_size, matrix_size))\n",
    "    for m in range(K):\n",
    "        summa_1 += M(m) * Phi_i_k(j, K - 1 - m)\n",
    "    summa_1 += hat_M(K) * Phi_i_k(j, 0)\n",
    "\n",
    "    for n in range(j + 1):\n",
    "        summa_2 += N(n) * Phi_i_k(j - n, K - 1)\n",
    "\n",
    "    return N(0) * summa_1 + M(0) * summa_2"
   ]
  },
  {
   "cell_type": "code",
   "execution_count": 181,
   "metadata": {},
   "outputs": [
    {
     "data": {
      "text/plain": [
       "matrix([[1.89018709e-01, 4.28284949e-05],\n",
       "        [3.55781268e-03, 2.63250623e-03]])"
      ]
     },
     "execution_count": 181,
     "metadata": {},
     "output_type": "execute_result"
    }
   ],
   "source": [
    "P_0_0_j_K_1(1)"
   ]
  },
  {
   "cell_type": "code",
   "execution_count": 184,
   "metadata": {},
   "outputs": [
    {
     "data": {
      "text/plain": [
       "array([[0.17890023, 0.00149312],\n",
       "       [0.10208706, 0.00253275]])"
      ]
     },
     "execution_count": 184,
     "metadata": {},
     "output_type": "execute_result"
    }
   ],
   "source": [
    "P_0_k_j_K_1(1, 1)"
   ]
  },
  {
   "cell_type": "markdown",
   "metadata": {},
   "source": [
    "$$P\\left\\{(0, 0) \\to (j, K) \\right\\}= N(0)\\biggl[\\sum\\limits_{m = 0}^{K-1}M(m)\\hat\\Phi(j, K - m) + \\hat M(K)\\hat \\Phi(j, 1)\\biggr]\n",
    "$$$$+M(0)\\sum\\limits_{n = 0}^{j}N(n)\\hat\\Phi(j-n, K);$$\n",
    "\n"
   ]
  },
  {
   "cell_type": "code",
   "execution_count": 153,
   "metadata": {},
   "outputs": [],
   "source": [
    "def P_0_0_j_K(j):\n",
    "    summa_1 = np.zeros((matrix_size, matrix_size))\n",
    "    summa_2 = np.zeros((matrix_size, matrix_size))\n",
    "    for m in range(K):\n",
    "        summa_1 += M(m) * hat_Phi_i_k(j, K - m)\n",
    "    summa_1 += hat_M(K) * hat_Phi_i_k(j, 1)\n",
    "\n",
    "    for n in range(j + 1):\n",
    "        summa_2 += N(n) * hat_Phi_i_k(j - n, K)\n",
    "\n",
    "    return N(0) * summa_1 + M(0) * summa_2"
   ]
  },
  {
   "cell_type": "code",
   "execution_count": 154,
   "metadata": {},
   "outputs": [
    {
     "data": {
      "text/plain": [
       "matrix([[9.29640661e-02, 2.10641108e-05],\n",
       "        [1.74982009e-03, 1.29473153e-03]])"
      ]
     },
     "execution_count": 154,
     "metadata": {},
     "output_type": "execute_result"
    }
   ],
   "source": [
    "P_0_0_j_K(1)"
   ]
  },
  {
   "cell_type": "markdown",
   "metadata": {},
   "source": [
    "$$P\\left\\{(0, k) \\to (j, k') \\right\\}=\\sum\\limits_{m = 0}^{k'-k+1}M(m)\\Phi(j,k' - k + 1 - m),\\;  k=\\overline{1,K}, k' =\\overline{k-1, {K-2}};$$"
   ]
  },
  {
   "cell_type": "code",
   "execution_count": 155,
   "metadata": {},
   "outputs": [],
   "source": [
    "def P_0_k_j_k_(j, k, k_):\n",
    "    summa_1 = np.zeros((matrix_size, matrix_size))\n",
    "    for m in range(k_ - k + 2):\n",
    "        summa_1 += M(m) * Phi_i_k(j, k_ - k + 1 - m)\n",
    "    return summa_1"
   ]
  },
  {
   "cell_type": "code",
   "execution_count": 156,
   "metadata": {},
   "outputs": [
    {
     "data": {
      "text/plain": [
       "array([[0.08075946, 0.00067402],\n",
       "       [0.00445294, 0.00011048]])"
      ]
     },
     "execution_count": 156,
     "metadata": {},
     "output_type": "execute_result"
    }
   ],
   "source": [
    "P_0_k_j_k_(1,1,1)"
   ]
  },
  {
   "cell_type": "markdown",
   "metadata": {},
   "source": [
    "$$P\\left\\{(0, k) \\to (j, K-1) \\right\\}=\\sum\\limits_{m = 0}^{K-k}M(m)\\Phi(j,K-k - m)+\n",
    "\\hat{M}(K-k+1)\\Phi(j,0),\\; k=\\overline{1,K};\n",
    "$$"
   ]
  },
  {
   "cell_type": "code",
   "execution_count": 157,
   "metadata": {},
   "outputs": [],
   "source": [
    "def P_0_k_j_K_1(j, k):\n",
    "    summa_1 = np.zeros((matrix_size, matrix_size))\n",
    "    for m in range(K - k + 1):\n",
    "        summa_1 += M(m) * Phi_i_k(j, K - k - m)\n",
    "    summa_1 += hat_M(K - k + 1) * Phi_i_k(j, 0)\n",
    "    return summa_1"
   ]
  },
  {
   "cell_type": "code",
   "execution_count": 158,
   "metadata": {},
   "outputs": [
    {
     "data": {
      "text/plain": [
       "array([[0.17890023, 0.00149312],\n",
       "       [0.10208706, 0.00253275]])"
      ]
     },
     "execution_count": 158,
     "metadata": {},
     "output_type": "execute_result"
    }
   ],
   "source": [
    "P_0_k_j_K_1(1,1)"
   ]
  },
  {
   "cell_type": "markdown",
   "metadata": {},
   "source": [
    "$$P\\left\\{(0, k) \\to (j, K)\\right\\}=\\sum\\limits_{m = 0}^{K-k}M(m) \\hat \\Phi(j, K - k + 1 - m) + \\hat M(K - k + 1)\\hat \\Phi(j, 1),\\;  k =\\overline{1,K};$$"
   ]
  },
  {
   "cell_type": "code",
   "execution_count": 159,
   "metadata": {},
   "outputs": [],
   "source": [
    "def P_0_k_j_K(j, k):\n",
    "    summa_1 = np.zeros((matrix_size, matrix_size))\n",
    "    for m in range(K - k + 1):\n",
    "        summa_1 += M(m) * hat_Phi_i_k(j, K - k + 1 - m)\n",
    "    summa_1 += hat_M(K - k + 1) * hat_Phi_i_k(j, 1)\n",
    "    return summa_1"
   ]
  },
  {
   "cell_type": "code",
   "execution_count": 160,
   "metadata": {},
   "outputs": [
    {
     "data": {
      "text/plain": [
       "array([[0.08798755, 0.00073435],\n",
       "       [0.05020893, 0.00124567]])"
      ]
     },
     "execution_count": 160,
     "metadata": {},
     "output_type": "execute_result"
    }
   ],
   "source": [
    "P_0_k_j_K(1, 2)"
   ]
  },
  {
   "cell_type": "markdown",
   "metadata": {},
   "source": [
    "$$P\\left\\{(i, 0) \\to (j, k')  \\right\\}= \\sum\\limits_{m = 0}^{j - i + 1}N(m)\\Phi(j - i + 1 - m, k'),\\; i\\geq 1,\\;  k' =\\overline{0, K-1}; $$"
   ]
  },
  {
   "cell_type": "code",
   "execution_count": 161,
   "metadata": {},
   "outputs": [],
   "source": [
    "def P_i_0_j_k_(i, j, k_):\n",
    "    summa_1 = np.zeros((matrix_size, matrix_size))\n",
    "    for m in range(j - i + 2):\n",
    "        summa_1 += N(m) * Phi_i_k(j - i + 1 - m, k_)\n",
    "    return summa_1"
   ]
  },
  {
   "cell_type": "code",
   "execution_count": 162,
   "metadata": {},
   "outputs": [
    {
     "data": {
      "text/plain": [
       "array([[0.0801304 , 0.        ],\n",
       "       [0.        , 0.00511264]])"
      ]
     },
     "execution_count": 162,
     "metadata": {},
     "output_type": "execute_result"
    }
   ],
   "source": [
    "P_i_0_j_k_(1,1,1)"
   ]
  },
  {
   "cell_type": "markdown",
   "metadata": {},
   "source": [
    "$$P\\left\\{(i, 0) \\to (j, K) \\right\\}=\\sum\\limits_{m = 0}^{j - i + 1}N(m)\\hat \\Phi(j - i + 1 - m, K),\\; i \\geq 1; $$"
   ]
  },
  {
   "cell_type": "code",
   "execution_count": 163,
   "metadata": {},
   "outputs": [],
   "source": [
    "def P_i_0_j_K(i, j):\n",
    "    summa_1 = np.zeros((matrix_size, matrix_size))\n",
    "    for m in range(j - i + 2):\n",
    "        summa_1 += N(m) * hat_Phi_i_k(j - i + 1 - m, K)\n",
    "    return summa_1"
   ]
  },
  {
   "cell_type": "code",
   "execution_count": 164,
   "metadata": {},
   "outputs": [
    {
     "data": {
      "text/plain": [
       "array([[0.09852527, 0.        ],\n",
       "       [0.        , 0.00628631]])"
      ]
     },
     "execution_count": 164,
     "metadata": {},
     "output_type": "execute_result"
    }
   ],
   "source": [
    "P_i_0_j_K(1,1)"
   ]
  },
  {
   "cell_type": "markdown",
   "metadata": {},
   "source": [
    "\n",
    "$$P\\left\\{(i, k) \\to (j, k') \\right\\} =\\Phi(j - i + 1, k' - k+1),\\; i \\geq 1,\\;  k' =\\overline{k-1, K-1},\\; k=\\overline{1,K};$$"
   ]
  },
  {
   "cell_type": "code",
   "execution_count": 165,
   "metadata": {},
   "outputs": [],
   "source": [
    "def P_i_k_j_k_(i, j, k, k_):\n",
    "    return Phi_i_k(j - i + 1, k_ - k + 1)"
   ]
  },
  {
   "cell_type": "code",
   "execution_count": 166,
   "metadata": {},
   "outputs": [
    {
     "data": {
      "text/plain": [
       "array([[0.07202868, 0.0005909 ],\n",
       "       [0.00160595, 0.00154405]])"
      ]
     },
     "execution_count": 166,
     "metadata": {},
     "output_type": "execute_result"
    }
   ],
   "source": [
    "P_i_k_j_k_(1,1,1,1)"
   ]
  },
  {
   "cell_type": "markdown",
   "metadata": {},
   "source": [
    "$$P\\left\\{(i, k) \\to (j, K)\\right\\}= \\hat \\Phi(j - i + 1, K - k+1),\\; i \\geq 1,\\;  k=\\overline{1,K}.$$"
   ]
  },
  {
   "cell_type": "code",
   "execution_count": 167,
   "metadata": {},
   "outputs": [],
   "source": [
    "def P_i_k_j_K(i, j, k):\n",
    "    return hat_Phi_i_k(j - i + 1, K - k + 1)"
   ]
  },
  {
   "cell_type": "code",
   "execution_count": 168,
   "metadata": {},
   "outputs": [
    {
     "data": {
      "text/plain": [
       "array([[0.0885637 , 0.00072655],\n",
       "       [0.00197461, 0.0018985 ]])"
      ]
     },
     "execution_count": 168,
     "metadata": {},
     "output_type": "execute_result"
    }
   ],
   "source": [
    "P_i_k_j_K(1,1,1)"
   ]
  },
  {
   "cell_type": "code",
   "execution_count": 169,
   "metadata": {},
   "outputs": [],
   "source": [
    "P = np.zeros((K + 1, K + 1))"
   ]
  },
  {
   "cell_type": "code",
   "execution_count": 170,
   "metadata": {},
   "outputs": [],
   "source": [
    "def V(j_1):\n",
    "    block = []\n",
    "    for i in range(K + 1):\n",
    "        row = []\n",
    "        for j in range(K + 1):\n",
    "            if i == 0 and j <= K - 2:        \n",
    "                row.append(P_0_0_j_k_(j_1, j))\n",
    "            elif i == 0 and j == K - 1:\n",
    "                row.append(P_0_0_j_K_1(j_1))\n",
    "            elif i == 0 and j == K:\n",
    "                row.append(P_0_0_j_K(j_1))\n",
    "            elif i > 0 and j >= i - 1 and j <= K - 2:\n",
    "                row.append(P_0_k_j_k_(j_1, i, j))\n",
    "            elif i > 0 and j == K - 1:\n",
    "                row.append(P_0_k_j_K_1(j_1, i))\n",
    "            elif i > 0 and j == K:\n",
    "                row.append(P_0_k_j_K(j_1, i))\n",
    "            else:\n",
    "                row.append(O)\n",
    "        block.append(row)\n",
    "    return np.block(block)"
   ]
  },
  {
   "cell_type": "code",
   "execution_count": 171,
   "metadata": {},
   "outputs": [
    {
     "data": {
      "text/plain": [
       "matrix([[0.98996359],\n",
       "        [0.45848715],\n",
       "        [0.99999998],\n",
       "        [0.99999996]])"
      ]
     },
     "execution_count": 171,
     "metadata": {},
     "output_type": "execute_result"
    }
   ],
   "source": [
    "a = V(0).sum(axis=1)\n",
    "for x in range(1, 10):\n",
    "    a += V(x).sum(axis=1)\n",
    "a"
   ]
  },
  {
   "cell_type": "markdown",
   "metadata": {},
   "source": [
    "$$ \\sum\\limits_{j=0}^\\infty \\sum\\limits_{k=0 }^K  P{(0,0)->(j,k)}$$  $$\\sum\\limits_{j=0}^\\infty \\sum\\limits_{k=0 }^K  P{(0,1)->(j,k)} $$"
   ]
  },
  {
   "cell_type": "code",
   "execution_count": 172,
   "metadata": {
    "scrolled": true
   },
   "outputs": [
    {
     "data": {
      "text/plain": [
       "array([[2., 3.],\n",
       "       [5., 6.]])"
      ]
     },
     "execution_count": 172,
     "metadata": {},
     "output_type": "execute_result"
    }
   ],
   "source": [
    "j_1 = 2\n",
    "block = []\n",
    "for i in range(K + 1):\n",
    "    row = []\n",
    "    for j in range(K + 1):\n",
    "        if i == 0 and j <= K - 2:\n",
    "            P[i][j] = 1\n",
    "            row.append(P_0_0_j_k_(j_1, j))\n",
    "        elif i == 0 and j == K - 1:\n",
    "            P[i][j] = 2\n",
    "            row.append(P_0_0_j_K_1(j_1))\n",
    "        elif i == 0 and j == K:\n",
    "            P[i][j] = 3\n",
    "            row.append(P_0_0_j_K(j_1))\n",
    "        elif i > 0 and j >= i - 1 and j <= K - 2:\n",
    "            P[i][j] = 4\n",
    "            row.append(P_0_k_j_k_(j_1, i, j))\n",
    "        elif i > 0 and j == K - 1:\n",
    "            P[i][j] = 5\n",
    "            row.append(P_0_k_j_K_1(j_1, i))\n",
    "        elif i > 0 and j == K:\n",
    "            P[i][j] = 6\n",
    "            row.append(P_0_k_j_K(j_1, i))\n",
    "        else:\n",
    "            P[i][j] = 0\n",
    "            row.append(O)\n",
    "    block.append(row)\n",
    "P"
   ]
  },
  {
   "cell_type": "code",
   "execution_count": 173,
   "metadata": {},
   "outputs": [
    {
     "data": {
      "text/plain": [
       "[['0 0', '0 1'], ['1 0', '1 1']]"
      ]
     },
     "execution_count": 173,
     "metadata": {},
     "output_type": "execute_result"
    }
   ],
   "source": [
    "j_1 = 2\n",
    "block = []\n",
    "for i in range(K + 1):\n",
    "    row = []\n",
    "    for j in range(K + 1):\n",
    "        if i == 0 and j <= K - 2:\n",
    "            row.append(f'{i} {j}')\n",
    "        elif i == 0 and j == K - 1:\n",
    "            row.append(f'{i} {j}')\n",
    "        elif i == 0 and j == K:\n",
    "            row.append(f'{i} {j}')\n",
    "        elif i > 0 and j >= i - 1 and j <= K - 2:\n",
    "            row.append(f'{i} {j}')\n",
    "        elif i > 0 and j == K - 1:\n",
    "            row.append(f'{i} {j}')\n",
    "        elif i > 0 and j == K:\n",
    "            row.append(f'{i} {j}')\n",
    "        else:\n",
    "            row.append(' 0 ')\n",
    "    block.append(row)\n",
    "block"
   ]
  },
  {
   "cell_type": "code",
   "execution_count": null,
   "metadata": {},
   "outputs": [],
   "source": []
  },
  {
   "cell_type": "code",
   "execution_count": 174,
   "metadata": {},
   "outputs": [],
   "source": [
    "def ksis():\n",
    "    ksis = np.zeros(K)\n",
    "    ksis[0] = 1\n",
    "    varphi_0 = varphi_k(0)\n",
    "\n",
    "    for k in range(1, K):\n",
    "        summ = np.sum(np.array([ksis[i] * varphi_k(k + 1 - i) for i in range(1, k)]))\n",
    "        ksis[k] = (ksis[k-1] - varphi_k(k) - summ) / varphi_0\n",
    "    return ksis"
   ]
  },
  {
   "cell_type": "code",
   "execution_count": 175,
   "metadata": {},
   "outputs": [],
   "source": [
    "def ergodicity():\n",
    "    u_0 = 1 / ksis().sum()\n",
    "    return lambd * b_1 + u_0 * lambd / gamma"
   ]
  },
  {
   "cell_type": "code",
   "execution_count": 176,
   "metadata": {},
   "outputs": [
    {
     "data": {
      "text/plain": [
       "0.35"
      ]
     },
     "execution_count": 176,
     "metadata": {},
     "output_type": "execute_result"
    }
   ],
   "source": [
    "ergodicity()"
   ]
  },
  {
   "cell_type": "code",
   "execution_count": null,
   "metadata": {},
   "outputs": [],
   "source": []
  },
  {
   "cell_type": "code",
   "execution_count": null,
   "metadata": {},
   "outputs": [],
   "source": []
  },
  {
   "cell_type": "code",
   "execution_count": null,
   "metadata": {},
   "outputs": [],
   "source": []
  },
  {
   "cell_type": "code",
   "execution_count": null,
   "metadata": {},
   "outputs": [],
   "source": []
  },
  {
   "cell_type": "code",
   "execution_count": null,
   "metadata": {},
   "outputs": [],
   "source": []
  }
 ],
 "metadata": {
  "kernelspec": {
   "display_name": "Python 3 (ipykernel)",
   "language": "python",
   "name": "python3"
  },
  "language_info": {
   "codemirror_mode": {
    "name": "ipython",
    "version": 3
   },
   "file_extension": ".py",
   "mimetype": "text/x-python",
   "name": "python",
   "nbconvert_exporter": "python",
   "pygments_lexer": "ipython3",
   "version": "3.9.7"
  }
 },
 "nbformat": 4,
 "nbformat_minor": 4
}
