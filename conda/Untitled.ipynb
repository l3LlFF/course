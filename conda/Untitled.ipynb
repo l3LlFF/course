{
 "cells": [
  {
   "cell_type": "code",
   "execution_count": 1,
   "metadata": {},
   "outputs": [],
   "source": [
    "import numpy as np\n",
    "import math\n",
    "from scipy.linalg import expm\n",
    "from numpy import linalg as LA\n",
    "from functools import cache\n",
    "from math import factorial as fact\n",
    "from tqdm import tqdm\n",
    "import matplotlib.pyplot as plt\n",
    "from cycler import cycler\n",
    "import pandas as pd\n",
    "from scipy.interpolate import interp1d\n",
    "from scipy.interpolate import splrep\n",
    "from scipy import interpolate\n",
    "\n",
    "markers = [\"o\", \"x\", \"s\"]\n",
    "linestyles = ['-', '--', '-.', ':', '-']"
   ]
  },
  {
   "cell_type": "code",
   "execution_count": 424,
   "metadata": {},
   "outputs": [],
   "source": [
    "D_0 = np.matrix([\n",
    "    [-0.405780, 0],\n",
    "    [0, -0.013173]\n",
    "])\n"
   ]
  },
  {
   "cell_type": "code",
   "execution_count": 425,
   "metadata": {},
   "outputs": [],
   "source": [
    "D_1 = np.matrix([\n",
    "    [0.403080, 0.0027],\n",
    "    [0.007338, 0.005835]\n",
    "])"
   ]
  },
  {
   "cell_type": "code",
   "execution_count": 414,
   "metadata": {},
   "outputs": [],
   "source": [
    "matrix_size = 2\n",
    "lambd = 0.3\n",
    "gamma = 0.4\n",
    "epsilon = 1e-7\n",
    "epsilon_f = 1e-10\n",
    "b_1 = 1\n",
    "K = 4\n"
   ]
  },
  {
   "cell_type": "code",
   "execution_count": 5,
   "metadata": {},
   "outputs": [],
   "source": [
    "#D_0 = np.matrix([-lambd])\n",
    "#D_1 = np.matrix([lambd])\n"
   ]
  },
  {
   "cell_type": "code",
   "execution_count": 6,
   "metadata": {},
   "outputs": [],
   "source": [
    "h = np.diag(-D_0).max()"
   ]
  },
  {
   "cell_type": "code",
   "execution_count": 7,
   "metadata": {},
   "outputs": [],
   "source": [
    "W = len(D_0) - 1"
   ]
  },
  {
   "cell_type": "code",
   "execution_count": 8,
   "metadata": {},
   "outputs": [],
   "source": [
    "matrix_size = len(D_0)"
   ]
  },
  {
   "cell_type": "code",
   "execution_count": 9,
   "metadata": {},
   "outputs": [],
   "source": [
    "O = np.matrix(np.zeros((W + 1, W + 1)))"
   ]
  },
  {
   "cell_type": "code",
   "execution_count": 10,
   "metadata": {},
   "outputs": [],
   "source": [
    "I = np.matrix(np.identity(W + 1))"
   ]
  },
  {
   "cell_type": "markdown",
   "metadata": {},
   "source": [
    "$$\\varphi_k(t)$$"
   ]
  },
  {
   "cell_type": "code",
   "execution_count": 11,
   "metadata": {},
   "outputs": [],
   "source": [
    "@cache\n",
    "def varphi_k_t(k, t):\n",
    "    return (gamma * t)**k / math.factorial(k) * math.exp(-gamma*t)"
   ]
  },
  {
   "cell_type": "markdown",
   "metadata": {},
   "source": [
    "$$\\hat\\varphi_k(t)$$"
   ]
  },
  {
   "cell_type": "code",
   "execution_count": 12,
   "metadata": {},
   "outputs": [],
   "source": [
    "@cache\n",
    "def hat_varphi_k_t(k, t):\n",
    "    norm = 1\n",
    "    summa = 0\n",
    "    i = 0\n",
    "    while norm > epsilon:\n",
    "        norm = varphi_k_t(k + i, t)\n",
    "        summa += norm\n",
    "        i += 1\n",
    "    return summa"
   ]
  },
  {
   "cell_type": "markdown",
   "metadata": {},
   "source": [
    "$$\\varphi_k$$"
   ]
  },
  {
   "cell_type": "code",
   "execution_count": 13,
   "metadata": {},
   "outputs": [],
   "source": [
    "@cache\n",
    "def varphi_k(k):\n",
    "    return varphi_k_t(k, b_1)"
   ]
  },
  {
   "cell_type": "markdown",
   "metadata": {},
   "source": [
    "$$\\hat\\varphi_k$$"
   ]
  },
  {
   "cell_type": "code",
   "execution_count": 14,
   "metadata": {},
   "outputs": [],
   "source": [
    "@cache\n",
    "def hat_varphi_k(k):\n",
    "    norm = 1\n",
    "    summa = 0\n",
    "    i = 0\n",
    "    while norm > epsilon:\n",
    "        norm = varphi_k(k + i)\n",
    "        summa += norm\n",
    "        i += 1\n",
    "    return summa"
   ]
  },
  {
   "cell_type": "markdown",
   "metadata": {},
   "source": [
    "$$\\sum\\limits_{i=0}^{\\infty}P(i,t)z^i=e^{(D_0+D_1z)t}$$"
   ]
  },
  {
   "cell_type": "code",
   "execution_count": 15,
   "metadata": {},
   "outputs": [],
   "source": [
    "@cache\n",
    "def P_i_t_z(z, t):\n",
    "    return expm((D_0 + D_1 * z) * t)"
   ]
  },
  {
   "cell_type": "markdown",
   "metadata": {},
   "source": [
    "$$K_n^{(j)}$$"
   ]
  },
  {
   "cell_type": "code",
   "execution_count": 16,
   "metadata": {},
   "outputs": [],
   "source": [
    "@cache\n",
    "def K_n(n, j):\n",
    "    if j == 0 and n == 0:\n",
    "        return I.copy()\n",
    "    elif j == 0 and n >= 1:\n",
    "        return O.copy()\n",
    "    elif n == 0:\n",
    "        return K_n(0, j - 1) * (I + D_0 / h)\n",
    "    elif n>=1 and j>=1:\n",
    "        return K_n(n - 1, j-1) * D_1 / h + K_n(n, j-1) * (I + D_0 / h)\n"
   ]
  },
  {
   "cell_type": "markdown",
   "metadata": {},
   "source": [
    "$$\\Phi(i,k)$$"
   ]
  },
  {
   "cell_type": "code",
   "execution_count": 17,
   "metadata": {},
   "outputs": [],
   "source": [
    "@cache\n",
    "def Phi_i_k(i, k):\n",
    "    norm = 1\n",
    "    j = 0\n",
    "    summa = 0\n",
    "    while norm > epsilon or norm == 0:\n",
    "        try:\n",
    "            element = (h * b_1)**j / fact(j) * K_n(i, j)\n",
    "        except:\n",
    "            break\n",
    "        norm = LA.norm(element)\n",
    "        summa += element\n",
    "        j += 1\n",
    "    return np.exp(-(h + gamma) * b_1) * (gamma * b_1)**k / fact(k) * summa"
   ]
  },
  {
   "cell_type": "markdown",
   "metadata": {},
   "source": [
    "$$\\hat\\Phi(i,k)$$"
   ]
  },
  {
   "cell_type": "code",
   "execution_count": 18,
   "metadata": {},
   "outputs": [],
   "source": [
    "@cache\n",
    "def gamma_b_1_l(l):\n",
    "    mul = 1\n",
    "    for z in (gamma * b_1 / x for x in range(1, l + 1)):\n",
    "        mul *= z\n",
    "    return mul\n",
    "\n",
    "@cache\n",
    "def hat_Phi_i_k(i, k):\n",
    "    # First summ\n",
    "    norm = 1\n",
    "    j = 0\n",
    "    summa_1 = 0\n",
    "    while norm > epsilon or norm == 0:\n",
    "        try:\n",
    "            element = (h * b_1)**j / fact(j) * K_n(i, j)\n",
    "        except:\n",
    "            break\n",
    "        norm = LA.norm(element)\n",
    "        summa_1 += element\n",
    "        j += 1\n",
    "    # Second sum\n",
    "    norm = 1\n",
    "    l = k\n",
    "    summa_2 = 0\n",
    "    while norm > epsilon or norm == 0:\n",
    "        #element = (gamma * b_1)**l / fact(l)\n",
    "        element = gamma_b_1_l(l)\n",
    "        norm = LA.norm(element)\n",
    "        summa_2 += element\n",
    "        l += 1\n",
    "    return np.exp(-(h + gamma) * b_1) * summa_1 * summa_2"
   ]
  },
  {
   "cell_type": "markdown",
   "metadata": {},
   "source": [
    "$$N(m)$$"
   ]
  },
  {
   "cell_type": "markdown",
   "metadata": {},
   "source": [
    "$$ N(m) =\\frac{\\gamma}{h+\\gamma} \\sum\\limits_{j=0}^{\\infty}(\\frac{h}{h+\\gamma})^jK_m^{(j)},\\;$ $m \\ge 0$$"
   ]
  },
  {
   "cell_type": "code",
   "execution_count": 19,
   "metadata": {},
   "outputs": [],
   "source": [
    "@cache\n",
    "def N(m):\n",
    "    norm = 1\n",
    "    j = 0\n",
    "    summa = 0\n",
    "    count_null = 0\n",
    "    while norm > epsilon or count_null < 200:\n",
    "        element = (h / (h + gamma))**j * K_n(m, j)\n",
    "        norm = LA.norm(element)\n",
    "        if norm == 0:\n",
    "            count_null += 1\n",
    "        else:\n",
    "            count_null = 0\n",
    "        summa += element\n",
    "        j += 1\n",
    "    return gamma / (h + gamma) * summa"
   ]
  },
  {
   "cell_type": "markdown",
   "metadata": {},
   "source": [
    "$$M(r)$$"
   ]
  },
  {
   "cell_type": "code",
   "execution_count": 20,
   "metadata": {},
   "outputs": [],
   "source": [
    "@cache\n",
    "def M(r):\n",
    "    return gamma**r * (-D_0 + gamma * I)**(-(r + 1)) * D_1"
   ]
  },
  {
   "cell_type": "markdown",
   "metadata": {},
   "source": [
    "$$\\hat M(r)$$"
   ]
  },
  {
   "cell_type": "code",
   "execution_count": 21,
   "metadata": {},
   "outputs": [],
   "source": [
    "@cache\n",
    "def hat_M(r):\n",
    "    return gamma**r * (-D_0 + gamma * I)**(-r) * (-D_0)**(-1) * D_1"
   ]
  },
  {
   "cell_type": "markdown",
   "metadata": {},
   "source": [
    "$$P\\left\\{(0, 0) \\to (j, k' ) \\right\\}=M(0)\\sum\\limits_{n = 0}^{j}N(n)\\Phi(j-n, k') + N(0)\\sum\\limits_{m = 0}^{k'}M(m)\\Phi(j, k' - m),$$\n",
    "$$\\; k'= {\\overline{0,K-2}};$$"
   ]
  },
  {
   "cell_type": "code",
   "execution_count": 22,
   "metadata": {},
   "outputs": [],
   "source": [
    "@cache\n",
    "def P_0_0_j_k_(j, k_):\n",
    "    summa_1 = np.zeros((matrix_size, matrix_size))\n",
    "    summa_2 = np.zeros((matrix_size, matrix_size))\n",
    "    for n in range(j + 1):\n",
    "        summa_1 += N(n) * Phi_i_k(j - n, k_)\n",
    "    for m in range(k_ + 1):\n",
    "        summa_2 += M(m) * Phi_i_k(j, k_ - m)\n",
    "    return M(0) * summa_1 + N(0) * summa_2    "
   ]
  },
  {
   "cell_type": "markdown",
   "metadata": {},
   "source": [
    "\n",
    "$$P\\left\\{(0, 0) \\to (j,K-1 ) \\right\\}= N(0)\\biggl[\\sum\\limits_{m = 0}^{K-1}M(m)\\Phi(j, K-1 - m)\n",
    "+\\hat {M}(K) \\Phi(j, 0)\\biggr] $$$$+M(0)\\sum\\limits_{n = 0}^{j}N(n)\\Phi(j-n, K-1);$$"
   ]
  },
  {
   "cell_type": "code",
   "execution_count": 23,
   "metadata": {},
   "outputs": [],
   "source": [
    "@cache\n",
    "def P_0_0_j_K_1(j):\n",
    "    summa_1 = np.zeros((matrix_size, matrix_size))\n",
    "    summa_2 = np.zeros((matrix_size, matrix_size))\n",
    "    for m in range(K):\n",
    "        summa_1 += M(m) * Phi_i_k(j, K - 1 - m)\n",
    "    summa_1 += hat_M(K) * Phi_i_k(j, 0)\n",
    "\n",
    "    for n in range(j + 1):\n",
    "        summa_2 += N(n) * Phi_i_k(j - n, K - 1)\n",
    "\n",
    "    return N(0) * summa_1 + M(0) * summa_2"
   ]
  },
  {
   "cell_type": "markdown",
   "metadata": {},
   "source": [
    "$$P\\left\\{(0, 0) \\to (j, K) \\right\\}= N(0)\\biggl[\\sum\\limits_{m = 0}^{K-1}M(m)\\hat\\Phi(j, K - m) + \\hat M(K)\\hat \\Phi(j, 1)\\biggr]\n",
    "$$$$+M(0)\\sum\\limits_{n = 0}^{j}N(n)\\hat\\Phi(j-n, K);$$\n",
    "\n"
   ]
  },
  {
   "cell_type": "code",
   "execution_count": 24,
   "metadata": {},
   "outputs": [],
   "source": [
    "@cache\n",
    "def P_0_0_j_K(j):\n",
    "    summa_1 = np.zeros((matrix_size, matrix_size))\n",
    "    summa_2 = np.zeros((matrix_size, matrix_size))\n",
    "    for m in range(K):\n",
    "        summa_1 += M(m) * hat_Phi_i_k(j, K - m)\n",
    "    summa_1 += hat_M(K) * hat_Phi_i_k(j, 1)\n",
    "\n",
    "    for n in range(j + 1):\n",
    "        summa_2 += N(n) * hat_Phi_i_k(j - n, K)\n",
    "\n",
    "    return N(0) * summa_1 + M(0) * summa_2"
   ]
  },
  {
   "cell_type": "markdown",
   "metadata": {},
   "source": [
    "$$P\\left\\{(0, k) \\to (j, k') \\right\\}=\\sum\\limits_{m = 0}^{k'-k+1}M(m)\\Phi(j,k' - k + 1 - m),\\;  k=\\overline{1,K}, k' =\\overline{k-1, {K-2}};$$"
   ]
  },
  {
   "cell_type": "code",
   "execution_count": 25,
   "metadata": {},
   "outputs": [],
   "source": [
    "@cache\n",
    "def P_0_k_j_k_(j, k, k_):\n",
    "    summa_1 = np.zeros((matrix_size, matrix_size))\n",
    "    for m in range(k_ - k + 2):\n",
    "        summa_1 += M(m) * Phi_i_k(j, k_ - k + 1 - m)\n",
    "    return summa_1"
   ]
  },
  {
   "cell_type": "markdown",
   "metadata": {},
   "source": [
    "$$P\\left\\{(0, k) \\to (j, K-1) \\right\\}=\\sum\\limits_{m = 0}^{K-k}M(m)\\Phi(j,K-k - m)+\n",
    "\\hat{M}(K-k+1)\\Phi(j,0),\\; k=\\overline{1,K};\n",
    "$$"
   ]
  },
  {
   "cell_type": "code",
   "execution_count": 26,
   "metadata": {},
   "outputs": [],
   "source": [
    "@cache\n",
    "def P_0_k_j_K_1(j, k):\n",
    "    summa_1 = np.zeros((matrix_size, matrix_size))\n",
    "    for m in range(K - k + 1):\n",
    "        summa_1 += M(m) * Phi_i_k(j, K - k - m)\n",
    "    summa_1 += hat_M(K - k + 1) * Phi_i_k(j, 0)\n",
    "    return summa_1"
   ]
  },
  {
   "cell_type": "markdown",
   "metadata": {},
   "source": [
    "$$P\\left\\{(0, k) \\to (j, K)\\right\\}=\\sum\\limits_{m = 0}^{K-k}M(m) \\hat \\Phi(j, K - k + 1 - m) + \\hat M(K - k + 1)\\hat \\Phi(j, 1),\\;  k =\\overline{1,K};$$"
   ]
  },
  {
   "cell_type": "code",
   "execution_count": 27,
   "metadata": {},
   "outputs": [],
   "source": [
    "@cache\n",
    "def P_0_k_j_K(j, k):\n",
    "    summa_1 = np.zeros((matrix_size, matrix_size))\n",
    "    for m in range(K - k + 1):\n",
    "        summa_1 += M(m) * hat_Phi_i_k(j, K - k + 1 - m)\n",
    "    summa_1 += hat_M(K - k + 1) * hat_Phi_i_k(j, 1)\n",
    "    return summa_1"
   ]
  },
  {
   "cell_type": "markdown",
   "metadata": {},
   "source": [
    "$$P\\left\\{(i, 0) \\to (j, k')  \\right\\}= \\sum\\limits_{m = 0}^{j - i + 1}N(m)\\Phi(j - i + 1 - m, k'),\\; i\\geq 1,\\;  k' =\\overline{0, K-1}; $$"
   ]
  },
  {
   "cell_type": "code",
   "execution_count": 28,
   "metadata": {},
   "outputs": [],
   "source": [
    "@cache\n",
    "def P_i_0_j_k_(i, j, k_):\n",
    "    summa_1 = np.zeros((matrix_size, matrix_size))\n",
    "    for m in range(j - i + 2):\n",
    "        summa_1 += N(m) * Phi_i_k(j - i + 1 - m, k_)\n",
    "    return summa_1"
   ]
  },
  {
   "cell_type": "code",
   "execution_count": 29,
   "metadata": {},
   "outputs": [],
   "source": [
    "@cache\n",
    "def P_i_0_j_k_(l, k_):\n",
    "    summa_1 = np.zeros((matrix_size, matrix_size))\n",
    "    for m in range(l + 1):\n",
    "        summa_1 += N(m) * Phi_i_k(l - m, k_)\n",
    "    return summa_1"
   ]
  },
  {
   "cell_type": "markdown",
   "metadata": {},
   "source": [
    "$$P\\left\\{(i, 0) \\to (j, K) \\right\\}=\\sum\\limits_{m = 0}^{j - i + 1}N(m)\\hat \\Phi(j - i + 1 - m, K),\\; i \\geq 1; $$"
   ]
  },
  {
   "cell_type": "code",
   "execution_count": 30,
   "metadata": {},
   "outputs": [],
   "source": [
    "@cache\n",
    "def P_i_0_j_K(i, j):\n",
    "    summa_1 = np.zeros((matrix_size, matrix_size))\n",
    "    for m in range(j - i + 2):\n",
    "        summa_1 += N(m) * hat_Phi_i_k(j - i + 1 - m, K)\n",
    "    return summa_1"
   ]
  },
  {
   "cell_type": "code",
   "execution_count": 31,
   "metadata": {},
   "outputs": [],
   "source": [
    "@cache\n",
    "def P_i_0_j_K(l):\n",
    "    summa_1 = np.zeros((matrix_size, matrix_size))\n",
    "    for m in range(l + 1):\n",
    "        summa_1 += N(m) * hat_Phi_i_k(l - m, K)\n",
    "    return summa_1"
   ]
  },
  {
   "cell_type": "markdown",
   "metadata": {},
   "source": [
    "\n",
    "$$P\\left\\{(i, k) \\to (j, k') \\right\\} =\\Phi(j - i + 1, k' - k+1),\\; i \\geq 1,\\;  k' =\\overline{k-1, K-1},\\; k=\\overline{1,K};$$"
   ]
  },
  {
   "cell_type": "code",
   "execution_count": 32,
   "metadata": {},
   "outputs": [],
   "source": [
    "@cache\n",
    "def P_i_k_j_k_(i, j, k, k_):\n",
    "    return Phi_i_k(j - i + 1, k_ - k + 1)"
   ]
  },
  {
   "cell_type": "code",
   "execution_count": 33,
   "metadata": {},
   "outputs": [],
   "source": [
    "@cache\n",
    "def P_i_k_j_k_(l, k, k_):\n",
    "    return Phi_i_k(l, k_ - k + 1)"
   ]
  },
  {
   "cell_type": "code",
   "execution_count": 34,
   "metadata": {},
   "outputs": [],
   "source": [
    "#P_i_k_j_k_(1,1,1,1)"
   ]
  },
  {
   "cell_type": "markdown",
   "metadata": {},
   "source": [
    "$$P\\left\\{(i, k) \\to (j, K)\\right\\}= \\hat \\Phi(j - i + 1, K - k+1),\\; i \\geq 1,\\;  k=\\overline{1,K}.$$"
   ]
  },
  {
   "cell_type": "code",
   "execution_count": 35,
   "metadata": {},
   "outputs": [],
   "source": [
    "@cache\n",
    "def P_i_k_j_K(i, j, k):\n",
    "    return hat_Phi_i_k(j - i + 1, K - k + 1)"
   ]
  },
  {
   "cell_type": "code",
   "execution_count": 36,
   "metadata": {},
   "outputs": [],
   "source": [
    "@cache\n",
    "def P_i_k_j_K(l, k):\n",
    "    return hat_Phi_i_k(l, K - k + 1)"
   ]
  },
  {
   "cell_type": "code",
   "execution_count": 37,
   "metadata": {},
   "outputs": [],
   "source": [
    "P = np.zeros((K + 1, K + 1))"
   ]
  },
  {
   "cell_type": "markdown",
   "metadata": {},
   "source": [
    "### $V_j$ and $Y_l$"
   ]
  },
  {
   "cell_type": "code",
   "execution_count": 38,
   "metadata": {},
   "outputs": [],
   "source": [
    "@cache\n",
    "def V(j_1):\n",
    "    block = []\n",
    "    for i in range(K + 1):\n",
    "        row = []\n",
    "        for j in range(K + 1):\n",
    "            if i == 0 and j <= K - 2:                         \n",
    "                row.append(P_0_0_j_k_(j_1, j))\n",
    "            elif i == 0 and j == K - 1:\n",
    "                row.append(P_0_0_j_K_1(j_1))\n",
    "            elif i == 0 and j == K:\n",
    "                row.append(P_0_0_j_K(j_1)) \n",
    "            elif i > 0 and j >= i - 1 and j <= K - 2:\n",
    "                row.append(P_0_k_j_k_(j_1, i, j))\n",
    "            elif i > 0 and j == K - 1:\n",
    "                row.append(P_0_k_j_K_1(j_1, i))\n",
    "            elif i > 0 and j == K:\n",
    "                row.append(P_0_k_j_K(j_1, i))\n",
    "            else:\n",
    "                row.append(O)\n",
    "        block.append(row)\n",
    "    return np.block(block)"
   ]
  },
  {
   "cell_type": "code",
   "execution_count": 39,
   "metadata": {},
   "outputs": [],
   "source": [
    "@cache\n",
    "def Y(l):\n",
    "    block = []\n",
    "    for i in range(K + 1):\n",
    "        row = []\n",
    "        for j in range(K + 1):\n",
    "            if i == 0 and j <= K - 1:        \n",
    "                row.append(P_i_0_j_k_(l, j))\n",
    "            elif i == 0 and j == K:\n",
    "                row.append(P_i_0_j_K(l)) \n",
    "            elif i > 0 and j >= i - 1 and j <= K - 1:\n",
    "                row.append(P_i_k_j_k_(l, i, j))\n",
    "            elif i > 0 and j == K:\n",
    "                row.append(P_i_k_j_K(l, i))\n",
    "            else:\n",
    "                row.append(O)\n",
    "        block.append(row)\n",
    "    return np.block(block)"
   ]
  },
  {
   "cell_type": "code",
   "execution_count": 40,
   "metadata": {},
   "outputs": [
    {
     "data": {
      "text/plain": [
       "matrix([[0.99999927],\n",
       "        [0.99999997],\n",
       "        [1.        ],\n",
       "        [1.        ],\n",
       "        [1.        ],\n",
       "        [1.        ],\n",
       "        [1.        ],\n",
       "        [1.        ],\n",
       "        [1.        ],\n",
       "        [1.        ]])"
      ]
     },
     "execution_count": 40,
     "metadata": {},
     "output_type": "execute_result"
    }
   ],
   "source": [
    "a = V(0).sum(axis=1)\n",
    "for x in range(1, 20):\n",
    "    a += V(x).sum(axis=1)\n",
    "a"
   ]
  },
  {
   "cell_type": "code",
   "execution_count": 41,
   "metadata": {},
   "outputs": [
    {
     "data": {
      "text/plain": [
       "matrix([[0.99999855],\n",
       "        [0.99999994],\n",
       "        [1.        ],\n",
       "        [1.        ],\n",
       "        [1.        ],\n",
       "        [1.        ],\n",
       "        [1.        ],\n",
       "        [1.        ],\n",
       "        [1.        ],\n",
       "        [1.        ]])"
      ]
     },
     "execution_count": 41,
     "metadata": {},
     "output_type": "execute_result"
    }
   ],
   "source": [
    "a = Y(0).sum(axis=1)\n",
    "for x in range(1, 20):\n",
    "    a += Y(x).sum(axis=1)\n",
    "a"
   ]
  },
  {
   "cell_type": "markdown",
   "metadata": {},
   "source": [
    "### Ergodicity"
   ]
  },
  {
   "cell_type": "code",
   "execution_count": 42,
   "metadata": {},
   "outputs": [],
   "source": [
    "def ksis():\n",
    "    ksis = np.zeros(K + 1)\n",
    "    ksis[0] = 1\n",
    "    varphi_0 = varphi_k(0)\n",
    "\n",
    "    for k in range(0, K):\n",
    "        summ = np.sum(np.array([ksis[i] * varphi_k(k + 1 - i) for i in range(1, k+1)]))\n",
    "        ksis[k + 1] = (ksis[k] - varphi_k(k) - summ) / varphi_0\n",
    "    return ksis"
   ]
  },
  {
   "cell_type": "code",
   "execution_count": 43,
   "metadata": {},
   "outputs": [],
   "source": [
    "def ergodicity():\n",
    "    u_0 = 1 / ksis().sum()\n",
    "    return lambd * b_1 + u_0 * lambd / gamma"
   ]
  },
  {
   "cell_type": "markdown",
   "metadata": {},
   "source": [
    "### Stationary distribution"
   ]
  },
  {
   "cell_type": "markdown",
   "metadata": {},
   "source": [
    " 1. Calculate the matrix $G$ as the minimal nonnegative solution to equation\n",
    " $$G = Y(G) = \\sum\\limits_{l=0}^{\\infty}Y_lG^l$$ \n",
    " \n",
    " We will use fixed-point iteration method:\n",
    " $$G_{k+1} = \\sum\\limits_{j=0, j\\neq1}^{\\infty}(I-Y_1)^{-1}Y_jG_k^j, k\\geq0, G_0 = I$$"
   ]
  },
  {
   "cell_type": "code",
   "execution_count": 44,
   "metadata": {},
   "outputs": [],
   "source": [
    "epsilon_G = 1e-10"
   ]
  },
  {
   "cell_type": "code",
   "execution_count": 45,
   "metadata": {},
   "outputs": [],
   "source": [
    "def sum_Y_G(G):\n",
    "    I_ = np.matrix(np.identity((W + 1) * (K + 1)))\n",
    "    norm = 1\n",
    "    j = 0\n",
    "    I_Y_1 = (I_ - Y(1))**(-1)\n",
    "    summa = I_Y_1 * Y(j) * G**j\n",
    "    j = 2\n",
    "    while norm > epsilon_G:\n",
    "        element = I_Y_1 * Y(j) * G**j\n",
    "        norm = LA.norm(element)\n",
    "        summa += element\n",
    "        j += 1\n",
    "    return summa"
   ]
  },
  {
   "cell_type": "code",
   "execution_count": 46,
   "metadata": {},
   "outputs": [],
   "source": [
    "def find_G():\n",
    "    Y_size = len(Y(0))\n",
    "    G_0 = np.matrix(np.identity(Y_size))\n",
    "    norm = 1\n",
    "    count = 0\n",
    "    while norm > epsilon_G:\n",
    "        G_1 = sum_Y_G(G_0)\n",
    "        norm = LA.norm(G_1 - G_0)\n",
    "        count += 1\n",
    "#        print(norm)\n",
    "        G_0 = G_1\n",
    "    return G_0"
   ]
  },
  {
   "cell_type": "code",
   "execution_count": 55,
   "metadata": {},
   "outputs": [
    {
     "data": {
      "text/plain": [
       "matrix([[0.99999997],\n",
       "        [1.        ],\n",
       "        [0.99999999],\n",
       "        [1.        ],\n",
       "        [1.        ],\n",
       "        [1.        ],\n",
       "        [1.        ],\n",
       "        [1.        ],\n",
       "        [1.        ],\n",
       "        [1.        ]])"
      ]
     },
     "execution_count": 55,
     "metadata": {},
     "output_type": "execute_result"
    }
   ],
   "source": [
    "G_0 = find_G()\n",
    "G_0.sum(axis=1)"
   ]
  },
  {
   "cell_type": "markdown",
   "metadata": {},
   "source": [
    "2. Calculate the matrices $\\bar{P}_{i,l}$ as follows:\n",
    "$$\\bar{P}_{0,l}=\\sum\\limits_{n=l}^{\\infty}V_nG^{n-l}, l\\geq0$$\n",
    "$$\\bar{P}_{i,l}=\\sum\\limits_{n=l-i+1}^{\\infty}Y_nG^{n-l+i-1}, l\\geq i, i\\geq0$$"
   ]
  },
  {
   "cell_type": "code",
   "execution_count": 56,
   "metadata": {},
   "outputs": [],
   "source": [
    "@cache\n",
    "def bar_0_l(l):\n",
    "    norm = 1\n",
    "    summa = 0\n",
    "    n = l\n",
    "    while norm > epsilon:\n",
    "        element = V(n) * G_0**(n - l)\n",
    "        summa += element\n",
    "        norm = LA.norm(element)\n",
    "        n += 1\n",
    "    return summa"
   ]
  },
  {
   "cell_type": "code",
   "execution_count": 57,
   "metadata": {},
   "outputs": [],
   "source": [
    "@cache\n",
    "def bar_i_l(i, l):\n",
    "    norm = 1\n",
    "    summa = 0\n",
    "    n = l - i + 1\n",
    "    while norm > epsilon:\n",
    "        element = Y(n) * G_0**(n - l + i - 1)\n",
    "        summa += element\n",
    "        norm = LA.norm(element)\n",
    "        n += 1\n",
    "    return summa"
   ]
  },
  {
   "cell_type": "markdown",
   "metadata": {},
   "source": [
    "3. Calculate the matrices $F_l, l\\geq 1$, using the recurrent firmulas\n",
    "$$F_l=(\\bar{P}_{0,l}+\\sum\\limits_{i=0}^{l-1}F_i\\bar{P}_{i,l})(I-\\bar{P}_{l,l})^{-1}, l\\geq1$$"
   ]
  },
  {
   "cell_type": "code",
   "execution_count": 58,
   "metadata": {},
   "outputs": [],
   "source": [
    "@cache\n",
    "def F_l(l):\n",
    "    I = np.matrix(np.identity((W + 1) * (K + 1)))\n",
    "    if l == 0:        \n",
    "        return I\n",
    "    else:\n",
    "        summa = np.matrix(np.zeros(((W + 1) * (K + 1), (W + 1) * (K + 1))))\n",
    "        for i in range(1, l):\n",
    "            summa += F_l(i) * bar_i_l(i, l)\n",
    "        return (bar_0_l(l) + summa) * ((I - bar_i_l(l, l))**(-1))"
   ]
  },
  {
   "cell_type": "markdown",
   "metadata": {},
   "source": [
    "4. Calculate the vector $\\bf{\\pi_0}$ as the unique solution of the system\n",
    "$$\\pi_0(I-\\bar{P}_{0,0})=0$$\n",
    "$$\\pi_0(I+\\sum\\limits_{l=1}^{\\infty}F_l)e=1$$"
   ]
  },
  {
   "cell_type": "code",
   "execution_count": 59,
   "metadata": {},
   "outputs": [],
   "source": [
    "def find_pi_0():\n",
    "    I_ = np.matrix(np.identity((W + 1) * (K + 1)))\n",
    "    e = np.matrix(np.ones(((W + 1) * (K + 1), 1)))\n",
    "    norm = 1\n",
    "    summa = 0\n",
    "    l = 1\n",
    "    while norm > epsilon_f:\n",
    "        element = F_l(l)\n",
    "        norm = LA.norm(element)\n",
    "        summa += element\n",
    "        l += 1\n",
    "    a = np.concatenate((\n",
    "        ((I_ + summa) * e).transpose(),\n",
    "        np.delete((I_ - bar_0_l(0)), 0, 1).transpose()\n",
    "        )\n",
    "    )\n",
    "    b = np.concatenate((\n",
    "        np.matrix(1), \n",
    "        np.zeros([(W + 1) * (K + 1) - 1,1]))\n",
    "    )\n",
    "    return LA.solve(a=a, b=b).T"
   ]
  },
  {
   "cell_type": "code",
   "execution_count": 60,
   "metadata": {
    "scrolled": true
   },
   "outputs": [
    {
     "data": {
      "text/plain": [
       "matrix([[0.03513746, 0.0026277 , 0.03753279, 0.00154347, 0.03728701,\n",
       "         0.00080309, 0.04179094, 0.00315783, 0.0171325 , 0.00148727]])"
      ]
     },
     "execution_count": 60,
     "metadata": {},
     "output_type": "execute_result"
    }
   ],
   "source": [
    "pi_0 = find_pi_0()\n",
    "pi_0"
   ]
  },
  {
   "cell_type": "markdown",
   "metadata": {},
   "source": [
    "$$\\pi_l=\\pi_0F_l, l\\geq1$$"
   ]
  },
  {
   "cell_type": "code",
   "execution_count": 463,
   "metadata": {},
   "outputs": [],
   "source": [
    "def pi_l(l):\n",
    "    if l == 0:\n",
    "        return find_pi_0()\n",
    "    else:\n",
    "        return find_pi_0() * F_l(l)"
   ]
  },
  {
   "cell_type": "code",
   "execution_count": 62,
   "metadata": {},
   "outputs": [],
   "source": [
    "def pi_l_array():\n",
    "    pi_i = []\n",
    "    pi_i.append(pi_0.copy())\n",
    "    l = 1\n",
    "    norm = 1\n",
    "    while norm > epsilon_f:\n",
    "        element = pi_l(l)\n",
    "        norm = LA.norm(element)\n",
    "        pi_i.append(element)\n",
    "        l +=1 \n",
    "    return pi_i"
   ]
  },
  {
   "cell_type": "code",
   "execution_count": 63,
   "metadata": {},
   "outputs": [],
   "source": [
    "pi_i = pi_l_array()"
   ]
  },
  {
   "cell_type": "code",
   "execution_count": 64,
   "metadata": {
    "scrolled": true
   },
   "outputs": [
    {
     "data": {
      "text/plain": [
       "0.9999999979472276"
      ]
     },
     "execution_count": 64,
     "metadata": {},
     "output_type": "execute_result"
    }
   ],
   "source": [
    "a = 0\n",
    "for x in pi_i:\n",
    "    a += x.sum()\n",
    "a"
   ]
  },
  {
   "cell_type": "code",
   "execution_count": 65,
   "metadata": {
    "scrolled": false
   },
   "outputs": [
    {
     "data": {
      "text/plain": [
       "matrix([[0.45505318, 0.03891502, 0.25492262, 0.01927079, 0.11390884,\n",
       "         0.00579201, 0.07701492, 0.00440371, 0.02893966, 0.00177924]])"
      ]
     },
     "execution_count": 65,
     "metadata": {},
     "output_type": "execute_result"
    }
   ],
   "source": [
    "sum(pi_i)"
   ]
  },
  {
   "cell_type": "code",
   "execution_count": 66,
   "metadata": {},
   "outputs": [
    {
     "data": {
      "text/plain": [
       "0.9999999979472277"
      ]
     },
     "execution_count": 66,
     "metadata": {},
     "output_type": "execute_result"
    }
   ],
   "source": [
    "sum(pi_i).sum()"
   ]
  },
  {
   "cell_type": "code",
   "execution_count": 67,
   "metadata": {},
   "outputs": [
    {
     "data": {
      "text/plain": [
       "0.7504092190832229"
      ]
     },
     "execution_count": 67,
     "metadata": {},
     "output_type": "execute_result"
    }
   ],
   "source": [
    "ergodicity()"
   ]
  },
  {
   "cell_type": "markdown",
   "metadata": {},
   "source": [
    "### Performance measures"
   ]
  },
  {
   "cell_type": "markdown",
   "metadata": {},
   "source": [
    "$$L = \\sum\\limits_{i=0}^{\\infty}i\\pi_ie$$"
   ]
  },
  {
   "cell_type": "code",
   "execution_count": 68,
   "metadata": {},
   "outputs": [
    {
     "data": {
      "text/plain": [
       "11.53764704299865"
      ]
     },
     "execution_count": 68,
     "metadata": {},
     "output_type": "execute_result"
    }
   ],
   "source": [
    "def find_L():\n",
    "    L = 0\n",
    "    e = np.matrix(np.ones(((W + 1) * (K + 1), 1)))\n",
    "    norm = 1\n",
    "    i = 1\n",
    "    while norm > epsilon:\n",
    "        norm = i * pi_l(i) * e\n",
    "        i += 1\n",
    "        L += norm\n",
    "    return float(L)\n",
    "L = find_L()\n",
    "L"
   ]
  },
  {
   "cell_type": "code",
   "execution_count": 76,
   "metadata": {},
   "outputs": [],
   "source": [
    "def result():\n",
    "    e = np.matrix(np.ones(((W + 1) * (K + 1), 1)))\n",
    "    with open('result.txt', 'w') as f:\n",
    "        f.write(\"-\" * 5 + \"Inputs\" + \"-\" * 5 + \"\\n\")\n",
    "        f.write('\\n- Accuracy -\\n')\n",
    "        f.write(f\"epsilon = {float(epsilon)}\\n\")\n",
    "        f.write(f\"epsilon_f = {float(epsilon_f)}\\n\")\n",
    "        f.write(f\"epsilon_G = {float(epsilon_G)}\\n\")\n",
    "        f.write('\\n- Params -\\n')\n",
    "        f.write(f\"D_0 = \\n{str(D_0)}\\n\")\n",
    "        f.write(f\"D_1 = \\n{str(D_1)}\\n\")\n",
    "        f.write(f\"lambda = {float(lambd)}\\n\")\n",
    "        f.write(f\"gamma = {float(gamma)}\\n\")\n",
    "        f.write(f\"b_1 = {float(b_1)}\\n\")\n",
    "        f.write(f\"K = {int(K)}\\n\")\n",
    "\n",
    "        f.write('\\n\\n')\n",
    "        f.write(\"-\" * 5 + \"Results\" + \"-\" * 5 + \"\\n\\n\")\n",
    "        f.write(f\"rho = {float(ergodicity())}\\n\\n\")\n",
    "        f.write(f\"L = {float(find_L())}\\n\\n\")\n",
    "#        f.write('\\n--- pi_i ---\\n')\n",
    "#        for i, x in enumerate(pi_i):\n",
    "#            f.write(f'pi_{i} = ')\n",
    "#            f.write(str(x))\n",
    "#            f.write('\\n')\n",
    "#        f.write('\\n')\n",
    "#        f.write('\\n--- pi_i * e ---\\n')\n",
    "        for i, x in enumerate(pi_i):\n",
    "            f.write(f'pi_{i}*e = ')\n",
    "            f.write(str(x * e))\n",
    "            f.write('\\n')\n",
    "        f.write('\\n\\n')\n",
    "        f.write('p_i = ')\n",
    "        p_ie = sum(pi_i)\n",
    "        f.write(str(p_ie))\n",
    "        f.write('\\n\\n')\n",
    "        f.write('p_i*e = ')\n",
    "        f.write(str(p_ie.sum()))\n",
    "result()"
   ]
  },
  {
   "cell_type": "code",
   "execution_count": 69,
   "metadata": {},
   "outputs": [],
   "source": [
    "def cache_clear():\n",
    "    varphi_k_t.cache_clear()\n",
    "    hat_varphi_k_t.cache_clear()\n",
    "    varphi_k.cache_clear()\n",
    "    hat_varphi_k.cache_clear()\n",
    "    P_i_t_z.cache_clear()\n",
    "    K_n.cache_clear()\n",
    "    Phi_i_k.cache_clear()\n",
    "    hat_Phi_i_k.cache_clear()\n",
    "    N.cache_clear()\n",
    "    M.cache_clear()\n",
    "    hat_M.cache_clear()\n",
    "    P_0_0_j_k_.cache_clear()\n",
    "    P_0_0_j_K_1.cache_clear()\n",
    "    P_0_0_j_K.cache_clear()\n",
    "    P_0_k_j_k_.cache_clear()\n",
    "    P_0_k_j_K_1.cache_clear()\n",
    "    P_0_k_j_K.cache_clear()\n",
    "    P_i_0_j_k_.cache_clear()\n",
    "    P_i_0_j_k_.cache_clear()\n",
    "    P_i_0_j_K.cache_clear()\n",
    "    P_i_0_j_K.cache_clear()\n",
    "    P_i_k_j_k_.cache_clear()\n",
    "    P_i_k_j_k_.cache_clear()\n",
    "    P_i_k_j_K.cache_clear()\n",
    "    P_i_k_j_K.cache_clear()\n",
    "    gamma_b_1_l.cache_clear()\n",
    "    V.cache_clear()\n",
    "    Y.cache_clear()\n",
    "    bar_0_l.cache_clear()\n",
    "    bar_i_l.cache_clear()\n",
    "    F_l.cache_clear()"
   ]
  },
  {
   "cell_type": "markdown",
   "metadata": {},
   "source": [
    "### Experiment 1"
   ]
  },
  {
   "cell_type": "code",
   "execution_count": 90,
   "metadata": {},
   "outputs": [],
   "source": [
    "Ds = [\n",
    "    (np.matrix([-lambd]), np.matrix([lambd])),\n",
    "    (np.matrix([\n",
    "        [-0.405780, 0],\n",
    "        [0, -0.013173]\n",
    "    ]),\n",
    "    np.matrix([\n",
    "        [0.403080, 0.0027],\n",
    "        [0.007338, 0.005835]\n",
    "    ])),\n",
    "        (np.matrix([\n",
    "    [-3.4, 0],\n",
    "    [0, -0.1103-8.67361738e-19]\n",
    "    ]),\n",
    "    np.matrix([\n",
    "    [3.3645, 0.0355 - 1.31838984e-16 + 1.99493200e-17 - 2.08166817e-17],\n",
    "    [0.0132-8.67361738e-19- 1.04083409e-17 + 1.73472348e-18, 0.0971]\n",
    "    ]))\n",
    "]"
   ]
  },
  {
   "cell_type": "code",
   "execution_count": 175,
   "metadata": {},
   "outputs": [
    {
     "name": "stderr",
     "output_type": "stream",
     "text": [
      "100%|█████████████████████████████████████████| 10/10 [00:00<00:00, 9108.15it/s]\n",
      "100%|████████████████████████████████████████| 10/10 [00:00<00:00, 10538.45it/s]\n",
      "100%|████████████████████████████████████████| 10/10 [00:00<00:00, 11211.72it/s]\n"
     ]
    }
   ],
   "source": [
    "b_1s = [0.5, 1, 1.5, 2]\n",
    "rhos_all = []\n",
    "#for b_1 in b_1s:\n",
    "for D in Ds:\n",
    "    D_0, D_1 = D\n",
    "    lambd = 0.3\n",
    "    h = np.diag(-D_0).max()\n",
    "    W = len(D_0) - 1\n",
    "    O = np.matrix(np.zeros((W + 1, W + 1)))\n",
    "    I = np.matrix(np.identity(W + 1))\n",
    "    D_0, D_1 = set_lambda(D_0, D_1)\n",
    "    h = np.diag(-D_0).max()\n",
    "    rhos = []\n",
    "    for K in tqdm(range(1, K_RANGE)):\n",
    "        cache_clear()\n",
    "        rhos.append(ergodicity())\n",
    "    rhos_all.append(rhos)"
   ]
  },
  {
   "cell_type": "code",
   "execution_count": 132,
   "metadata": {
    "scrolled": true
   },
   "outputs": [
    {
     "name": "stdout",
     "output_type": "stream",
     "text": [
      "0.7500000247156775\n"
     ]
    },
    {
     "name": "stderr",
     "output_type": "stream",
     "text": [
      "100%|███████████████████████████████████████████| 10/10 [00:25<00:00,  2.59s/it]\n"
     ]
    },
    {
     "name": "stdout",
     "output_type": "stream",
     "text": [
      "0.7500000247156775\n"
     ]
    },
    {
     "name": "stderr",
     "output_type": "stream",
     "text": [
      "100%|███████████████████████████████████████████| 10/10 [04:31<00:00, 27.17s/it]\n"
     ]
    },
    {
     "name": "stdout",
     "output_type": "stream",
     "text": [
      "0.7500000247156775\n"
     ]
    },
    {
     "name": "stderr",
     "output_type": "stream",
     "text": [
      "100%|███████████████████████████████████████| 10/10 [3:44:29<00:00, 1346.92s/it]\n"
     ]
    }
   ],
   "source": [
    "\n",
    "K_RANGE = 11\n",
    "\n",
    "rhos_all = []\n",
    "Ks_all = []\n",
    "for D in Ds:\n",
    "    D_0, D_1 = D\n",
    "    Ks = []\n",
    "    rhos = []\n",
    "    h = np.diag(-D_0).max()\n",
    "    W = len(D_0) - 1\n",
    "    O = np.matrix(np.zeros((W + 1, W + 1)))\n",
    "    I = np.matrix(np.identity(W + 1))\n",
    "    matrix_size = len(D_0)\n",
    "    cache_clear()\n",
    "    lambd = 0.3\n",
    "    D_0, D_1 = set_lambda(D_0, D_1)\n",
    "    h = np.diag(-D_0).max()\n",
    "    cache_clear()\n",
    "    print(ergodicity())\n",
    "    for K in tqdm(range(1, K_RANGE)):\n",
    "        cache_clear()\n",
    "        G_0 = find_G()\n",
    "        pi_0 = find_pi_0()\n",
    "        Ks.append(find_L())\n",
    "        rhos.append(ergodicity())\n",
    "    Ks_all.append(Ks)\n",
    "    rhos_all.append(rhos)"
   ]
  },
  {
   "cell_type": "code",
   "execution_count": 1541,
   "metadata": {
    "scrolled": true
   },
   "outputs": [
    {
     "name": "stderr",
     "output_type": "stream",
     "text": [
      "100%|███████████████████████████████████████████| 19/19 [01:14<00:00,  3.93s/it]\n",
      "100%|███████████████████████████████████████████| 19/19 [01:22<00:00,  4.33s/it]\n",
      "100%|███████████████████████████████████████████| 19/19 [01:20<00:00,  4.23s/it]\n",
      "100%|███████████████████████████████████████████| 19/19 [01:21<00:00,  4.29s/it]\n"
     ]
    }
   ],
   "source": [
    "b_1s = [0.5, 1, 1.5, 2]\n",
    "Ks_all = []\n",
    "for b_1 in b_1s:\n",
    "    Ks = []\n",
    "    for K in tqdm(range(1, 20)):\n",
    "        cache_clear()\n",
    "        G_0 = find_G()\n",
    "        pi_0 = find_pi_0()\n",
    "        Ks.append(find_L())\n",
    "    Ks_all.append(Ks)"
   ]
  },
  {
   "cell_type": "code",
   "execution_count": 172,
   "metadata": {},
   "outputs": [],
   "source": [
    "Ks_all = [[3.2041186028556075,\n",
    "  2.1064745390408635,\n",
    "  1.6317581904395786,\n",
    "  1.3102982004774428,\n",
    "  1.0731732331343935,\n",
    "  0.8958327147957804,\n",
    "  0.7629114255748229,\n",
    "  0.6632419736440284,\n",
    "  0.5884974617243494,\n",
    "  0.5324421429241166],\n",
    " [24.009225390695075,\n",
    "  14.38667069528094,\n",
    "  12.42176192804713,\n",
    "  11.471172815270478,\n",
    "  10.728423487040708,\n",
    "  10.059265032959093,\n",
    "  9.438113164005845,\n",
    "  8.8582040107282,\n",
    "  8.316206614432375,\n",
    "  7.809533074325381],\n",
    " [202.56745096091572,\n",
    "  160.71269025637025,\n",
    "  153.3062853176308,\n",
    "  151.14788747530056,\n",
    "  149.97828896538172,\n",
    "  149.00562661390583,\n",
    "  148.07695360933138,\n",
    "  147.16234526298038,\n",
    "  146.25588750086155,\n",
    "  145.35626143775795]]"
   ]
  },
  {
   "cell_type": "code",
   "execution_count": 206,
   "metadata": {
    "scrolled": false
   },
   "outputs": [
    {
     "data": {
      "image/png": "[encoded data removed]",
      "text/plain": [
       "<Figure size 1080x720 with 1 Axes>"
      ]
     },
     "metadata": {
      "needs_background": "light"
     },
     "output_type": "display_data"
    }
   ],
   "source": [
    "linestyles = ['-', '--', '-.', ':', '-']\n",
    "fig = plt.figure(figsize=(15, 10))\n",
    "ax = plt.gca()\n",
    "\n",
    "ax.set_prop_cycle(cycler('color', \n",
    "                          ['b', 'r', 'g', 'blueviolet']))\n",
    "\n",
    "labels = ['$c_{cor}=0$', '$c_{cor}=0.2$', '$c_{cor}=0.4$']\n",
    "x = np.linspace(1, K_RANGE - 1, K_RANGE - 1)\n",
    "for k, style, b, label in zip(Ks_all, linestyles, b_1s, labels):\n",
    "    cubic_interploation_model=interp1d(x,k,kind=\"quadratic\")\n",
    "    tck = interpolate.splrep(x, k, s=0, k=5)\n",
    "    xs = np.linspace(1, K_RANGE - 1, 100)\n",
    "    ys = np.log10(interpolate.splev(xs, tck, der=0))\n",
    "    #ys = interpolate.splev(xs, tck, der=0)\n",
    "#    xs=np.linspace(1,20,60)\n",
    "#    ys=cubic_interploation_model(xs)\n",
    "    ax.plot(xs, ys, label = label, linestyle=style, linewidth=3)\n",
    "\n",
    "plt.xlabel('$K$', fontsize=20)\n",
    "plt.ylabel('$logL$', fontsize=20)\n",
    "plt.xticks(fontsize=20)\n",
    "plt.yticks(fontsize=20)\n",
    "plt.legend(prop={'size': 20}, loc=0);\n",
    "\n",
    "ax.set_xticks(x)\n",
    "filename = 'exp_1/K_L_log'\n",
    "#fig.savefig(f'{filename}.png', format='png', dpi=600)\n",
    "#fig.savefig(f'{filename}.jpg', format='jpg', dpi=600)\n",
    "plt.show();\n"
   ]
  },
  {
   "cell_type": "code",
   "execution_count": 178,
   "metadata": {},
   "outputs": [
    {
     "data": {
      "text/html": [
       "<div>\n",
       "<style scoped>\n",
       "    .dataframe tbody tr th:only-of-type {\n",
       "        vertical-align: middle;\n",
       "    }\n",
       "\n",
       "    .dataframe tbody tr th {\n",
       "        vertical-align: top;\n",
       "    }\n",
       "\n",
       "    .dataframe thead th {\n",
       "        text-align: right;\n",
       "    }\n",
       "</style>\n",
       "<table border=\"1\" class=\"dataframe\">\n",
       "  <thead>\n",
       "    <tr style=\"text-align: right;\">\n",
       "      <th></th>\n",
       "      <th>$c_{cor}$=0</th>\n",
       "      <th>$c_{cor}$=0.2</th>\n",
       "      <th>$c_{cor}$=0.4</th>\n",
       "    </tr>\n",
       "  </thead>\n",
       "  <tbody>\n",
       "    <tr>\n",
       "      <th>1</th>\n",
       "      <td>3.204119</td>\n",
       "      <td>24.009225</td>\n",
       "      <td>202.567451</td>\n",
       "    </tr>\n",
       "    <tr>\n",
       "      <th>2</th>\n",
       "      <td>2.106475</td>\n",
       "      <td>14.386671</td>\n",
       "      <td>160.712690</td>\n",
       "    </tr>\n",
       "    <tr>\n",
       "      <th>3</th>\n",
       "      <td>1.631758</td>\n",
       "      <td>12.421762</td>\n",
       "      <td>153.306285</td>\n",
       "    </tr>\n",
       "    <tr>\n",
       "      <th>4</th>\n",
       "      <td>1.310298</td>\n",
       "      <td>11.471173</td>\n",
       "      <td>151.147887</td>\n",
       "    </tr>\n",
       "    <tr>\n",
       "      <th>5</th>\n",
       "      <td>1.073173</td>\n",
       "      <td>10.728423</td>\n",
       "      <td>149.978289</td>\n",
       "    </tr>\n",
       "    <tr>\n",
       "      <th>6</th>\n",
       "      <td>0.895833</td>\n",
       "      <td>10.059265</td>\n",
       "      <td>149.005627</td>\n",
       "    </tr>\n",
       "    <tr>\n",
       "      <th>7</th>\n",
       "      <td>0.762911</td>\n",
       "      <td>9.438113</td>\n",
       "      <td>148.076954</td>\n",
       "    </tr>\n",
       "    <tr>\n",
       "      <th>8</th>\n",
       "      <td>0.663242</td>\n",
       "      <td>8.858204</td>\n",
       "      <td>147.162345</td>\n",
       "    </tr>\n",
       "    <tr>\n",
       "      <th>9</th>\n",
       "      <td>0.588497</td>\n",
       "      <td>8.316207</td>\n",
       "      <td>146.255888</td>\n",
       "    </tr>\n",
       "    <tr>\n",
       "      <th>10</th>\n",
       "      <td>0.532442</td>\n",
       "      <td>7.809533</td>\n",
       "      <td>145.356261</td>\n",
       "    </tr>\n",
       "  </tbody>\n",
       "</table>\n",
       "</div>"
      ],
      "text/plain": [
       "    $c_{cor}$=0  $c_{cor}$=0.2  $c_{cor}$=0.4\n",
       "1      3.204119      24.009225     202.567451\n",
       "2      2.106475      14.386671     160.712690\n",
       "3      1.631758      12.421762     153.306285\n",
       "4      1.310298      11.471173     151.147887\n",
       "5      1.073173      10.728423     149.978289\n",
       "6      0.895833      10.059265     149.005627\n",
       "7      0.762911       9.438113     148.076954\n",
       "8      0.663242       8.858204     147.162345\n",
       "9      0.588497       8.316207     146.255888\n",
       "10     0.532442       7.809533     145.356261"
      ]
     },
     "execution_count": 178,
     "metadata": {},
     "output_type": "execute_result"
    }
   ],
   "source": [
    "columns = ['$c_{cor}$=0','$c_{cor}$=0.2','$c_{cor}$=0.4']\n",
    "df_K = pd.DataFrame(np.array(Ks_all).T, \n",
    "             columns=columns,\n",
    "            index=list(range(1,K_RANGE)))\n",
    "df_K.to_excel('exp_1/K.xlsx')\n",
    "df_K"
   ]
  },
  {
   "cell_type": "code",
   "execution_count": 176,
   "metadata": {},
   "outputs": [
    {
     "data": {
      "text/html": [
       "<div>\n",
       "<style scoped>\n",
       "    .dataframe tbody tr th:only-of-type {\n",
       "        vertical-align: middle;\n",
       "    }\n",
       "\n",
       "    .dataframe tbody tr th {\n",
       "        vertical-align: top;\n",
       "    }\n",
       "\n",
       "    .dataframe thead th {\n",
       "        text-align: right;\n",
       "    }\n",
       "</style>\n",
       "<table border=\"1\" class=\"dataframe\">\n",
       "  <thead>\n",
       "    <tr style=\"text-align: right;\">\n",
       "      <th></th>\n",
       "      <th>$c_{cor}$=0</th>\n",
       "      <th>$c_{cor}$=0.2</th>\n",
       "      <th>$c_{cor}$=0.4</th>\n",
       "    </tr>\n",
       "  </thead>\n",
       "  <tbody>\n",
       "    <tr>\n",
       "      <th>1</th>\n",
       "      <td>0.802740</td>\n",
       "      <td>0.802740</td>\n",
       "      <td>0.802740</td>\n",
       "    </tr>\n",
       "    <tr>\n",
       "      <th>2</th>\n",
       "      <td>0.760459</td>\n",
       "      <td>0.760459</td>\n",
       "      <td>0.760459</td>\n",
       "    </tr>\n",
       "    <tr>\n",
       "      <th>3</th>\n",
       "      <td>0.752071</td>\n",
       "      <td>0.752071</td>\n",
       "      <td>0.752071</td>\n",
       "    </tr>\n",
       "    <tr>\n",
       "      <th>4</th>\n",
       "      <td>0.750409</td>\n",
       "      <td>0.750409</td>\n",
       "      <td>0.750409</td>\n",
       "    </tr>\n",
       "    <tr>\n",
       "      <th>5</th>\n",
       "      <td>0.750081</td>\n",
       "      <td>0.750081</td>\n",
       "      <td>0.750081</td>\n",
       "    </tr>\n",
       "    <tr>\n",
       "      <th>6</th>\n",
       "      <td>0.750016</td>\n",
       "      <td>0.750016</td>\n",
       "      <td>0.750016</td>\n",
       "    </tr>\n",
       "    <tr>\n",
       "      <th>7</th>\n",
       "      <td>0.750003</td>\n",
       "      <td>0.750003</td>\n",
       "      <td>0.750003</td>\n",
       "    </tr>\n",
       "    <tr>\n",
       "      <th>8</th>\n",
       "      <td>0.750001</td>\n",
       "      <td>0.750001</td>\n",
       "      <td>0.750001</td>\n",
       "    </tr>\n",
       "    <tr>\n",
       "      <th>9</th>\n",
       "      <td>0.750000</td>\n",
       "      <td>0.750000</td>\n",
       "      <td>0.750000</td>\n",
       "    </tr>\n",
       "    <tr>\n",
       "      <th>10</th>\n",
       "      <td>0.750000</td>\n",
       "      <td>0.750000</td>\n",
       "      <td>0.750000</td>\n",
       "    </tr>\n",
       "  </tbody>\n",
       "</table>\n",
       "</div>"
      ],
      "text/plain": [
       "    $c_{cor}$=0  $c_{cor}$=0.2  $c_{cor}$=0.4\n",
       "1      0.802740       0.802740       0.802740\n",
       "2      0.760459       0.760459       0.760459\n",
       "3      0.752071       0.752071       0.752071\n",
       "4      0.750409       0.750409       0.750409\n",
       "5      0.750081       0.750081       0.750081\n",
       "6      0.750016       0.750016       0.750016\n",
       "7      0.750003       0.750003       0.750003\n",
       "8      0.750001       0.750001       0.750001\n",
       "9      0.750000       0.750000       0.750000\n",
       "10     0.750000       0.750000       0.750000"
      ]
     },
     "execution_count": 176,
     "metadata": {},
     "output_type": "execute_result"
    }
   ],
   "source": [
    "columns = ['$c_{cor}$=0','$c_{cor}$=0.2','$c_{cor}$=0.4']\n",
    "df_rho = pd.DataFrame(np.array(rhos_all).T, \n",
    "             columns=columns,\n",
    "            index=list(range(1,K_RANGE)))\n",
    "df_rho.to_excel('exp_1/rho.xlsx')\n",
    "df_rho"
   ]
  },
  {
   "cell_type": "markdown",
   "metadata": {},
   "source": [
    "### Experiment 2"
   ]
  },
  {
   "cell_type": "code",
   "execution_count": 184,
   "metadata": {},
   "outputs": [
    {
     "name": "stderr",
     "output_type": "stream",
     "text": [
      "100%|█████████████████████████████████████████| 10/10 [00:00<00:00, 6336.76it/s]\n",
      "100%|█████████████████████████████████████████| 10/10 [00:00<00:00, 9057.02it/s]\n",
      "100%|████████████████████████████████████████| 10/10 [00:00<00:00, 10428.40it/s]\n",
      "100%|████████████████████████████████████████| 10/10 [00:00<00:00, 10559.68it/s]\n"
     ]
    }
   ],
   "source": [
    "b_1s = [0.5, 1, 1.5, 2]\n",
    "rhos_all = []\n",
    "\n",
    "D_0, D_1 = Ds[1]\n",
    "lambd = find_lambda_g()\n",
    "for b_1 in b_1s:\n",
    "    h = np.diag(-D_0).max()\n",
    "    W = len(D_0) - 1\n",
    "    O = np.matrix(np.zeros((W + 1, W + 1)))\n",
    "    I = np.matrix(np.identity(W + 1))\n",
    "    rhos = []\n",
    "    for K in tqdm(range(1, K_RANGE)):\n",
    "        cache_clear()\n",
    "        rhos.append(ergodicity())\n",
    "    rhos_all.append(rhos)"
   ]
  },
  {
   "cell_type": "code",
   "execution_count": 209,
   "metadata": {},
   "outputs": [
    {
     "data": {
      "text/html": [
       "<div>\n",
       "<style scoped>\n",
       "    .dataframe tbody tr th:only-of-type {\n",
       "        vertical-align: middle;\n",
       "    }\n",
       "\n",
       "    .dataframe tbody tr th {\n",
       "        vertical-align: top;\n",
       "    }\n",
       "\n",
       "    .dataframe thead th {\n",
       "        text-align: right;\n",
       "    }\n",
       "</style>\n",
       "<table border=\"1\" class=\"dataframe\">\n",
       "  <thead>\n",
       "    <tr style=\"text-align: right;\">\n",
       "      <th></th>\n",
       "      <th>$b_1$=0.5</th>\n",
       "      <th>$b_1$=1</th>\n",
       "      <th>$b_1$=1.5</th>\n",
       "      <th>$b_1$=2</th>\n",
       "    </tr>\n",
       "  </thead>\n",
       "  <tbody>\n",
       "    <tr>\n",
       "      <th>1</th>\n",
       "      <td>0.764500</td>\n",
       "      <td>0.803215</td>\n",
       "      <td>0.862118</td>\n",
       "      <td>0.937551</td>\n",
       "    </tr>\n",
       "    <tr>\n",
       "      <th>2</th>\n",
       "      <td>0.751625</td>\n",
       "      <td>0.760908</td>\n",
       "      <td>0.787265</td>\n",
       "      <td>0.836894</td>\n",
       "    </tr>\n",
       "    <tr>\n",
       "      <th>3</th>\n",
       "      <td>0.750531</td>\n",
       "      <td>0.752516</td>\n",
       "      <td>0.763802</td>\n",
       "      <td>0.797296</td>\n",
       "    </tr>\n",
       "    <tr>\n",
       "      <th>4</th>\n",
       "      <td>0.750450</td>\n",
       "      <td>0.750853</td>\n",
       "      <td>0.755486</td>\n",
       "      <td>0.777896</td>\n",
       "    </tr>\n",
       "    <tr>\n",
       "      <th>5</th>\n",
       "      <td>0.750444</td>\n",
       "      <td>0.750525</td>\n",
       "      <td>0.752378</td>\n",
       "      <td>0.767212</td>\n",
       "    </tr>\n",
       "    <tr>\n",
       "      <th>6</th>\n",
       "      <td>0.750444</td>\n",
       "      <td>0.750460</td>\n",
       "      <td>0.751191</td>\n",
       "      <td>0.760932</td>\n",
       "    </tr>\n",
       "    <tr>\n",
       "      <th>7</th>\n",
       "      <td>0.750444</td>\n",
       "      <td>0.750447</td>\n",
       "      <td>0.750733</td>\n",
       "      <td>0.757098</td>\n",
       "    </tr>\n",
       "    <tr>\n",
       "      <th>8</th>\n",
       "      <td>0.750443</td>\n",
       "      <td>0.750444</td>\n",
       "      <td>0.750556</td>\n",
       "      <td>0.754703</td>\n",
       "    </tr>\n",
       "    <tr>\n",
       "      <th>9</th>\n",
       "      <td>0.750443</td>\n",
       "      <td>0.750444</td>\n",
       "      <td>0.750487</td>\n",
       "      <td>0.753185</td>\n",
       "    </tr>\n",
       "    <tr>\n",
       "      <th>10</th>\n",
       "      <td>0.750443</td>\n",
       "      <td>0.750444</td>\n",
       "      <td>0.750460</td>\n",
       "      <td>0.752214</td>\n",
       "    </tr>\n",
       "  </tbody>\n",
       "</table>\n",
       "</div>"
      ],
      "text/plain": [
       "    $b_1$=0.5   $b_1$=1  $b_1$=1.5   $b_1$=2\n",
       "1    0.764500  0.803215   0.862118  0.937551\n",
       "2    0.751625  0.760908   0.787265  0.836894\n",
       "3    0.750531  0.752516   0.763802  0.797296\n",
       "4    0.750450  0.750853   0.755486  0.777896\n",
       "5    0.750444  0.750525   0.752378  0.767212\n",
       "6    0.750444  0.750460   0.751191  0.760932\n",
       "7    0.750444  0.750447   0.750733  0.757098\n",
       "8    0.750443  0.750444   0.750556  0.754703\n",
       "9    0.750443  0.750444   0.750487  0.753185\n",
       "10   0.750443  0.750444   0.750460  0.752214"
      ]
     },
     "execution_count": 209,
     "metadata": {},
     "output_type": "execute_result"
    }
   ],
   "source": [
    "columns = ['$b_1$=0.5','$b_1$=1','$b_1$=1.5', '$b_1$=2']\n",
    "df_rho = pd.DataFrame(np.array(rhos_all).T, \n",
    "             columns=columns,\n",
    "            index=list(range(1,K_RANGE)))\n",
    "df_rho.to_excel('exp_1_1/rho.xlsx')\n",
    "df_rho"
   ]
  },
  {
   "cell_type": "code",
   "execution_count": 193,
   "metadata": {},
   "outputs": [
    {
     "name": "stdout",
     "output_type": "stream",
     "text": [
      "0.7644998715930141\n"
     ]
    },
    {
     "name": "stderr",
     "output_type": "stream",
     "text": [
      "100%|███████████████████████████████████████████| 10/10 [04:41<00:00, 28.15s/it]\n"
     ]
    },
    {
     "name": "stdout",
     "output_type": "stream",
     "text": [
      "0.7504435244314284\n"
     ]
    },
    {
     "name": "stderr",
     "output_type": "stream",
     "text": [
      "100%|███████████████████████████████████████████| 10/10 [04:53<00:00, 29.35s/it]\n"
     ]
    },
    {
     "name": "stdout",
     "output_type": "stream",
     "text": [
      "0.7504603507360166\n"
     ]
    },
    {
     "name": "stderr",
     "output_type": "stream",
     "text": [
      "100%|███████████████████████████████████████████| 10/10 [05:54<00:00, 35.50s/it]\n"
     ]
    },
    {
     "name": "stdout",
     "output_type": "stream",
     "text": [
      "0.7522137357590761\n"
     ]
    },
    {
     "name": "stderr",
     "output_type": "stream",
     "text": [
      "100%|███████████████████████████████████████████| 10/10 [13:53<00:00, 83.35s/it]\n"
     ]
    }
   ],
   "source": [
    "K_RANGE = 11\n",
    "\n",
    "Ls_all = []\n",
    "lambd = find_lambda_g()\n",
    "for b_1 in b_1s:\n",
    "    cache_clear()\n",
    "    Ls = []\n",
    "    h = np.diag(-D_0).max()\n",
    "    W = len(D_0) - 1\n",
    "    O = np.matrix(np.zeros((W + 1, W + 1)))\n",
    "    I = np.matrix(np.identity(W + 1))\n",
    "    matrix_size = len(D_0)\n",
    "    print(ergodicity())\n",
    "    for K in tqdm(range(1, K_RANGE)):\n",
    "        cache_clear()\n",
    "        G_0 = find_G()\n",
    "        pi_0 = find_pi_0()\n",
    "        Ls.append(find_L())\n",
    "    Ls_all.append(Ls)\n"
   ]
  },
  {
   "cell_type": "code",
   "execution_count": 199,
   "metadata": {},
   "outputs": [
    {
     "data": {
      "image/png": "[encoded data removed]",
      "text/plain": [
       "<Figure size 1080x720 with 1 Axes>"
      ]
     },
     "metadata": {
      "needs_background": "light"
     },
     "output_type": "display_data"
    }
   ],
   "source": [
    "linestyles = ['-', '--', '-.', ':', '-']\n",
    "fig = plt.figure(figsize=(15, 10))\n",
    "ax = plt.gca()\n",
    "\n",
    "ax.set_prop_cycle(cycler('color', \n",
    "                          ['b', 'r', 'g', 'blueviolet']))\n",
    "\n",
    "labels = ['$b_1$=0.5','$b_1$=1','$b_1$=1.5', '$b_1$=2']\n",
    "x = np.linspace(1, K_RANGE - 1, K_RANGE - 1)\n",
    "for k, style, b, label in zip(Ls_all, linestyles, b_1s, labels):\n",
    "    cubic_interploation_model=interp1d(x,k,kind=\"quadratic\")\n",
    "    tck = interpolate.splrep(x, k, s=0, k=5)\n",
    "    xs = np.linspace(1, K_RANGE - 1, 100)\n",
    "    #ys = np.log10(interpolate.splev(xs, tck, der=0))\n",
    "    ys = interpolate.splev(xs, tck, der=0)\n",
    "#    xs=np.linspace(1,20,60)\n",
    "#    ys=cubic_interploation_model(xs)\n",
    "    ax.plot(xs, ys, label = label, linestyle=style, linewidth=3)\n",
    "\n",
    "plt.xlabel('$K$', fontsize=20)\n",
    "plt.ylabel('$L$', fontsize=20)\n",
    "plt.xticks(fontsize=20)\n",
    "plt.yticks(fontsize=20)\n",
    "plt.legend(prop={'size': 20}, loc=0);\n",
    "\n",
    "ax.set_xticks(x)\n",
    "filename = 'exp_1_1/K_L_b_1'\n",
    "#fig.savefig(f'{filename}.png', format='png', dpi=600)\n",
    "#fig.savefig(f'{filename}.jpg', format='jpg', dpi=600)\n",
    "plt.show();\n",
    "\n"
   ]
  },
  {
   "cell_type": "code",
   "execution_count": 211,
   "metadata": {},
   "outputs": [
    {
     "data": {
      "text/html": [
       "<div>\n",
       "<style scoped>\n",
       "    .dataframe tbody tr th:only-of-type {\n",
       "        vertical-align: middle;\n",
       "    }\n",
       "\n",
       "    .dataframe tbody tr th {\n",
       "        vertical-align: top;\n",
       "    }\n",
       "\n",
       "    .dataframe thead th {\n",
       "        text-align: right;\n",
       "    }\n",
       "</style>\n",
       "<table border=\"1\" class=\"dataframe\">\n",
       "  <thead>\n",
       "    <tr style=\"text-align: right;\">\n",
       "      <th></th>\n",
       "      <th>$b_1$=0.5</th>\n",
       "      <th>$b_1$=1</th>\n",
       "      <th>$b_1$=1.5</th>\n",
       "      <th>$b_1$=2</th>\n",
       "    </tr>\n",
       "  </thead>\n",
       "  <tbody>\n",
       "    <tr>\n",
       "      <th>1</th>\n",
       "      <td>15.737831</td>\n",
       "      <td>24.142544</td>\n",
       "      <td>47.685221</td>\n",
       "      <td>143.056004</td>\n",
       "    </tr>\n",
       "    <tr>\n",
       "      <th>2</th>\n",
       "      <td>12.927491</td>\n",
       "      <td>14.464104</td>\n",
       "      <td>19.476710</td>\n",
       "      <td>34.559980</td>\n",
       "    </tr>\n",
       "    <tr>\n",
       "      <th>3</th>\n",
       "      <td>11.975889</td>\n",
       "      <td>12.490591</td>\n",
       "      <td>14.379347</td>\n",
       "      <td>21.230054</td>\n",
       "    </tr>\n",
       "    <tr>\n",
       "      <th>4</th>\n",
       "      <td>11.205624</td>\n",
       "      <td>11.537647</td>\n",
       "      <td>12.496726</td>\n",
       "      <td>16.448138</td>\n",
       "    </tr>\n",
       "    <tr>\n",
       "      <th>5</th>\n",
       "      <td>10.493347</td>\n",
       "      <td>10.793531</td>\n",
       "      <td>11.440913</td>\n",
       "      <td>14.051885</td>\n",
       "    </tr>\n",
       "    <tr>\n",
       "      <th>6</th>\n",
       "      <td>9.827756</td>\n",
       "      <td>10.123086</td>\n",
       "      <td>10.664196</td>\n",
       "      <td>12.588538</td>\n",
       "    </tr>\n",
       "    <tr>\n",
       "      <th>7</th>\n",
       "      <td>9.205344</td>\n",
       "      <td>9.500576</td>\n",
       "      <td>10.006020</td>\n",
       "      <td>11.563883</td>\n",
       "    </tr>\n",
       "    <tr>\n",
       "      <th>8</th>\n",
       "      <td>8.623279</td>\n",
       "      <td>8.919224</td>\n",
       "      <td>9.413335</td>\n",
       "      <td>10.772838</td>\n",
       "    </tr>\n",
       "    <tr>\n",
       "      <th>9</th>\n",
       "      <td>8.078944</td>\n",
       "      <td>8.375710</td>\n",
       "      <td>8.866863</td>\n",
       "      <td>10.119182</td>\n",
       "    </tr>\n",
       "    <tr>\n",
       "      <th>10</th>\n",
       "      <td>7.569893</td>\n",
       "      <td>7.867462</td>\n",
       "      <td>8.358539</td>\n",
       "      <td>9.553919</td>\n",
       "    </tr>\n",
       "  </tbody>\n",
       "</table>\n",
       "</div>"
      ],
      "text/plain": [
       "    $b_1$=0.5    $b_1$=1  $b_1$=1.5     $b_1$=2\n",
       "1   15.737831  24.142544  47.685221  143.056004\n",
       "2   12.927491  14.464104  19.476710   34.559980\n",
       "3   11.975889  12.490591  14.379347   21.230054\n",
       "4   11.205624  11.537647  12.496726   16.448138\n",
       "5   10.493347  10.793531  11.440913   14.051885\n",
       "6    9.827756  10.123086  10.664196   12.588538\n",
       "7    9.205344   9.500576  10.006020   11.563883\n",
       "8    8.623279   8.919224   9.413335   10.772838\n",
       "9    8.078944   8.375710   8.866863   10.119182\n",
       "10   7.569893   7.867462   8.358539    9.553919"
      ]
     },
     "execution_count": 211,
     "metadata": {},
     "output_type": "execute_result"
    }
   ],
   "source": [
    "columns = ['$b_1$=0.5','$b_1$=1','$b_1$=1.5', '$b_1$=2']\n",
    "df_rho = pd.DataFrame(np.array(Ls_all).T, \n",
    "             columns=columns,\n",
    "            index=list(range(1,K_RANGE)))\n",
    "df_rho.to_excel('exp_1_1/L.xlsx')\n",
    "df_rho"
   ]
  },
  {
   "cell_type": "markdown",
   "metadata": {},
   "source": [
    "### Experiment 2"
   ]
  },
  {
   "cell_type": "markdown",
   "metadata": {},
   "source": [
    "#### N"
   ]
  },
  {
   "cell_type": "code",
   "execution_count": 255,
   "metadata": {},
   "outputs": [
    {
     "name": "stderr",
     "output_type": "stream",
     "text": [
      "100%|███████████████████████████████████████████| 20/20 [14:54<00:00, 44.73s/it]\n",
      "100%|███████████████████████████████████████████| 20/20 [14:31<00:00, 43.60s/it]\n",
      "100%|███████████████████████████████████████████| 20/20 [15:40<00:00, 47.01s/it]\n",
      "100%|███████████████████████████████████████████| 20/20 [24:02<00:00, 72.13s/it]\n"
     ]
    }
   ],
   "source": [
    "K_RANGE = 21\n",
    "\n",
    "Ns_all = []\n",
    "lambd = find_lambda_g()\n",
    "for b_1 in b_1s:\n",
    "    cache_clear()\n",
    "    Ns = []\n",
    "    h = np.diag(-D_0).max()\n",
    "    W = len(D_0) - 1\n",
    "    O = np.matrix(np.zeros((W + 1, W + 1)))\n",
    "    I = np.matrix(np.identity(W + 1))\n",
    "    matrix_size = len(D_0)\n",
    "    for K in tqdm(range(1, K_RANGE)):\n",
    "        cache_clear()\n",
    "        G_0 = find_G()\n",
    "        pi_0 = find_pi_0()\n",
    "        Ns.append(find_N())\n",
    "    Ns_all.append(Ns)"
   ]
  },
  {
   "cell_type": "code",
   "execution_count": 277,
   "metadata": {},
   "outputs": [
    {
     "data": {
      "image/png": "[encoded data removed]",
      "text/plain": [
       "<Figure size 1080x720 with 1 Axes>"
      ]
     },
     "metadata": {
      "needs_background": "light"
     },
     "output_type": "display_data"
    }
   ],
   "source": [
    "linestyles = ['-', '--', '-.', ':', '-']\n",
    "fig = plt.figure(figsize=(15, 10))\n",
    "ax = plt.gca()\n",
    "\n",
    "ax.set_prop_cycle(cycler('color', \n",
    "                          ['b', 'r', 'g', 'blueviolet']))\n",
    "\n",
    "labels = ['$b_1$=0.5','$b_1$=1','$b_1$=1.5', '$b_1$=2']\n",
    "x = np.linspace(1, K_RANGE - 1, K_RANGE - 1)\n",
    "for k, style, b, label in zip(Ns_all, linestyles, b_1s, labels):\n",
    "    cubic_interploation_model=interp1d(x,k,kind=\"quadratic\")\n",
    "    tck = interpolate.splrep(x, k, s=0, k=5)\n",
    "    xs = np.linspace(1, K_RANGE - 1, 100)\n",
    "    #ys = np.log10(interpolate.splev(xs, tck, der=0))\n",
    "    ys = interpolate.splev(xs, tck, der=0)\n",
    "#    xs=np.linspace(1,20,60)\n",
    "#    ys=cubic_interploation_model(xs)\n",
    "    ax.plot(xs, ys, label = label, linestyle=style, linewidth=3)\n",
    "\n",
    "plt.xlabel('$K$', fontsize=20)\n",
    "plt.ylabel('$N$', fontsize=20)\n",
    "plt.xticks(fontsize=20)\n",
    "plt.yticks(fontsize=20)\n",
    "plt.legend(prop={'size': 20}, loc=0);\n",
    "\n",
    "ax.set_xticks(x)\n",
    "filename = 'exp_1_2/K_N_b_1'\n",
    "fig.savefig(f'{filename}.png', format='png', dpi=600)\n",
    "fig.savefig(f'{filename}.jpg', format='jpg', dpi=600)\n",
    "plt.show();\n",
    "\n",
    "\n"
   ]
  },
  {
   "cell_type": "code",
   "execution_count": 316,
   "metadata": {},
   "outputs": [
    {
     "name": "stderr",
     "output_type": "stream",
     "text": [
      "100%|█████████████████████████████████████████████| 1/1 [01:12<00:00, 72.19s/it]\n",
      "100%|█████████████████████████████████████████████| 1/1 [01:10<00:00, 70.39s/it]\n",
      "100%|█████████████████████████████████████████████| 1/1 [01:09<00:00, 69.37s/it]\n",
      "100%|█████████████████████████████████████████████| 1/1 [01:11<00:00, 71.65s/it]\n"
     ]
    }
   ],
   "source": [
    "K_ARRAY = [20]\n",
    "#p_0s_all = []\n",
    "\n",
    "#Ns_all = []\n",
    "lambd = find_lambda_g()\n",
    "for b_1 in b_1s:\n",
    "    cache_clear()\n",
    "    Ns = []\n",
    "    p_0s = []\n",
    "    h = np.diag(-D_0).max()\n",
    "    W = len(D_0) - 1\n",
    "    O = np.matrix(np.zeros((W + 1, W + 1)))\n",
    "    I = np.matrix(np.identity(W + 1))\n",
    "    matrix_size = len(D_0)\n",
    "    for K in tqdm(K_ARRAY):\n",
    "        cache_clear()\n",
    "        G_0 = find_G()\n",
    "        pi_0 = find_pi_0()\n",
    "        p_0s.append(float(pi_0 * np.matrix(np.ones(((W + 1) * (K + 1), 1)))))\n",
    "        Ns.append(find_N())\n",
    "    p_0s_all.append(p_0s)\n",
    "    Ns_all.append(Ns)"
   ]
  },
  {
   "cell_type": "code",
   "execution_count": 328,
   "metadata": {},
   "outputs": [],
   "source": [
    "temp_all = []\n",
    "for x in p_0s_all[:4]:\n",
    "    temp = []\n",
    "    for y in x:\n",
    "        temp.append(float(y))\n",
    "    temp_all.append(temp)    \n",
    "for i, x in enumerate(p_0s_all[4:]):    \n",
    "    \n",
    "    temp_all[i].append(float(x[0]))    "
   ]
  },
  {
   "cell_type": "code",
   "execution_count": 329,
   "metadata": {},
   "outputs": [
    {
     "data": {
      "text/plain": [
       "[[0.09380417749142654, 0.23214306099629428, 0.6053939679451473],\n",
       " [0.05311508923374609, 0.17850005229664062, 0.4557798090401043],\n",
       " [0.023673269330703035, 0.12404102210959018, 0.308128308710245],\n",
       " [0.007160872522367331, 0.06770759232083204, 0.1659389820137211]]"
      ]
     },
     "execution_count": 329,
     "metadata": {},
     "output_type": "execute_result"
    }
   ],
   "source": [
    "temp_all"
   ]
  },
  {
   "cell_type": "code",
   "execution_count": 331,
   "metadata": {},
   "outputs": [
    {
     "data": {
      "text/html": [
       "<div>\n",
       "<style scoped>\n",
       "    .dataframe tbody tr th:only-of-type {\n",
       "        vertical-align: middle;\n",
       "    }\n",
       "\n",
       "    .dataframe tbody tr th {\n",
       "        vertical-align: top;\n",
       "    }\n",
       "\n",
       "    .dataframe thead th {\n",
       "        text-align: right;\n",
       "    }\n",
       "</style>\n",
       "<table border=\"1\" class=\"dataframe\">\n",
       "  <thead>\n",
       "    <tr style=\"text-align: right;\">\n",
       "      <th></th>\n",
       "      <th>$b_1$=0.5</th>\n",
       "      <th>$b_1$=1</th>\n",
       "      <th>$b_1$=1.5</th>\n",
       "      <th>$b_1$=2</th>\n",
       "    </tr>\n",
       "  </thead>\n",
       "  <tbody>\n",
       "    <tr>\n",
       "      <th>1</th>\n",
       "      <td>0.093804</td>\n",
       "      <td>0.053115</td>\n",
       "      <td>0.023673</td>\n",
       "      <td>0.007161</td>\n",
       "    </tr>\n",
       "    <tr>\n",
       "      <th>4</th>\n",
       "      <td>0.232143</td>\n",
       "      <td>0.178500</td>\n",
       "      <td>0.124041</td>\n",
       "      <td>0.067708</td>\n",
       "    </tr>\n",
       "    <tr>\n",
       "      <th>20</th>\n",
       "      <td>0.605394</td>\n",
       "      <td>0.455780</td>\n",
       "      <td>0.308128</td>\n",
       "      <td>0.165939</td>\n",
       "    </tr>\n",
       "  </tbody>\n",
       "</table>\n",
       "</div>"
      ],
      "text/plain": [
       "    $b_1$=0.5   $b_1$=1  $b_1$=1.5   $b_1$=2\n",
       "1    0.093804  0.053115   0.023673  0.007161\n",
       "4    0.232143  0.178500   0.124041  0.067708\n",
       "20   0.605394  0.455780   0.308128  0.165939"
      ]
     },
     "execution_count": 331,
     "metadata": {},
     "output_type": "execute_result"
    }
   ],
   "source": [
    "columns = ['$b_1$=0.5','$b_1$=1','$b_1$=1.5', '$b_1$=2']\n",
    "df = pd.DataFrame(np.array(temp_all).T, \n",
    "             columns=columns,\n",
    "            index=[1, 4, 20])\n",
    "#df_rho.to_excel('exp_1_1/L.xlsx')\n",
    "df"
   ]
  },
  {
   "cell_type": "code",
   "execution_count": 335,
   "metadata": {},
   "outputs": [],
   "source": [
    "t = [[0.18126924094839794, 0.6021708534105225, 8.870892778324574],\n",
    " [0.3296799498816379, 0.8807266191067373, 9.152356422646086],\n",
    " [0.45118835704653404, 1.2539332838589106, 9.569442404597764],\n",
    " [0.5506710139692043, 1.7422648683140416, 10.427051664654375]\n",
    "]"
   ]
  },
  {
   "cell_type": "code",
   "execution_count": 337,
   "metadata": {},
   "outputs": [
    {
     "data": {
      "text/html": [
       "<div>\n",
       "<style scoped>\n",
       "    .dataframe tbody tr th:only-of-type {\n",
       "        vertical-align: middle;\n",
       "    }\n",
       "\n",
       "    .dataframe tbody tr th {\n",
       "        vertical-align: top;\n",
       "    }\n",
       "\n",
       "    .dataframe thead th {\n",
       "        text-align: right;\n",
       "    }\n",
       "</style>\n",
       "<table border=\"1\" class=\"dataframe\">\n",
       "  <thead>\n",
       "    <tr style=\"text-align: right;\">\n",
       "      <th></th>\n",
       "      <th>$b_1$=0.5</th>\n",
       "      <th>$b_1$=1</th>\n",
       "      <th>$b_1$=1.5</th>\n",
       "      <th>$b_1$=2</th>\n",
       "    </tr>\n",
       "  </thead>\n",
       "  <tbody>\n",
       "    <tr>\n",
       "      <th>1</th>\n",
       "      <td>0.181269</td>\n",
       "      <td>0.329680</td>\n",
       "      <td>0.451188</td>\n",
       "      <td>0.550671</td>\n",
       "    </tr>\n",
       "    <tr>\n",
       "      <th>4</th>\n",
       "      <td>0.602171</td>\n",
       "      <td>0.880727</td>\n",
       "      <td>1.253933</td>\n",
       "      <td>1.742265</td>\n",
       "    </tr>\n",
       "    <tr>\n",
       "      <th>20</th>\n",
       "      <td>8.870893</td>\n",
       "      <td>9.152356</td>\n",
       "      <td>9.569442</td>\n",
       "      <td>10.427052</td>\n",
       "    </tr>\n",
       "  </tbody>\n",
       "</table>\n",
       "</div>"
      ],
      "text/plain": [
       "    $b_1$=0.5   $b_1$=1  $b_1$=1.5    $b_1$=2\n",
       "1    0.181269  0.329680   0.451188   0.550671\n",
       "4    0.602171  0.880727   1.253933   1.742265\n",
       "20   8.870893  9.152356   9.569442  10.427052"
      ]
     },
     "execution_count": 337,
     "metadata": {},
     "output_type": "execute_result"
    }
   ],
   "source": [
    "columns = ['$b_1$=0.5','$b_1$=1','$b_1$=1.5', '$b_1$=2']\n",
    "df = pd.DataFrame(np.array(t).T, \n",
    "             columns=columns,\n",
    "            index=[1, 4, 20])\n",
    "#df_rho.to_excel('exp_1_1/L.xlsx')\n",
    "df"
   ]
  },
  {
   "cell_type": "markdown",
   "metadata": {},
   "source": [
    "### Experiment 3"
   ]
  },
  {
   "cell_type": "code",
   "execution_count": 345,
   "metadata": {},
   "outputs": [
    {
     "name": "stderr",
     "output_type": "stream",
     "text": [
      "100%|███████████████████████████████████████████| 20/20 [13:33<00:00, 40.68s/it]\n",
      "100%|███████████████████████████████████████████| 20/20 [14:03<00:00, 42.18s/it]\n",
      "100%|███████████████████████████████████████████| 20/20 [15:53<00:00, 47.69s/it]\n",
      "100%|███████████████████████████████████████████| 20/20 [22:31<00:00, 67.57s/it]\n"
     ]
    }
   ],
   "source": [
    "K_RANGE = 21\n",
    "\n",
    "p_0_custom_all = []\n",
    "lambd = find_lambda_g()\n",
    "e = np.matrix(np.ones(((W + 1) * (K + 1), 1)))\n",
    "for b_1 in b_1s:\n",
    "    cache_clear()\n",
    "    p_0_custom = []\n",
    "    h = np.diag(-D_0).max()\n",
    "    W = len(D_0) - 1\n",
    "    O = np.matrix(np.zeros((W + 1, W + 1)))\n",
    "    I = np.matrix(np.identity(W + 1))\n",
    "    matrix_size = len(D_0)\n",
    "    for K in tqdm(range(1, K_RANGE)):\n",
    "        cache_clear()\n",
    "        G_0 = find_G()\n",
    "        pi_0 = find_pi_0()\n",
    "        e = np.matrix(np.ones(((W + 1) * (K + 1), 1)))\n",
    "        p_0_custom.append(float(pi_0 * e))\n",
    "    p_0_custom_all.append(p_0_custom)"
   ]
  },
  {
   "cell_type": "code",
   "execution_count": 356,
   "metadata": {},
   "outputs": [
    {
     "data": {
      "image/png": "[encoded data removed]",
      "text/plain": [
       "<Figure size 1080x720 with 1 Axes>"
      ]
     },
     "metadata": {
      "needs_background": "light"
     },
     "output_type": "display_data"
    }
   ],
   "source": [
    "linestyles = ['-', '--', '-.', ':', '-']\n",
    "fig = plt.figure(figsize=(15, 10))\n",
    "ax = plt.gca()\n",
    "\n",
    "ax.set_prop_cycle(cycler('color', \n",
    "                          ['b', 'r', 'g', 'blueviolet']))\n",
    "\n",
    "labels = ['$b_1$=0.5','$b_1$=1','$b_1$=1.5', '$b_1$=2']\n",
    "x = np.linspace(1, K_RANGE - 1, K_RANGE - 1)\n",
    "for k, style, b, label in zip(p_0_custom_all, linestyles, b_1s, labels):\n",
    "    cubic_interploation_model=interp1d(x,k,kind=\"quadratic\")\n",
    "    tck = interpolate.splrep(x, k, s=0, k=5)\n",
    "    xs = np.linspace(1, K_RANGE - 1, 100)\n",
    "    #ys = np.log10(interpolate.splev(xs, tck, der=0))\n",
    "    ys = interpolate.splev(xs, tck, der=0)\n",
    "#    xs=np.linspace(1,20,60)\n",
    "#    ys=cubic_interploation_model(xs)\n",
    "    ax.plot(xs, ys, label = label, linestyle=style, linewidth=3)\n",
    "\n",
    "plt.xlabel('$K$', fontsize=20)\n",
    "plt.ylabel('$P_{0}^{custom}$', fontsize=20)\n",
    "plt.xticks(fontsize=20)\n",
    "plt.yticks(fontsize=20)\n",
    "plt.legend(prop={'size': 20}, loc=0);\n",
    "\n",
    "ax.set_xticks(x)\n",
    "filename = 'exp_1_3/K_P_custom_b_1'\n",
    "#fig.savefig(f'{filename}.png', format='png', dpi=600)\n",
    "#fig.savefig(f'{filename}.jpg', format='jpg', dpi=600)\n",
    "plt.show();\n",
    "\n",
    "\n",
    "\n"
   ]
  },
  {
   "cell_type": "code",
   "execution_count": 353,
   "metadata": {},
   "outputs": [
    {
     "data": {
      "text/html": [
       "<div>\n",
       "<style scoped>\n",
       "    .dataframe tbody tr th:only-of-type {\n",
       "        vertical-align: middle;\n",
       "    }\n",
       "\n",
       "    .dataframe tbody tr th {\n",
       "        vertical-align: top;\n",
       "    }\n",
       "\n",
       "    .dataframe thead th {\n",
       "        text-align: right;\n",
       "    }\n",
       "</style>\n",
       "<table border=\"1\" class=\"dataframe\">\n",
       "  <thead>\n",
       "    <tr style=\"text-align: right;\">\n",
       "      <th></th>\n",
       "      <th>$b_1$=0.5</th>\n",
       "      <th>$b_1$=1</th>\n",
       "      <th>$b_1$=1.5</th>\n",
       "      <th>$b_1$=2</th>\n",
       "    </tr>\n",
       "  </thead>\n",
       "  <tbody>\n",
       "    <tr>\n",
       "      <th>1</th>\n",
       "      <td>0.093804</td>\n",
       "      <td>0.053115</td>\n",
       "      <td>0.023673</td>\n",
       "      <td>0.007161</td>\n",
       "    </tr>\n",
       "    <tr>\n",
       "      <th>2</th>\n",
       "      <td>0.149388</td>\n",
       "      <td>0.109223</td>\n",
       "      <td>0.065774</td>\n",
       "      <td>0.030206</td>\n",
       "    </tr>\n",
       "    <tr>\n",
       "      <th>3</th>\n",
       "      <td>0.192694</td>\n",
       "      <td>0.147578</td>\n",
       "      <td>0.099099</td>\n",
       "      <td>0.050836</td>\n",
       "    </tr>\n",
       "    <tr>\n",
       "      <th>4</th>\n",
       "      <td>0.232143</td>\n",
       "      <td>0.178500</td>\n",
       "      <td>0.124041</td>\n",
       "      <td>0.067708</td>\n",
       "    </tr>\n",
       "    <tr>\n",
       "      <th>5</th>\n",
       "      <td>0.268937</td>\n",
       "      <td>0.206203</td>\n",
       "      <td>0.144347</td>\n",
       "      <td>0.081290</td>\n",
       "    </tr>\n",
       "    <tr>\n",
       "      <th>6</th>\n",
       "      <td>0.303336</td>\n",
       "      <td>0.231825</td>\n",
       "      <td>0.162040</td>\n",
       "      <td>0.092452</td>\n",
       "    </tr>\n",
       "    <tr>\n",
       "      <th>7</th>\n",
       "      <td>0.335504</td>\n",
       "      <td>0.255712</td>\n",
       "      <td>0.178036</td>\n",
       "      <td>0.101887</td>\n",
       "    </tr>\n",
       "    <tr>\n",
       "      <th>8</th>\n",
       "      <td>0.365586</td>\n",
       "      <td>0.278027</td>\n",
       "      <td>0.192755</td>\n",
       "      <td>0.110066</td>\n",
       "    </tr>\n",
       "    <tr>\n",
       "      <th>9</th>\n",
       "      <td>0.393718</td>\n",
       "      <td>0.298887</td>\n",
       "      <td>0.206408</td>\n",
       "      <td>0.117301</td>\n",
       "    </tr>\n",
       "    <tr>\n",
       "      <th>10</th>\n",
       "      <td>0.420026</td>\n",
       "      <td>0.318391</td>\n",
       "      <td>0.219120</td>\n",
       "      <td>0.123797</td>\n",
       "    </tr>\n",
       "    <tr>\n",
       "      <th>11</th>\n",
       "      <td>0.444630</td>\n",
       "      <td>0.336628</td>\n",
       "      <td>0.230976</td>\n",
       "      <td>0.129694</td>\n",
       "    </tr>\n",
       "    <tr>\n",
       "      <th>12</th>\n",
       "      <td>0.467638</td>\n",
       "      <td>0.353682</td>\n",
       "      <td>0.242045</td>\n",
       "      <td>0.135088</td>\n",
       "    </tr>\n",
       "    <tr>\n",
       "      <th>13</th>\n",
       "      <td>0.489155</td>\n",
       "      <td>0.369630</td>\n",
       "      <td>0.252385</td>\n",
       "      <td>0.140049</td>\n",
       "    </tr>\n",
       "    <tr>\n",
       "      <th>14</th>\n",
       "      <td>0.509277</td>\n",
       "      <td>0.384544</td>\n",
       "      <td>0.262046</td>\n",
       "      <td>0.144628</td>\n",
       "    </tr>\n",
       "    <tr>\n",
       "      <th>15</th>\n",
       "      <td>0.528095</td>\n",
       "      <td>0.398491</td>\n",
       "      <td>0.271075</td>\n",
       "      <td>0.148866</td>\n",
       "    </tr>\n",
       "    <tr>\n",
       "      <th>16</th>\n",
       "      <td>0.545693</td>\n",
       "      <td>0.411533</td>\n",
       "      <td>0.279515</td>\n",
       "      <td>0.152796</td>\n",
       "    </tr>\n",
       "    <tr>\n",
       "      <th>17</th>\n",
       "      <td>0.562150</td>\n",
       "      <td>0.423731</td>\n",
       "      <td>0.287405</td>\n",
       "      <td>0.156446</td>\n",
       "    </tr>\n",
       "    <tr>\n",
       "      <th>18</th>\n",
       "      <td>0.577541</td>\n",
       "      <td>0.435137</td>\n",
       "      <td>0.294782</td>\n",
       "      <td>0.159840</td>\n",
       "    </tr>\n",
       "    <tr>\n",
       "      <th>19</th>\n",
       "      <td>0.591934</td>\n",
       "      <td>0.445804</td>\n",
       "      <td>0.301679</td>\n",
       "      <td>0.162998</td>\n",
       "    </tr>\n",
       "    <tr>\n",
       "      <th>20</th>\n",
       "      <td>0.605394</td>\n",
       "      <td>0.455780</td>\n",
       "      <td>0.308128</td>\n",
       "      <td>0.165939</td>\n",
       "    </tr>\n",
       "  </tbody>\n",
       "</table>\n",
       "</div>"
      ],
      "text/plain": [
       "    $b_1$=0.5   $b_1$=1  $b_1$=1.5   $b_1$=2\n",
       "1    0.093804  0.053115   0.023673  0.007161\n",
       "2    0.149388  0.109223   0.065774  0.030206\n",
       "3    0.192694  0.147578   0.099099  0.050836\n",
       "4    0.232143  0.178500   0.124041  0.067708\n",
       "5    0.268937  0.206203   0.144347  0.081290\n",
       "6    0.303336  0.231825   0.162040  0.092452\n",
       "7    0.335504  0.255712   0.178036  0.101887\n",
       "8    0.365586  0.278027   0.192755  0.110066\n",
       "9    0.393718  0.298887   0.206408  0.117301\n",
       "10   0.420026  0.318391   0.219120  0.123797\n",
       "11   0.444630  0.336628   0.230976  0.129694\n",
       "12   0.467638  0.353682   0.242045  0.135088\n",
       "13   0.489155  0.369630   0.252385  0.140049\n",
       "14   0.509277  0.384544   0.262046  0.144628\n",
       "15   0.528095  0.398491   0.271075  0.148866\n",
       "16   0.545693  0.411533   0.279515  0.152796\n",
       "17   0.562150  0.423731   0.287405  0.156446\n",
       "18   0.577541  0.435137   0.294782  0.159840\n",
       "19   0.591934  0.445804   0.301679  0.162998\n",
       "20   0.605394  0.455780   0.308128  0.165939"
      ]
     },
     "execution_count": 353,
     "metadata": {},
     "output_type": "execute_result"
    }
   ],
   "source": [
    "columns = ['$b_1$=0.5','$b_1$=1','$b_1$=1.5', '$b_1$=2']\n",
    "df_P_custom = pd.DataFrame(np.array(p_0_custom_all).T, \n",
    "             columns=columns,\n",
    "            index=list(range(1,K_RANGE)))\n",
    "df_P_custom.to_excel('exp_1_3/P_custom.xlsx')\n",
    "df_P_custom"
   ]
  },
  {
   "cell_type": "markdown",
   "metadata": {},
   "source": [
    "### Experiment 4"
   ]
  },
  {
   "cell_type": "code",
   "execution_count": 481,
   "metadata": {},
   "outputs": [
    {
     "name": "stderr",
     "output_type": "stream",
     "text": [
      "100%|███████████████████████████████████████████| 20/20 [14:07<00:00, 42.36s/it]\n",
      "100%|███████████████████████████████████████████| 20/20 [14:05<00:00, 42.30s/it]\n",
      "100%|███████████████████████████████████████████| 20/20 [14:50<00:00, 44.53s/it]\n",
      "100%|███████████████████████████████████████████| 20/20 [23:25<00:00, 70.29s/it]\n"
     ]
    }
   ],
   "source": [
    "K_RANGE = 21\n",
    "\n",
    "p_0_energy_all = []\n",
    "lambd = find_lambda_g()\n",
    "e = np.matrix(np.ones(((W + 1) * (K + 1), 1)))\n",
    "for b_1 in b_1s:\n",
    "    cache_clear()\n",
    "    p_0_energy = []\n",
    "    h = np.diag(-D_0).max()\n",
    "    W = len(D_0) - 1\n",
    "    O = np.matrix(np.zeros((W + 1, W + 1)))\n",
    "    I = np.matrix(np.identity(W + 1))\n",
    "    matrix_size = len(D_0)\n",
    "    for K in tqdm(range(1, K_RANGE)):\n",
    "        cache_clear()\n",
    "        G_0 = find_G()\n",
    "        pi_0 = find_pi_0()\n",
    "        e = np.matrix(np.ones(((W + 1) * (K + 1), 1)))\n",
    "        p_0_energy.append(find_P_energy())\n",
    "    p_0_energy_all.append(p_0_energy)"
   ]
  },
  {
   "cell_type": "code",
   "execution_count": 484,
   "metadata": {},
   "outputs": [
    {
     "data": {
      "image/png": "[encoded data removed]",
      "text/plain": [
       "<Figure size 1080x720 with 1 Axes>"
      ]
     },
     "metadata": {
      "needs_background": "light"
     },
     "output_type": "display_data"
    }
   ],
   "source": [
    "linestyles = ['-', '--', '-.', ':', '-']\n",
    "fig = plt.figure(figsize=(15, 10))\n",
    "ax = plt.gca()\n",
    "\n",
    "ax.set_prop_cycle(cycler('color', \n",
    "                          ['b', 'r', 'g', 'blueviolet']))\n",
    "\n",
    "labels = ['$b_1$=0.5','$b_1$=1','$b_1$=1.5', '$b_1$=2']\n",
    "x = np.linspace(1, K_RANGE - 1, K_RANGE - 1)\n",
    "for k, style, b, label in zip(p_0_energy_all, linestyles, b_1s, labels):\n",
    "    cubic_interploation_model=interp1d(x,k,kind=\"quadratic\")\n",
    "    tck = interpolate.splrep(x, k, s=0, k=5)\n",
    "    xs = np.linspace(1, K_RANGE - 1, 100)\n",
    "    #ys = np.log10(interpolate.splev(xs, tck, der=0))\n",
    "    ys = interpolate.splev(xs, tck, der=0)\n",
    "#    xs=np.linspace(1,20,60)\n",
    "#    ys=cubic_interploation_model(xs)\n",
    "    ax.plot(xs, ys, label = label, linestyle=style, linewidth=3)\n",
    "\n",
    "plt.xlabel('$K$', fontsize=20)\n",
    "plt.ylabel('$P_{0}^{energy}$', fontsize=20)\n",
    "plt.xticks(fontsize=20)\n",
    "plt.yticks(fontsize=20)\n",
    "plt.legend(prop={'size': 20}, loc=0);\n",
    "\n",
    "ax.set_xticks(x)\n",
    "filename = 'exp_1_4/K_P_energy_b_1'\n",
    "fig.savefig(f'{filename}.png', format='png', dpi=600)\n",
    "fig.savefig(f'{filename}.jpg', format='jpg', dpi=600)\n",
    "plt.show();\n",
    "\n",
    "\n",
    "\n",
    "\n"
   ]
  },
  {
   "cell_type": "code",
   "execution_count": 486,
   "metadata": {},
   "outputs": [
    {
     "data": {
      "text/html": [
       "<div>\n",
       "<style scoped>\n",
       "    .dataframe tbody tr th:only-of-type {\n",
       "        vertical-align: middle;\n",
       "    }\n",
       "\n",
       "    .dataframe tbody tr th {\n",
       "        vertical-align: top;\n",
       "    }\n",
       "\n",
       "    .dataframe thead th {\n",
       "        text-align: right;\n",
       "    }\n",
       "</style>\n",
       "<table border=\"1\" class=\"dataframe\">\n",
       "  <thead>\n",
       "    <tr style=\"text-align: right;\">\n",
       "      <th></th>\n",
       "      <th>$b_1$=0.5</th>\n",
       "      <th>$b_1$=1</th>\n",
       "      <th>$b_1$=1.5</th>\n",
       "      <th>$b_1$=2</th>\n",
       "    </tr>\n",
       "  </thead>\n",
       "  <tbody>\n",
       "    <tr>\n",
       "      <th>1</th>\n",
       "      <td>0.818731</td>\n",
       "      <td>0.670320</td>\n",
       "      <td>0.548812</td>\n",
       "      <td>0.449329</td>\n",
       "    </tr>\n",
       "    <tr>\n",
       "      <th>2</th>\n",
       "      <td>0.748425</td>\n",
       "      <td>0.578845</td>\n",
       "      <td>0.431050</td>\n",
       "      <td>0.308374</td>\n",
       "    </tr>\n",
       "    <tr>\n",
       "      <th>3</th>\n",
       "      <td>0.698269</td>\n",
       "      <td>0.530782</td>\n",
       "      <td>0.376989</td>\n",
       "      <td>0.246409</td>\n",
       "    </tr>\n",
       "    <tr>\n",
       "      <th>4</th>\n",
       "      <td>0.652840</td>\n",
       "      <td>0.493968</td>\n",
       "      <td>0.342933</td>\n",
       "      <td>0.210607</td>\n",
       "    </tr>\n",
       "    <tr>\n",
       "      <th>5</th>\n",
       "      <td>0.610500</td>\n",
       "      <td>0.461359</td>\n",
       "      <td>0.316925</td>\n",
       "      <td>0.186399</td>\n",
       "    </tr>\n",
       "    <tr>\n",
       "      <th>6</th>\n",
       "      <td>0.570922</td>\n",
       "      <td>0.431283</td>\n",
       "      <td>0.294807</td>\n",
       "      <td>0.168290</td>\n",
       "    </tr>\n",
       "    <tr>\n",
       "      <th>7</th>\n",
       "      <td>0.533913</td>\n",
       "      <td>0.403265</td>\n",
       "      <td>0.274991</td>\n",
       "      <td>0.153773</td>\n",
       "    </tr>\n",
       "    <tr>\n",
       "      <th>8</th>\n",
       "      <td>0.499305</td>\n",
       "      <td>0.377097</td>\n",
       "      <td>0.256818</td>\n",
       "      <td>0.141558</td>\n",
       "    </tr>\n",
       "    <tr>\n",
       "      <th>9</th>\n",
       "      <td>0.466939</td>\n",
       "      <td>0.352640</td>\n",
       "      <td>0.239981</td>\n",
       "      <td>0.130931</td>\n",
       "    </tr>\n",
       "    <tr>\n",
       "      <th>10</th>\n",
       "      <td>0.436672</td>\n",
       "      <td>0.329774</td>\n",
       "      <td>0.224311</td>\n",
       "      <td>0.121472</td>\n",
       "    </tr>\n",
       "    <tr>\n",
       "      <th>11</th>\n",
       "      <td>0.408367</td>\n",
       "      <td>0.308394</td>\n",
       "      <td>0.209698</td>\n",
       "      <td>0.112924</td>\n",
       "    </tr>\n",
       "    <tr>\n",
       "      <th>12</th>\n",
       "      <td>0.381896</td>\n",
       "      <td>0.288402</td>\n",
       "      <td>0.196056</td>\n",
       "      <td>0.105120</td>\n",
       "    </tr>\n",
       "    <tr>\n",
       "      <th>13</th>\n",
       "      <td>0.357142</td>\n",
       "      <td>0.269706</td>\n",
       "      <td>0.183314</td>\n",
       "      <td>0.097946</td>\n",
       "    </tr>\n",
       "    <tr>\n",
       "      <th>14</th>\n",
       "      <td>0.333992</td>\n",
       "      <td>0.252223</td>\n",
       "      <td>0.171408</td>\n",
       "      <td>0.091323</td>\n",
       "    </tr>\n",
       "    <tr>\n",
       "      <th>15</th>\n",
       "      <td>0.312342</td>\n",
       "      <td>0.235874</td>\n",
       "      <td>0.160280</td>\n",
       "      <td>0.085188</td>\n",
       "    </tr>\n",
       "    <tr>\n",
       "      <th>16</th>\n",
       "      <td>0.292096</td>\n",
       "      <td>0.220584</td>\n",
       "      <td>0.149878</td>\n",
       "      <td>0.079495</td>\n",
       "    </tr>\n",
       "    <tr>\n",
       "      <th>17</th>\n",
       "      <td>0.273163</td>\n",
       "      <td>0.206286</td>\n",
       "      <td>0.140154</td>\n",
       "      <td>0.074203</td>\n",
       "    </tr>\n",
       "    <tr>\n",
       "      <th>18</th>\n",
       "      <td>0.255456</td>\n",
       "      <td>0.192914</td>\n",
       "      <td>0.131063</td>\n",
       "      <td>0.069279</td>\n",
       "    </tr>\n",
       "    <tr>\n",
       "      <th>19</th>\n",
       "      <td>0.238897</td>\n",
       "      <td>0.180409</td>\n",
       "      <td>0.122562</td>\n",
       "      <td>0.064694</td>\n",
       "    </tr>\n",
       "    <tr>\n",
       "      <th>20</th>\n",
       "      <td>0.223412</td>\n",
       "      <td>0.168715</td>\n",
       "      <td>0.114614</td>\n",
       "      <td>0.060422</td>\n",
       "    </tr>\n",
       "  </tbody>\n",
       "</table>\n",
       "</div>"
      ],
      "text/plain": [
       "    $b_1$=0.5   $b_1$=1  $b_1$=1.5   $b_1$=2\n",
       "1    0.818731  0.670320   0.548812  0.449329\n",
       "2    0.748425  0.578845   0.431050  0.308374\n",
       "3    0.698269  0.530782   0.376989  0.246409\n",
       "4    0.652840  0.493968   0.342933  0.210607\n",
       "5    0.610500  0.461359   0.316925  0.186399\n",
       "6    0.570922  0.431283   0.294807  0.168290\n",
       "7    0.533913  0.403265   0.274991  0.153773\n",
       "8    0.499305  0.377097   0.256818  0.141558\n",
       "9    0.466939  0.352640   0.239981  0.130931\n",
       "10   0.436672  0.329774   0.224311  0.121472\n",
       "11   0.408367  0.308394   0.209698  0.112924\n",
       "12   0.381896  0.288402   0.196056  0.105120\n",
       "13   0.357142  0.269706   0.183314  0.097946\n",
       "14   0.333992  0.252223   0.171408  0.091323\n",
       "15   0.312342  0.235874   0.160280  0.085188\n",
       "16   0.292096  0.220584   0.149878  0.079495\n",
       "17   0.273163  0.206286   0.140154  0.074203\n",
       "18   0.255456  0.192914   0.131063  0.069279\n",
       "19   0.238897  0.180409   0.122562  0.064694\n",
       "20   0.223412  0.168715   0.114614  0.060422"
      ]
     },
     "execution_count": 486,
     "metadata": {},
     "output_type": "execute_result"
    }
   ],
   "source": [
    "columns = ['$b_1$=0.5','$b_1$=1','$b_1$=1.5', '$b_1$=2']\n",
    "df_P_energy = pd.DataFrame(np.array(p_0_energy_all).T, \n",
    "             columns=columns,\n",
    "            index=list(range(1,K_RANGE)))\n",
    "df_P_energy.to_excel('exp_1_4/P_energy.xlsx')\n",
    "df_P_energy"
   ]
  },
  {
   "cell_type": "code",
   "execution_count": null,
   "metadata": {},
   "outputs": [],
   "source": []
  },
  {
   "cell_type": "code",
   "execution_count": null,
   "metadata": {},
   "outputs": [],
   "source": []
  },
  {
   "cell_type": "markdown",
   "metadata": {},
   "source": [
    "$$\\theta D(1)=0, \\theta e = 1$$"
   ]
  },
  {
   "cell_type": "code",
   "execution_count": 426,
   "metadata": {},
   "outputs": [],
   "source": [
    "def find_theta():\n",
    "    W = len(D_0) - 1\n",
    "    a = np.concatenate((\n",
    "    np.delete((D_0 + D_1), 0, 1).transpose(), \n",
    "    np.ones([W + 1, 1]).transpose()))\n",
    "    b = np.concatenate((np.zeros([W, 1]), np.matrix(1)))\n",
    "    return LA.solve(a = a, b = b).T"
   ]
  },
  {
   "cell_type": "code",
   "execution_count": 80,
   "metadata": {},
   "outputs": [
    {
     "data": {
      "text/plain": [
       "matrix([[0.27104723, 0.72895277]])"
      ]
     },
     "execution_count": 80,
     "metadata": {},
     "output_type": "execute_result"
    }
   ],
   "source": [
    "theta = find_theta()\n",
    "theta"
   ]
  },
  {
   "cell_type": "markdown",
   "metadata": {},
   "source": [
    "$$\\lambda_g=-\\theta D_0e$$"
   ]
  },
  {
   "cell_type": "code",
   "execution_count": 75,
   "metadata": {},
   "outputs": [],
   "source": [
    "def find_lambda_g():\n",
    "    theta = find_theta()\n",
    "    e = np.matrix(np.ones(((W + 1), 1)))\n",
    "    return float(-theta * D_0 * e)"
   ]
  },
  {
   "cell_type": "code",
   "execution_count": 388,
   "metadata": {},
   "outputs": [
    {
     "data": {
      "text/plain": [
       "0.3001773998804543"
      ]
     },
     "execution_count": 388,
     "metadata": {},
     "output_type": "execute_result"
    }
   ],
   "source": [
    "lambda_g = find_lambda_g()\n",
    "lambda_g"
   ]
  },
  {
   "cell_type": "code",
   "execution_count": 82,
   "metadata": {},
   "outputs": [],
   "source": [
    "def set_lambda(D_0, D_1):\n",
    "    e = np.matrix(np.ones(((W + 1), 1)))\n",
    "\n",
    "    theta = find_theta()\n",
    "    lambda_g = find_lambda_g()\n",
    "    D_0 = D_0  * lambd / lambda_g\n",
    "    D_1 = D_1 * lambd / lambda_g \n",
    "    temp = np.zeros((W + 1, W + 1))\n",
    "    temp[-1] = ((D_0 + D_1) * e).T\n",
    "    D_1 -= temp.T\n",
    "    return D_0, D_1"
   ]
  },
  {
   "cell_type": "code",
   "execution_count": 83,
   "metadata": {},
   "outputs": [],
   "source": [
    "D_0, D_1 = set_lambda(D_0, D_1)"
   ]
  },
  {
   "cell_type": "markdown",
   "metadata": {},
   "source": [
    "$$c_{var}^2=2\\lambda_b\\theta(-D_0)^{-1}e-1$$"
   ]
  },
  {
   "cell_type": "code",
   "execution_count": 86,
   "metadata": {},
   "outputs": [],
   "source": [
    "def find_c_var():\n",
    "    return float(2 * lambda_g * theta * (-D_0)**(-1) * e - 1)"
   ]
  },
  {
   "cell_type": "code",
   "execution_count": 87,
   "metadata": {},
   "outputs": [
    {
     "data": {
      "text/plain": [
       "43.76558909783742"
      ]
     },
     "execution_count": 87,
     "metadata": {},
     "output_type": "execute_result"
    }
   ],
   "source": [
    "c_var = find_c_var()\n",
    "c_var"
   ]
  },
  {
   "cell_type": "markdown",
   "metadata": {},
   "source": [
    "$$c_{cor}=(\\lambda_g\\theta(-D_0)^{-1}(D(1)-D_0)(-D_0)^{-1}e-1)/c_{var}^2$$"
   ]
  },
  {
   "cell_type": "code",
   "execution_count": 88,
   "metadata": {},
   "outputs": [],
   "source": [
    "def find_c_cor():\n",
    "    return float((lambda_g*theta*(-D_0)**(-1)*D_1*(-D_0)**(-1)*e - 1) / c_var)"
   ]
  },
  {
   "cell_type": "code",
   "execution_count": 89,
   "metadata": {},
   "outputs": [
    {
     "data": {
      "text/plain": [
       "0.4319610466979686"
      ]
     },
     "execution_count": 89,
     "metadata": {},
     "output_type": "execute_result"
    }
   ],
   "source": [
    "c_cor = find_c_cor()\n",
    "c_cor"
   ]
  },
  {
   "cell_type": "markdown",
   "metadata": {},
   "source": [
    "$$N = \\sum\\limits_{i=0}^{\\infty}\\sum\\limits_{k=1}^{K}k\\pi(i, k)e$$"
   ]
  },
  {
   "cell_type": "code",
   "execution_count": 275,
   "metadata": {},
   "outputs": [],
   "source": [
    "def find_N(): \n",
    "    i = 0\n",
    "    norm = 1\n",
    "    summa = 0\n",
    "    e = np.matrix(np.ones(((W + 1), 1)))\n",
    "    while norm > epsilon_f:\n",
    "        pi = pi_l(i).reshape((K + 1, W + 1))\n",
    "        element = 0\n",
    "        for k in range(1, K + 1):\n",
    "            element += k * pi[k] * e\n",
    "        summa += element\n",
    "        norm = element\n",
    "        i +=1 \n",
    "    return float(summa)"
   ]
  },
  {
   "cell_type": "code",
   "execution_count": 276,
   "metadata": {},
   "outputs": [
    {
     "data": {
      "text/plain": [
       "10.427051664654375"
      ]
     },
     "execution_count": 276,
     "metadata": {},
     "output_type": "execute_result"
    }
   ],
   "source": [
    "find_N()"
   ]
  },
  {
   "cell_type": "markdown",
   "metadata": {},
   "source": [
    "$$P_0^{custom}=\\pi_0e$$"
   ]
  },
  {
   "cell_type": "code",
   "execution_count": 475,
   "metadata": {},
   "outputs": [],
   "source": [
    "def P_custom():\n",
    "    e = np.matrix(np.ones(((W + 1) * (K + 1), 1)))\n",
    "    return float(pi_0 * e)"
   ]
  },
  {
   "cell_type": "markdown",
   "metadata": {},
   "source": [
    "$$P_0^{energy}=\\sum\\limits_{i=0}^{\\infty}\\pi(i, 0)e$$"
   ]
  },
  {
   "cell_type": "code",
   "execution_count": 479,
   "metadata": {},
   "outputs": [],
   "source": [
    "def find_P_energy():\n",
    "    i = 0\n",
    "    norm = 1\n",
    "    summa = 0\n",
    "    e = np.matrix(np.ones(((W + 1), 1)))\n",
    "    while norm > epsilon_f:\n",
    "        pi = pi_l(i).reshape((K + 1, W + 1))[0]\n",
    "        element = pi * e\n",
    "        summa += element\n",
    "        norm = element\n",
    "        i +=1 \n",
    "    return float(summa)"
   ]
  },
  {
   "cell_type": "markdown",
   "metadata": {},
   "source": [
    "$$P_0^{idle}=\\sum\\limits_{i=1}^{\\infty}\\pi(i, 0)e$$"
   ]
  },
  {
   "cell_type": "code",
   "execution_count": null,
   "metadata": {},
   "outputs": [],
   "source": []
  },
  {
   "cell_type": "markdown",
   "metadata": {},
   "source": [
    "$$\\tau=b_1+\\pi(0,0)(-D_0+\\gamma I)^{-1}(D_1\\gamma^{-1}+\\gamma(-D_0)^{-1})e+\\gamma^{-1}\\sum\\limits_{i=1}^{\\infty}\\pi(i,0)e+\\sum\\limits_{k=1}^{K}\\pi(0,k)(-D_0)^{-1}e$$"
   ]
  },
  {
   "cell_type": "code",
   "execution_count": 430,
   "metadata": {},
   "outputs": [],
   "source": [
    "def find_tau():\n",
    "    W = len(D_0) - 1\n",
    "    pi = pi_l(0).reshape((K + 1, W + 1))\n",
    "    e = np.matrix(np.ones(((W + 1), 1)))\n",
    "    \n",
    "    i = 1\n",
    "    norm = 1\n",
    "    summa_1 = 0\n",
    "    e = np.matrix(np.ones(((W + 1), 1)))\n",
    "    while norm > epsilon_f:\n",
    "        pi_i = pi_l(i).reshape((K + 1, W + 1))[0]\n",
    "        element = pi_i * e\n",
    "        summa_1 += element\n",
    "        norm = element\n",
    "        i +=1 \n",
    "    summa_1 /= gamma\n",
    "    \n",
    "    summa_2 = 0\n",
    "    for k in range(1, K + 1):\n",
    "        summa_2 += pi[k] * (-D_0)**(-1)*e\n",
    "    \n",
    "    return float(b_1 + pi[0] * (-D_0 + gamma * I)**(-1) * (D_1 / gamma + gamma * (-D_0)**(-1)) * e + summa_1 + summa_2)"
   ]
  },
  {
   "cell_type": "code",
   "execution_count": 472,
   "metadata": {},
   "outputs": [],
   "source": [
    "cache_clear()\n",
    "G_0 = find_G()\n",
    "pi_0 = find_pi_0()"
   ]
  },
  {
   "cell_type": "code",
   "execution_count": 473,
   "metadata": {},
   "outputs": [
    {
     "data": {
      "text/plain": [
       "0.3001773998804543"
      ]
     },
     "execution_count": 473,
     "metadata": {},
     "output_type": "execute_result"
    }
   ],
   "source": [
    "find_lambda_g()"
   ]
  },
  {
   "cell_type": "code",
   "execution_count": 474,
   "metadata": {
    "scrolled": true
   },
   "outputs": [
    {
     "data": {
      "text/plain": [
       "0.30474722251873254"
      ]
     },
     "execution_count": 474,
     "metadata": {},
     "output_type": "execute_result"
    }
   ],
   "source": [
    "1 / find_tau()"
   ]
  },
  {
   "cell_type": "code",
   "execution_count": 446,
   "metadata": {},
   "outputs": [],
   "source": [
    "D_0, D_1 = Ds[1]"
   ]
  },
  {
   "cell_type": "code",
   "execution_count": 469,
   "metadata": {},
   "outputs": [],
   "source": [
    "K=4\n",
    "b_1 = 1"
   ]
  },
  {
   "cell_type": "code",
   "execution_count": 470,
   "metadata": {},
   "outputs": [],
   "source": [
    "epsilon = 1e-7\n",
    "epsilon_f = 1e-10\n",
    "epsilon = 1e-7\n",
    "cache_clear()"
   ]
  },
  {
   "cell_type": "code",
   "execution_count": null,
   "metadata": {},
   "outputs": [],
   "source": []
  },
  {
   "cell_type": "code",
   "execution_count": null,
   "metadata": {},
   "outputs": [],
   "source": [
    "fig = plt.figure(figsize=(15, 10))\n",
    "x = np.linspace(1, 20, 20)\n",
    "y = Ks_all[1]\n",
    "tck = interpolate.splrep(x, y, s=0, k=5)\n",
    "xnew = np.linspace(1, 20, 100)\n",
    "ynew = interpolate.splev(xnew, tck, der=0)\n",
    "plt.plot(x, y)\n",
    "plt.plot(xnew, ynew)\n",
    "plt.show()"
   ]
  }
 ],
 "metadata": {
  "kernelspec": {
   "display_name": "Python 3 (ipykernel)",
   "language": "python",
   "name": "python3"
  },
  "language_info": {
   "codemirror_mode": {
    "name": "ipython",
    "version": 3
   },
   "file_extension": ".py",
   "mimetype": "text/x-python",
   "name": "python",
   "nbconvert_exporter": "python",
   "pygments_lexer": "ipython3",
   "version": "3.9.7"
  }
 },
 "nbformat": 4,
 "nbformat_minor": 4
}
