{
 "cells": [
  {
   "cell_type": "code",
   "execution_count": 1,
   "metadata": {},
   "outputs": [],
   "source": [
    "import numpy as np\n",
    "import math\n",
    "from scipy.linalg import expm\n",
    "from numpy import linalg as LA\n",
    "from functools import cache\n",
    "from math import factorial as fact\n",
    "from tqdm import tqdm\n",
    "import matplotlib.pyplot as plt\n",
    "from cycler import cycler\n",
    "import pandas as pd\n",
    "from scipy.interpolate import interp1d\n",
    "from scipy.interpolate import splrep\n",
    "from scipy import interpolate\n",
    "\n",
    "markers = [\"o\", \"x\", \"s\"]\n",
    "linestyles = ['-', '--', '-.', ':', '-']"
   ]
  },
  {
   "cell_type": "code",
   "execution_count": 2,
   "metadata": {},
   "outputs": [],
   "source": [
    "D_0 = np.matrix([\n",
    "    [-0.405780, 0],\n",
    "    [0, -0.013173]\n",
    "])\n"
   ]
  },
  {
   "cell_type": "code",
   "execution_count": 3,
   "metadata": {},
   "outputs": [],
   "source": [
    "D_1 = np.matrix([\n",
    "    [0.403080, 0.0027],\n",
    "    [0.007338, 0.005835]\n",
    "])"
   ]
  },
  {
   "cell_type": "code",
   "execution_count": 4,
   "metadata": {},
   "outputs": [],
   "source": [
    "matrix_size = 2\n",
    "lambd = 0.3\n",
    "gamma = 0.4\n",
    "epsilon = 1e-7\n",
    "epsilon_f = 1e-10\n",
    "b_1 = 1\n",
    "K = 4\n"
   ]
  },
  {
   "cell_type": "code",
   "execution_count": 5,
   "metadata": {},
   "outputs": [],
   "source": [
    "#D_0 = np.matrix([-lambd])\n",
    "#D_1 = np.matrix([lambd])\n"
   ]
  },
  {
   "cell_type": "code",
   "execution_count": 6,
   "metadata": {},
   "outputs": [],
   "source": [
    "h = np.diag(-D_0).max()"
   ]
  },
  {
   "cell_type": "code",
   "execution_count": 7,
   "metadata": {},
   "outputs": [],
   "source": [
    "W = len(D_0) - 1"
   ]
  },
  {
   "cell_type": "code",
   "execution_count": 8,
   "metadata": {},
   "outputs": [],
   "source": [
    "matrix_size = len(D_0)"
   ]
  },
  {
   "cell_type": "code",
   "execution_count": 9,
   "metadata": {},
   "outputs": [],
   "source": [
    "O = np.matrix(np.zeros((W + 1, W + 1)))"
   ]
  },
  {
   "cell_type": "code",
   "execution_count": 10,
   "metadata": {},
   "outputs": [],
   "source": [
    "I = np.matrix(np.identity(W + 1))"
   ]
  },
  {
   "cell_type": "markdown",
   "metadata": {},
   "source": [
    "$$\\varphi_k(t)$$"
   ]
  },
  {
   "cell_type": "code",
   "execution_count": 11,
   "metadata": {},
   "outputs": [],
   "source": [
    "@cache\n",
    "def varphi_k_t(k, t):\n",
    "    return (gamma * t)**k / math.factorial(k) * math.exp(-gamma*t)"
   ]
  },
  {
   "cell_type": "markdown",
   "metadata": {},
   "source": [
    "$$\\hat\\varphi_k(t)$$"
   ]
  },
  {
   "cell_type": "code",
   "execution_count": 12,
   "metadata": {},
   "outputs": [],
   "source": [
    "@cache\n",
    "def hat_varphi_k_t(k, t):\n",
    "    norm = 1\n",
    "    summa = 0\n",
    "    i = 0\n",
    "    while norm > epsilon:\n",
    "        norm = varphi_k_t(k + i, t)\n",
    "        summa += norm\n",
    "        i += 1\n",
    "    return summa"
   ]
  },
  {
   "cell_type": "markdown",
   "metadata": {},
   "source": [
    "$$\\varphi_k$$"
   ]
  },
  {
   "cell_type": "code",
   "execution_count": 13,
   "metadata": {},
   "outputs": [],
   "source": [
    "@cache\n",
    "def varphi_k(k):\n",
    "    return varphi_k_t(k, b_1)"
   ]
  },
  {
   "cell_type": "markdown",
   "metadata": {},
   "source": [
    "$$\\hat\\varphi_k$$"
   ]
  },
  {
   "cell_type": "code",
   "execution_count": 14,
   "metadata": {},
   "outputs": [],
   "source": [
    "@cache\n",
    "def hat_varphi_k(k):\n",
    "    norm = 1\n",
    "    summa = 0\n",
    "    i = 0\n",
    "    while norm > epsilon:\n",
    "        norm = varphi_k(k + i)\n",
    "        summa += norm\n",
    "        i += 1\n",
    "    return summa"
   ]
  },
  {
   "cell_type": "markdown",
   "metadata": {},
   "source": [
    "$$\\sum\\limits_{i=0}^{\\infty}P(i,t)z^i=e^{(D_0+D_1z)t}$$"
   ]
  },
  {
   "cell_type": "code",
   "execution_count": 15,
   "metadata": {},
   "outputs": [],
   "source": [
    "@cache\n",
    "def P_i_t_z(z, t):\n",
    "    return expm((D_0 + D_1 * z) * t)"
   ]
  },
  {
   "cell_type": "markdown",
   "metadata": {},
   "source": [
    "$$K_n^{(j)}$$"
   ]
  },
  {
   "cell_type": "code",
   "execution_count": 16,
   "metadata": {},
   "outputs": [],
   "source": [
    "@cache\n",
    "def K_n(n, j):\n",
    "    if j == 0 and n == 0:\n",
    "        return I.copy()\n",
    "    elif j == 0 and n >= 1:\n",
    "        return O.copy()\n",
    "    elif n == 0:\n",
    "        return K_n(0, j - 1) * (I + D_0 / h)\n",
    "    elif n>=1 and j>=1:\n",
    "        return K_n(n - 1, j-1) * D_1 / h + K_n(n, j-1) * (I + D_0 / h)\n"
   ]
  },
  {
   "cell_type": "markdown",
   "metadata": {},
   "source": [
    "$$\\Phi(i,k)$$"
   ]
  },
  {
   "cell_type": "code",
   "execution_count": 17,
   "metadata": {},
   "outputs": [],
   "source": [
    "@cache\n",
    "def Phi_i_k(i, k):\n",
    "    norm = 1\n",
    "    j = 0\n",
    "    summa = 0\n",
    "    while norm > epsilon or norm == 0:\n",
    "        try:\n",
    "            element = (h * b_1)**j / fact(j) * K_n(i, j)\n",
    "        except:\n",
    "            break\n",
    "        norm = LA.norm(element)\n",
    "        summa += element\n",
    "        j += 1\n",
    "    return np.exp(-(h + gamma) * b_1) * (gamma * b_1)**k / fact(k) * summa"
   ]
  },
  {
   "cell_type": "markdown",
   "metadata": {},
   "source": [
    "$$\\hat\\Phi(i,k)$$"
   ]
  },
  {
   "cell_type": "code",
   "execution_count": 18,
   "metadata": {},
   "outputs": [],
   "source": [
    "@cache\n",
    "def gamma_b_1_l(l):\n",
    "    mul = 1\n",
    "    for z in (gamma * b_1 / x for x in range(1, l + 1)):\n",
    "        mul *= z\n",
    "    return mul\n",
    "\n",
    "@cache\n",
    "def hat_Phi_i_k(i, k):\n",
    "    # First summ\n",
    "    norm = 1\n",
    "    j = 0\n",
    "    summa_1 = 0\n",
    "    while norm > epsilon or norm == 0:\n",
    "        try:\n",
    "            element = (h * b_1)**j / fact(j) * K_n(i, j)\n",
    "        except:\n",
    "            break\n",
    "        norm = LA.norm(element)\n",
    "        summa_1 += element\n",
    "        j += 1\n",
    "    # Second sum\n",
    "    norm = 1\n",
    "    l = k\n",
    "    summa_2 = 0\n",
    "    while norm > epsilon or norm == 0:\n",
    "        #element = (gamma * b_1)**l / fact(l)\n",
    "        element = gamma_b_1_l(l)\n",
    "        norm = LA.norm(element)\n",
    "        summa_2 += element\n",
    "        l += 1\n",
    "    return np.exp(-(h + gamma) * b_1) * summa_1 * summa_2"
   ]
  },
  {
   "cell_type": "markdown",
   "metadata": {},
   "source": [
    "$$N(m)$$"
   ]
  },
  {
   "cell_type": "markdown",
   "metadata": {},
   "source": [
    "$$ N(m) =\\frac{\\gamma}{h+\\gamma} \\sum\\limits_{j=0}^{\\infty}(\\frac{h}{h+\\gamma})^jK_m^{(j)},\\;$ $m \\ge 0$$"
   ]
  },
  {
   "cell_type": "code",
   "execution_count": 19,
   "metadata": {},
   "outputs": [],
   "source": [
    "@cache\n",
    "def N(m):\n",
    "    norm = 1\n",
    "    j = 0\n",
    "    summa = 0\n",
    "    count_null = 0\n",
    "    while norm > epsilon or count_null < 200:\n",
    "        element = (h / (h + gamma))**j * K_n(m, j)\n",
    "        norm = LA.norm(element)\n",
    "        if norm == 0:\n",
    "            count_null += 1\n",
    "        else:\n",
    "            count_null = 0\n",
    "        summa += element\n",
    "        j += 1\n",
    "    return gamma / (h + gamma) * summa"
   ]
  },
  {
   "cell_type": "markdown",
   "metadata": {},
   "source": [
    "$$M(r)$$"
   ]
  },
  {
   "cell_type": "code",
   "execution_count": 20,
   "metadata": {},
   "outputs": [],
   "source": [
    "@cache\n",
    "def M(r):\n",
    "    return gamma**r * (-D_0 + gamma * I)**(-(r + 1)) * D_1"
   ]
  },
  {
   "cell_type": "markdown",
   "metadata": {},
   "source": [
    "$$\\hat M(r)$$"
   ]
  },
  {
   "cell_type": "code",
   "execution_count": 21,
   "metadata": {},
   "outputs": [],
   "source": [
    "@cache\n",
    "def hat_M(r):\n",
    "    return gamma**r * (-D_0 + gamma * I)**(-r) * (-D_0)**(-1) * D_1"
   ]
  },
  {
   "cell_type": "markdown",
   "metadata": {},
   "source": [
    "$$P\\left\\{(0, 0) \\to (j, k' ) \\right\\}=M(0)\\sum\\limits_{n = 0}^{j}N(n)\\Phi(j-n, k') + N(0)\\sum\\limits_{m = 0}^{k'}M(m)\\Phi(j, k' - m),$$\n",
    "$$\\; k'= {\\overline{0,K-2}};$$"
   ]
  },
  {
   "cell_type": "code",
   "execution_count": 22,
   "metadata": {},
   "outputs": [],
   "source": [
    "@cache\n",
    "def P_0_0_j_k_(j, k_):\n",
    "    summa_1 = np.zeros((matrix_size, matrix_size))\n",
    "    summa_2 = np.zeros((matrix_size, matrix_size))\n",
    "    for n in range(j + 1):\n",
    "        summa_1 += N(n) * Phi_i_k(j - n, k_)\n",
    "    for m in range(k_ + 1):\n",
    "        summa_2 += M(m) * Phi_i_k(j, k_ - m)\n",
    "    return M(0) * summa_1 + N(0) * summa_2    "
   ]
  },
  {
   "cell_type": "markdown",
   "metadata": {},
   "source": [
    "\n",
    "$$P\\left\\{(0, 0) \\to (j,K-1 ) \\right\\}= N(0)\\biggl[\\sum\\limits_{m = 0}^{K-1}M(m)\\Phi(j, K-1 - m)\n",
    "+\\hat {M}(K) \\Phi(j, 0)\\biggr] $$$$+M(0)\\sum\\limits_{n = 0}^{j}N(n)\\Phi(j-n, K-1);$$"
   ]
  },
  {
   "cell_type": "code",
   "execution_count": 23,
   "metadata": {},
   "outputs": [],
   "source": [
    "@cache\n",
    "def P_0_0_j_K_1(j):\n",
    "    summa_1 = np.zeros((matrix_size, matrix_size))\n",
    "    summa_2 = np.zeros((matrix_size, matrix_size))\n",
    "    for m in range(K):\n",
    "        summa_1 += M(m) * Phi_i_k(j, K - 1 - m)\n",
    "    summa_1 += hat_M(K) * Phi_i_k(j, 0)\n",
    "\n",
    "    for n in range(j + 1):\n",
    "        summa_2 += N(n) * Phi_i_k(j - n, K - 1)\n",
    "\n",
    "    return N(0) * summa_1 + M(0) * summa_2"
   ]
  },
  {
   "cell_type": "markdown",
   "metadata": {},
   "source": [
    "$$P\\left\\{(0, 0) \\to (j, K) \\right\\}= N(0)\\biggl[\\sum\\limits_{m = 0}^{K-1}M(m)\\hat\\Phi(j, K - m) + \\hat M(K)\\hat \\Phi(j, 1)\\biggr]\n",
    "$$$$+M(0)\\sum\\limits_{n = 0}^{j}N(n)\\hat\\Phi(j-n, K);$$\n",
    "\n"
   ]
  },
  {
   "cell_type": "code",
   "execution_count": 24,
   "metadata": {},
   "outputs": [],
   "source": [
    "@cache\n",
    "def P_0_0_j_K(j):\n",
    "    summa_1 = np.zeros((matrix_size, matrix_size))\n",
    "    summa_2 = np.zeros((matrix_size, matrix_size))\n",
    "    for m in range(K):\n",
    "        summa_1 += M(m) * hat_Phi_i_k(j, K - m)\n",
    "    summa_1 += hat_M(K) * hat_Phi_i_k(j, 1)\n",
    "\n",
    "    for n in range(j + 1):\n",
    "        summa_2 += N(n) * hat_Phi_i_k(j - n, K)\n",
    "\n",
    "    return N(0) * summa_1 + M(0) * summa_2"
   ]
  },
  {
   "cell_type": "markdown",
   "metadata": {},
   "source": [
    "$$P\\left\\{(0, k) \\to (j, k') \\right\\}=\\sum\\limits_{m = 0}^{k'-k+1}M(m)\\Phi(j,k' - k + 1 - m),\\;  k=\\overline{1,K}, k' =\\overline{k-1, {K-2}};$$"
   ]
  },
  {
   "cell_type": "code",
   "execution_count": 25,
   "metadata": {},
   "outputs": [],
   "source": [
    "@cache\n",
    "def P_0_k_j_k_(j, k, k_):\n",
    "    summa_1 = np.zeros((matrix_size, matrix_size))\n",
    "    for m in range(k_ - k + 2):\n",
    "        summa_1 += M(m) * Phi_i_k(j, k_ - k + 1 - m)\n",
    "    return summa_1"
   ]
  },
  {
   "cell_type": "markdown",
   "metadata": {},
   "source": [
    "$$P\\left\\{(0, k) \\to (j, K-1) \\right\\}=\\sum\\limits_{m = 0}^{K-k}M(m)\\Phi(j,K-k - m)+\n",
    "\\hat{M}(K-k+1)\\Phi(j,0),\\; k=\\overline{1,K};\n",
    "$$"
   ]
  },
  {
   "cell_type": "code",
   "execution_count": 26,
   "metadata": {},
   "outputs": [],
   "source": [
    "@cache\n",
    "def P_0_k_j_K_1(j, k):\n",
    "    summa_1 = np.zeros((matrix_size, matrix_size))\n",
    "    for m in range(K - k + 1):\n",
    "        summa_1 += M(m) * Phi_i_k(j, K - k - m)\n",
    "    summa_1 += hat_M(K - k + 1) * Phi_i_k(j, 0)\n",
    "    return summa_1"
   ]
  },
  {
   "cell_type": "markdown",
   "metadata": {},
   "source": [
    "$$P\\left\\{(0, k) \\to (j, K)\\right\\}=\\sum\\limits_{m = 0}^{K-k}M(m) \\hat \\Phi(j, K - k + 1 - m) + \\hat M(K - k + 1)\\hat \\Phi(j, 1),\\;  k =\\overline{1,K};$$"
   ]
  },
  {
   "cell_type": "code",
   "execution_count": 27,
   "metadata": {},
   "outputs": [],
   "source": [
    "@cache\n",
    "def P_0_k_j_K(j, k):\n",
    "    summa_1 = np.zeros((matrix_size, matrix_size))\n",
    "    for m in range(K - k + 1):\n",
    "        summa_1 += M(m) * hat_Phi_i_k(j, K - k + 1 - m)\n",
    "    summa_1 += hat_M(K - k + 1) * hat_Phi_i_k(j, 1)\n",
    "    return summa_1"
   ]
  },
  {
   "cell_type": "markdown",
   "metadata": {},
   "source": [
    "$$P\\left\\{(i, 0) \\to (j, k')  \\right\\}= \\sum\\limits_{m = 0}^{j - i + 1}N(m)\\Phi(j - i + 1 - m, k'),\\; i\\geq 1,\\;  k' =\\overline{0, K-1}; $$"
   ]
  },
  {
   "cell_type": "code",
   "execution_count": 28,
   "metadata": {},
   "outputs": [],
   "source": [
    "@cache\n",
    "def P_i_0_j_k_(i, j, k_):\n",
    "    summa_1 = np.zeros((matrix_size, matrix_size))\n",
    "    for m in range(j - i + 2):\n",
    "        summa_1 += N(m) * Phi_i_k(j - i + 1 - m, k_)\n",
    "    return summa_1"
   ]
  },
  {
   "cell_type": "code",
   "execution_count": 29,
   "metadata": {},
   "outputs": [],
   "source": [
    "@cache\n",
    "def P_i_0_j_k_(l, k_):\n",
    "    summa_1 = np.zeros((matrix_size, matrix_size))\n",
    "    for m in range(l + 1):\n",
    "        summa_1 += N(m) * Phi_i_k(l - m, k_)\n",
    "    return summa_1"
   ]
  },
  {
   "cell_type": "markdown",
   "metadata": {},
   "source": [
    "$$P\\left\\{(i, 0) \\to (j, K) \\right\\}=\\sum\\limits_{m = 0}^{j - i + 1}N(m)\\hat \\Phi(j - i + 1 - m, K),\\; i \\geq 1; $$"
   ]
  },
  {
   "cell_type": "code",
   "execution_count": 30,
   "metadata": {},
   "outputs": [],
   "source": [
    "@cache\n",
    "def P_i_0_j_K(i, j):\n",
    "    summa_1 = np.zeros((matrix_size, matrix_size))\n",
    "    for m in range(j - i + 2):\n",
    "        summa_1 += N(m) * hat_Phi_i_k(j - i + 1 - m, K)\n",
    "    return summa_1"
   ]
  },
  {
   "cell_type": "code",
   "execution_count": 31,
   "metadata": {},
   "outputs": [],
   "source": [
    "@cache\n",
    "def P_i_0_j_K(l):\n",
    "    summa_1 = np.zeros((matrix_size, matrix_size))\n",
    "    for m in range(l + 1):\n",
    "        summa_1 += N(m) * hat_Phi_i_k(l - m, K)\n",
    "    return summa_1"
   ]
  },
  {
   "cell_type": "markdown",
   "metadata": {},
   "source": [
    "\n",
    "$$P\\left\\{(i, k) \\to (j, k') \\right\\} =\\Phi(j - i + 1, k' - k+1),\\; i \\geq 1,\\;  k' =\\overline{k-1, K-1},\\; k=\\overline{1,K};$$"
   ]
  },
  {
   "cell_type": "code",
   "execution_count": 32,
   "metadata": {},
   "outputs": [],
   "source": [
    "@cache\n",
    "def P_i_k_j_k_(i, j, k, k_):\n",
    "    return Phi_i_k(j - i + 1, k_ - k + 1)"
   ]
  },
  {
   "cell_type": "code",
   "execution_count": 33,
   "metadata": {},
   "outputs": [],
   "source": [
    "@cache\n",
    "def P_i_k_j_k_(l, k, k_):\n",
    "    return Phi_i_k(l, k_ - k + 1)"
   ]
  },
  {
   "cell_type": "code",
   "execution_count": 34,
   "metadata": {},
   "outputs": [],
   "source": [
    "#P_i_k_j_k_(1,1,1,1)"
   ]
  },
  {
   "cell_type": "markdown",
   "metadata": {},
   "source": [
    "$$P\\left\\{(i, k) \\to (j, K)\\right\\}= \\hat \\Phi(j - i + 1, K - k+1),\\; i \\geq 1,\\;  k=\\overline{1,K}.$$"
   ]
  },
  {
   "cell_type": "code",
   "execution_count": 35,
   "metadata": {},
   "outputs": [],
   "source": [
    "@cache\n",
    "def P_i_k_j_K(i, j, k):\n",
    "    return hat_Phi_i_k(j - i + 1, K - k + 1)"
   ]
  },
  {
   "cell_type": "code",
   "execution_count": 36,
   "metadata": {},
   "outputs": [],
   "source": [
    "@cache\n",
    "def P_i_k_j_K(l, k):\n",
    "    return hat_Phi_i_k(l, K - k + 1)"
   ]
  },
  {
   "cell_type": "code",
   "execution_count": 37,
   "metadata": {},
   "outputs": [],
   "source": [
    "P = np.zeros((K + 1, K + 1))"
   ]
  },
  {
   "cell_type": "markdown",
   "metadata": {},
   "source": [
    "### $V_j$ and $Y_l$"
   ]
  },
  {
   "cell_type": "code",
   "execution_count": 38,
   "metadata": {},
   "outputs": [],
   "source": [
    "@cache\n",
    "def V(j_1):\n",
    "    block = []\n",
    "    for i in range(K + 1):\n",
    "        row = []\n",
    "        for j in range(K + 1):\n",
    "            if i == 0 and j <= K - 2:                         \n",
    "                row.append(P_0_0_j_k_(j_1, j))\n",
    "            elif i == 0 and j == K - 1:\n",
    "                row.append(P_0_0_j_K_1(j_1))\n",
    "            elif i == 0 and j == K:\n",
    "                row.append(P_0_0_j_K(j_1)) \n",
    "            elif i > 0 and j >= i - 1 and j <= K - 2:\n",
    "                row.append(P_0_k_j_k_(j_1, i, j))\n",
    "            elif i > 0 and j == K - 1:\n",
    "                row.append(P_0_k_j_K_1(j_1, i))\n",
    "            elif i > 0 and j == K:\n",
    "                row.append(P_0_k_j_K(j_1, i))\n",
    "            else:\n",
    "                row.append(O)\n",
    "        block.append(row)\n",
    "    return np.block(block)"
   ]
  },
  {
   "cell_type": "code",
   "execution_count": 39,
   "metadata": {},
   "outputs": [],
   "source": [
    "@cache\n",
    "def Y(l):\n",
    "    block = []\n",
    "    for i in range(K + 1):\n",
    "        row = []\n",
    "        for j in range(K + 1):\n",
    "            if i == 0 and j <= K - 1:        \n",
    "                row.append(P_i_0_j_k_(l, j))\n",
    "            elif i == 0 and j == K:\n",
    "                row.append(P_i_0_j_K(l)) \n",
    "            elif i > 0 and j >= i - 1 and j <= K - 1:\n",
    "                row.append(P_i_k_j_k_(l, i, j))\n",
    "            elif i > 0 and j == K:\n",
    "                row.append(P_i_k_j_K(l, i))\n",
    "            else:\n",
    "                row.append(O)\n",
    "        block.append(row)\n",
    "    return np.block(block)"
   ]
  },
  {
   "cell_type": "code",
   "execution_count": 40,
   "metadata": {},
   "outputs": [
    {
     "data": {
      "text/plain": [
       "matrix([[0.99999927],\n",
       "        [0.99999997],\n",
       "        [1.        ],\n",
       "        [1.        ],\n",
       "        [1.        ],\n",
       "        [1.        ],\n",
       "        [1.        ],\n",
       "        [1.        ],\n",
       "        [1.        ],\n",
       "        [1.        ]])"
      ]
     },
     "execution_count": 40,
     "metadata": {},
     "output_type": "execute_result"
    }
   ],
   "source": [
    "a = V(0).sum(axis=1)\n",
    "for x in range(1, 20):\n",
    "    a += V(x).sum(axis=1)\n",
    "a"
   ]
  },
  {
   "cell_type": "code",
   "execution_count": 41,
   "metadata": {},
   "outputs": [
    {
     "data": {
      "text/plain": [
       "matrix([[0.99999855],\n",
       "        [0.99999994],\n",
       "        [1.        ],\n",
       "        [1.        ],\n",
       "        [1.        ],\n",
       "        [1.        ],\n",
       "        [1.        ],\n",
       "        [1.        ],\n",
       "        [1.        ],\n",
       "        [1.        ]])"
      ]
     },
     "execution_count": 41,
     "metadata": {},
     "output_type": "execute_result"
    }
   ],
   "source": [
    "a = Y(0).sum(axis=1)\n",
    "for x in range(1, 20):\n",
    "    a += Y(x).sum(axis=1)\n",
    "a"
   ]
  },
  {
   "cell_type": "markdown",
   "metadata": {},
   "source": [
    "### Ergodicity"
   ]
  },
  {
   "cell_type": "code",
   "execution_count": 42,
   "metadata": {},
   "outputs": [],
   "source": [
    "def ksis():\n",
    "    ksis = np.zeros(K + 1)\n",
    "    ksis[0] = 1\n",
    "    varphi_0 = varphi_k(0)\n",
    "\n",
    "    for k in range(0, K):\n",
    "        summ = np.sum(np.array([ksis[i] * varphi_k(k + 1 - i) for i in range(1, k+1)]))\n",
    "        ksis[k + 1] = (ksis[k] - varphi_k(k) - summ) / varphi_0\n",
    "    return ksis"
   ]
  },
  {
   "cell_type": "code",
   "execution_count": 43,
   "metadata": {},
   "outputs": [],
   "source": [
    "def ergodicity():\n",
    "\n",
    "    u_0 = 1 / ksis().sum()\n",
    "\n",
    "    return lambd * b_1 + u_0 * lambd / gamma"
   ]
  },
  {
   "cell_type": "markdown",
   "metadata": {},
   "source": [
    "### Stationary distribution"
   ]
  },
  {
   "cell_type": "markdown",
   "metadata": {},
   "source": [
    " 1. Calculate the matrix $G$ as the minimal nonnegative solution to equation\n",
    " $$G = Y(G) = \\sum\\limits_{l=0}^{\\infty}Y_lG^l$$ \n",
    " \n",
    " We will use fixed-point iteration method:\n",
    " $$G_{k+1} = \\sum\\limits_{j=0, j\\neq1}^{\\infty}(I-Y_1)^{-1}Y_jG_k^j, k\\geq0, G_0 = I$$"
   ]
  },
  {
   "cell_type": "code",
   "execution_count": 44,
   "metadata": {},
   "outputs": [],
   "source": [
    "epsilon_G = 1e-10"
   ]
  },
  {
   "cell_type": "code",
   "execution_count": 45,
   "metadata": {},
   "outputs": [],
   "source": [
    "def sum_Y_G(G):\n",
    "    I_ = np.matrix(np.identity((W + 1) * (K + 1)))\n",
    "    norm = 1\n",
    "    j = 0\n",
    "    I_Y_1 = (I_ - Y(1))**(-1)\n",
    "    summa = I_Y_1 * Y(j) * G**j\n",
    "    j = 2\n",
    "    while norm > epsilon_G:\n",
    "        element = I_Y_1 * Y(j) * G**j\n",
    "        norm = LA.norm(element)\n",
    "        summa += element\n",
    "        j += 1\n",
    "    return summa"
   ]
  },
  {
   "cell_type": "code",
   "execution_count": 46,
   "metadata": {},
   "outputs": [],
   "source": [
    "def find_G():\n",
    "    Y_size = len(Y(0))\n",
    "    G_0 = np.matrix(np.identity(Y_size))\n",
    "    norm = 1\n",
    "    count = 0\n",
    "    while norm > epsilon_G:\n",
    "        G_1 = sum_Y_G(G_0)\n",
    "        norm = LA.norm(G_1 - G_0)\n",
    "        count += 1\n",
    "#        print(norm)\n",
    "        G_0 = G_1\n",
    "    return G_0"
   ]
  },
  {
   "cell_type": "code",
   "execution_count": 47,
   "metadata": {},
   "outputs": [
    {
     "data": {
      "text/plain": [
       "matrix([[0.99999997],\n",
       "        [1.        ],\n",
       "        [0.99999999],\n",
       "        [1.        ],\n",
       "        [1.        ],\n",
       "        [1.        ],\n",
       "        [1.        ],\n",
       "        [1.        ],\n",
       "        [1.        ],\n",
       "        [1.        ]])"
      ]
     },
     "execution_count": 47,
     "metadata": {},
     "output_type": "execute_result"
    }
   ],
   "source": [
    "G_0 = find_G()\n",
    "G_0.sum(axis=1)"
   ]
  },
  {
   "cell_type": "markdown",
   "metadata": {},
   "source": [
    "2. Calculate the matrices $\\bar{P}_{i,l}$ as follows:\n",
    "$$\\bar{P}_{0,l}=\\sum\\limits_{n=l}^{\\infty}V_nG^{n-l}, l\\geq0$$\n",
    "$$\\bar{P}_{i,l}=\\sum\\limits_{n=l-i+1}^{\\infty}Y_nG^{n-l+i-1}, l\\geq i, i\\geq0$$"
   ]
  },
  {
   "cell_type": "code",
   "execution_count": 48,
   "metadata": {},
   "outputs": [],
   "source": [
    "@cache\n",
    "def bar_0_l(l):\n",
    "    norm = 1\n",
    "    summa = 0\n",
    "    n = l\n",
    "    while norm > epsilon:\n",
    "        element = V(n) * G_0**(n - l)\n",
    "        summa += element\n",
    "        norm = LA.norm(element)\n",
    "        n += 1\n",
    "    return summa"
   ]
  },
  {
   "cell_type": "code",
   "execution_count": 49,
   "metadata": {},
   "outputs": [],
   "source": [
    "@cache\n",
    "def bar_i_l(i, l):\n",
    "    norm = 1\n",
    "    summa = 0\n",
    "    n = l - i + 1\n",
    "    while norm > epsilon:\n",
    "        element = Y(n) * G_0**(n - l + i - 1)\n",
    "        summa += element\n",
    "        norm = LA.norm(element)\n",
    "        n += 1\n",
    "    return summa"
   ]
  },
  {
   "cell_type": "markdown",
   "metadata": {},
   "source": [
    "3. Calculate the matrices $F_l, l\\geq 1$, using the recurrent firmulas\n",
    "$$F_l=(\\bar{P}_{0,l}+\\sum\\limits_{i=0}^{l-1}F_i\\bar{P}_{i,l})(I-\\bar{P}_{l,l})^{-1}, l\\geq1$$"
   ]
  },
  {
   "cell_type": "code",
   "execution_count": 50,
   "metadata": {},
   "outputs": [],
   "source": [
    "@cache\n",
    "def F_l(l):\n",
    "    I = np.matrix(np.identity((W + 1) * (K + 1)))\n",
    "    if l == 0:        \n",
    "        return I\n",
    "    else:\n",
    "        summa = np.matrix(np.zeros(((W + 1) * (K + 1), (W + 1) * (K + 1))))\n",
    "        for i in range(1, l):\n",
    "            summa += F_l(i) * bar_i_l(i, l)\n",
    "        return (bar_0_l(l) + summa) * ((I - bar_i_l(l, l))**(-1))"
   ]
  },
  {
   "cell_type": "markdown",
   "metadata": {},
   "source": [
    "4. Calculate the vector $\\bf{\\pi_0}$ as the unique solution of the system\n",
    "$$\\pi_0(I-\\bar{P}_{0,0})=0$$\n",
    "$$\\pi_0(I+\\sum\\limits_{l=1}^{\\infty}F_l)e=1$$"
   ]
  },
  {
   "cell_type": "code",
   "execution_count": 51,
   "metadata": {},
   "outputs": [],
   "source": [
    "def find_pi_0():\n",
    "    I_ = np.matrix(np.identity((W + 1) * (K + 1)))\n",
    "    e = np.matrix(np.ones(((W + 1) * (K + 1), 1)))\n",
    "    norm = 1\n",
    "    summa = 0\n",
    "    l = 1\n",
    "    while norm > epsilon_f:\n",
    "        element = F_l(l)\n",
    "        norm = LA.norm(element)\n",
    "        summa += element\n",
    "        l += 1\n",
    "    a = np.concatenate((\n",
    "        ((I_ + summa) * e).transpose(),\n",
    "        np.delete((I_ - bar_0_l(0)), 0, 1).transpose()\n",
    "        )\n",
    "    )\n",
    "    b = np.concatenate((\n",
    "        np.matrix(1), \n",
    "        np.zeros([(W + 1) * (K + 1) - 1,1]))\n",
    "    )\n",
    "    return LA.solve(a=a, b=b).T"
   ]
  },
  {
   "cell_type": "code",
   "execution_count": 52,
   "metadata": {
    "scrolled": true
   },
   "outputs": [
    {
     "data": {
      "text/plain": [
       "matrix([[0.03513746, 0.0026277 , 0.03753279, 0.00154347, 0.03728701,\n",
       "         0.00080309, 0.04179094, 0.00315783, 0.0171325 , 0.00148727]])"
      ]
     },
     "execution_count": 52,
     "metadata": {},
     "output_type": "execute_result"
    }
   ],
   "source": [
    "pi_0 = find_pi_0()\n",
    "pi_0"
   ]
  },
  {
   "cell_type": "markdown",
   "metadata": {},
   "source": [
    "$$\\pi_l=\\pi_0F_l, l\\geq1$$"
   ]
  },
  {
   "cell_type": "code",
   "execution_count": 53,
   "metadata": {},
   "outputs": [],
   "source": [
    "def pi_l(l):\n",
    "    if l == 0:\n",
    "        return find_pi_0()\n",
    "    else:\n",
    "        return find_pi_0() * F_l(l)"
   ]
  },
  {
   "cell_type": "code",
   "execution_count": 54,
   "metadata": {},
   "outputs": [],
   "source": [
    "def pi_l_array():\n",
    "    pi_i = []\n",
    "    pi_i.append(pi_0.copy())\n",
    "    l = 1\n",
    "    norm = 1\n",
    "    while norm > epsilon_f:\n",
    "        element = pi_l(l)\n",
    "        norm = LA.norm(element)\n",
    "        pi_i.append(element)\n",
    "        l +=1 \n",
    "    return pi_i"
   ]
  },
  {
   "cell_type": "code",
   "execution_count": 55,
   "metadata": {},
   "outputs": [],
   "source": [
    "pi_i = pi_l_array()"
   ]
  },
  {
   "cell_type": "code",
   "execution_count": 56,
   "metadata": {
    "scrolled": true
   },
   "outputs": [
    {
     "data": {
      "text/plain": [
       "0.9999999979472276"
      ]
     },
     "execution_count": 56,
     "metadata": {},
     "output_type": "execute_result"
    }
   ],
   "source": [
    "a = 0\n",
    "for x in pi_i:\n",
    "    a += x.sum()\n",
    "a"
   ]
  },
  {
   "cell_type": "code",
   "execution_count": 57,
   "metadata": {
    "scrolled": false
   },
   "outputs": [
    {
     "data": {
      "text/plain": [
       "matrix([[0.45505318, 0.03891502, 0.25492262, 0.01927079, 0.11390884,\n",
       "         0.00579201, 0.07701492, 0.00440371, 0.02893966, 0.00177924]])"
      ]
     },
     "execution_count": 57,
     "metadata": {},
     "output_type": "execute_result"
    }
   ],
   "source": [
    "sum(pi_i)"
   ]
  },
  {
   "cell_type": "code",
   "execution_count": 58,
   "metadata": {},
   "outputs": [
    {
     "data": {
      "text/plain": [
       "0.9999999979472277"
      ]
     },
     "execution_count": 58,
     "metadata": {},
     "output_type": "execute_result"
    }
   ],
   "source": [
    "sum(pi_i).sum()"
   ]
  },
  {
   "cell_type": "code",
   "execution_count": 59,
   "metadata": {},
   "outputs": [
    {
     "data": {
      "text/plain": [
       "0.7504092190832229"
      ]
     },
     "execution_count": 59,
     "metadata": {},
     "output_type": "execute_result"
    }
   ],
   "source": [
    "ergodicity()"
   ]
  },
  {
   "cell_type": "markdown",
   "metadata": {},
   "source": [
    "### Performance measures"
   ]
  },
  {
   "cell_type": "markdown",
   "metadata": {},
   "source": [
    "$$L = \\sum\\limits_{i=0}^{\\infty}i\\pi_ie$$"
   ]
  },
  {
   "cell_type": "code",
   "execution_count": 60,
   "metadata": {},
   "outputs": [
    {
     "data": {
      "text/plain": [
       "11.53764704299865"
      ]
     },
     "execution_count": 60,
     "metadata": {},
     "output_type": "execute_result"
    }
   ],
   "source": [
    "def find_L():\n",
    "    L = 0\n",
    "    e = np.matrix(np.ones(((W + 1) * (K + 1), 1)))\n",
    "    norm = 1\n",
    "    i = 1\n",
    "    while norm > epsilon:\n",
    "        norm = i * pi_l(i) * e\n",
    "        i += 1\n",
    "        L += norm\n",
    "    return float(L)\n",
    "L = find_L()\n",
    "L"
   ]
  },
  {
   "cell_type": "code",
   "execution_count": 61,
   "metadata": {},
   "outputs": [],
   "source": [
    "def result():\n",
    "    e = np.matrix(np.ones(((W + 1) * (K + 1), 1)))\n",
    "    with open('result.txt', 'w') as f:\n",
    "        f.write(\"-\" * 5 + \"Inputs\" + \"-\" * 5 + \"\\n\")\n",
    "        f.write('\\n- Accuracy -\\n')\n",
    "        f.write(f\"epsilon = {float(epsilon)}\\n\")\n",
    "        f.write(f\"epsilon_f = {float(epsilon_f)}\\n\")\n",
    "        f.write(f\"epsilon_G = {float(epsilon_G)}\\n\")\n",
    "        f.write('\\n- Params -\\n')\n",
    "        f.write(f\"D_0 = \\n{str(D_0)}\\n\")\n",
    "        f.write(f\"D_1 = \\n{str(D_1)}\\n\")\n",
    "        f.write(f\"lambda = {float(lambd)}\\n\")\n",
    "        f.write(f\"gamma = {float(gamma)}\\n\")\n",
    "        f.write(f\"b_1 = {float(b_1)}\\n\")\n",
    "        f.write(f\"K = {int(K)}\\n\")\n",
    "\n",
    "        f.write('\\n\\n')\n",
    "        f.write(\"-\" * 5 + \"Results\" + \"-\" * 5 + \"\\n\\n\")\n",
    "        f.write(f\"rho = {float(ergodicity())}\\n\\n\")\n",
    "        f.write(f\"L = {float(find_L())}\\n\\n\")\n",
    "#        f.write('\\n--- pi_i ---\\n')\n",
    "#        for i, x in enumerate(pi_i):\n",
    "#            f.write(f'pi_{i} = ')\n",
    "#            f.write(str(x))\n",
    "#            f.write('\\n')\n",
    "#        f.write('\\n')\n",
    "#        f.write('\\n--- pi_i * e ---\\n')\n",
    "        for i, x in enumerate(pi_i):\n",
    "            f.write(f'pi_{i}*e = ')\n",
    "            f.write(str(x * e))\n",
    "            f.write('\\n')\n",
    "        f.write('\\n\\n')\n",
    "        f.write('p_i = ')\n",
    "        p_ie = sum(pi_i)\n",
    "        f.write(str(p_ie))\n",
    "        f.write('\\n\\n')\n",
    "        f.write('p_i*e = ')\n",
    "        f.write(str(p_ie.sum()))\n",
    "result()"
   ]
  },
  {
   "cell_type": "code",
   "execution_count": 62,
   "metadata": {},
   "outputs": [],
   "source": [
    "def cache_clear():\n",
    "    varphi_k_t.cache_clear()\n",
    "    hat_varphi_k_t.cache_clear()\n",
    "    varphi_k.cache_clear()\n",
    "    hat_varphi_k.cache_clear()\n",
    "    P_i_t_z.cache_clear()\n",
    "    K_n.cache_clear()\n",
    "    Phi_i_k.cache_clear()\n",
    "    hat_Phi_i_k.cache_clear()\n",
    "    N.cache_clear()\n",
    "    M.cache_clear()\n",
    "    hat_M.cache_clear()\n",
    "    P_0_0_j_k_.cache_clear()\n",
    "    P_0_0_j_K_1.cache_clear()\n",
    "    P_0_0_j_K.cache_clear()\n",
    "    P_0_k_j_k_.cache_clear()\n",
    "    P_0_k_j_K_1.cache_clear()\n",
    "    P_0_k_j_K.cache_clear()\n",
    "    P_i_0_j_k_.cache_clear()\n",
    "    P_i_0_j_k_.cache_clear()\n",
    "    P_i_0_j_K.cache_clear()\n",
    "    P_i_0_j_K.cache_clear()\n",
    "    P_i_k_j_k_.cache_clear()\n",
    "    P_i_k_j_k_.cache_clear()\n",
    "    P_i_k_j_K.cache_clear()\n",
    "    P_i_k_j_K.cache_clear()\n",
    "    gamma_b_1_l.cache_clear()\n",
    "    V.cache_clear()\n",
    "    Y.cache_clear()\n",
    "    bar_0_l.cache_clear()\n",
    "    bar_i_l.cache_clear()\n",
    "    F_l.cache_clear()"
   ]
  },
  {
   "cell_type": "markdown",
   "metadata": {},
   "source": [
    "### Experiment 1"
   ]
  },
  {
   "cell_type": "code",
   "execution_count": 81,
   "metadata": {},
   "outputs": [],
   "source": [
    "Ds = [\n",
    "    (np.matrix([-lambd]), np.matrix([lambd])),\n",
    "    (np.matrix([\n",
    "        [-0.405780, 0],\n",
    "        [0, -0.013173]\n",
    "    ]),\n",
    "    np.matrix([\n",
    "        [0.403080, 0.0027],\n",
    "        [0.007338, 0.005835]\n",
    "    ])),\n",
    "        (np.matrix([\n",
    "    [-0.21632047,  0.        ],\n",
    "        [ 0.        , -0.00544807]\n",
    "    ]),\n",
    "    np.matrix([\n",
    "    [0.21601763, 0.00030285],\n",
    "    [0.00080119, 0.00464688]\n",
    "    ]))\n",
    "]"
   ]
  },
  {
   "cell_type": "code",
   "execution_count": 83,
   "metadata": {
    "scrolled": true
   },
   "outputs": [
    {
     "name": "stderr",
     "output_type": "stream",
     "text": [
      "100%|█████████████████████████████████████████| 10/10 [00:00<00:00, 8756.38it/s]\n",
      "100%|████████████████████████████████████████| 10/10 [00:00<00:00, 10300.35it/s]\n",
      "100%|█████████████████████████████████████████| 10/10 [00:00<00:00, 9597.95it/s]\n"
     ]
    }
   ],
   "source": [
    "K_RANGE = 11\n",
    "b_1s = [0.5, 1, 1.5, 2]\n",
    "rhos_all = []\n",
    "#for b_1 in b_1s:\n",
    "for D in Ds:\n",
    "    D_0, D_1 = D\n",
    "    lambd = 0.3\n",
    "    h = np.diag(-D_0).max()\n",
    "    W = len(D_0) - 1\n",
    "    O = np.matrix(np.zeros((W + 1, W + 1)))\n",
    "    I = np.matrix(np.identity(W + 1))\n",
    "    D_0, D_1 = set_lambda(D_0, D_1)\n",
    "    h = np.diag(-D_0).max()\n",
    "    rhos = []\n",
    "    for K in tqdm(range(1, K_RANGE)):\n",
    "        cache_clear()\n",
    "        rhos.append(ergodicity())\n",
    "    rhos_all.append(rhos)"
   ]
  },
  {
   "cell_type": "code",
   "execution_count": 102,
   "metadata": {
    "scrolled": true
   },
   "outputs": [
    {
     "name": "stdout",
     "output_type": "stream",
     "text": [
      "0.8027400345267295\n",
      "0.0\n"
     ]
    },
    {
     "name": "stderr",
     "output_type": "stream",
     "text": [
      "100%|███████████████████████████████████████████| 10/10 [00:26<00:00,  2.61s/it]\n"
     ]
    },
    {
     "name": "stdout",
     "output_type": "stream",
     "text": [
      "0.7500000247156775\n",
      "0.20047081225664704\n"
     ]
    },
    {
     "name": "stderr",
     "output_type": "stream",
     "text": [
      "100%|███████████████████████████████████████████| 10/10 [04:36<00:00, 27.67s/it]\n"
     ]
    },
    {
     "name": "stdout",
     "output_type": "stream",
     "text": [
      "0.7500000247156775\n",
      "0.3991955425446127\n"
     ]
    },
    {
     "name": "stderr",
     "output_type": "stream",
     "text": [
      "100%|██████████████████████████████████████████| 10/10 [20:41<00:00, 124.16s/it]\n"
     ]
    }
   ],
   "source": [
    "\n",
    "K_RANGE = 11\n",
    "\n",
    "rhos_all = []\n",
    "Ks_all = []\n",
    "for D in Ds:\n",
    "    D_0, D_1 = D\n",
    "    Ks = []\n",
    "    rhos = []\n",
    "    h = np.diag(-D_0).max()\n",
    "    W = len(D_0) - 1\n",
    "    O = np.matrix(np.zeros((W + 1, W + 1)))\n",
    "    I = np.matrix(np.identity(W + 1))\n",
    "    matrix_size = len(D_0)\n",
    "    cache_clear()\n",
    "    lambd = 0.3\n",
    "    D_0, D_1 = set_lambda(D_0, D_1)\n",
    "    h = np.diag(-D_0).max()\n",
    "    cache_clear()\n",
    "    print(ergodicity())\n",
    "    theta = find_theta()\n",
    "    lambda_g = find_lambda_g()\n",
    "    c_var = find_c_var()\n",
    "    c_cor = find_c_cor()\n",
    "    print(c_cor)\n",
    "    for K in tqdm(range(1, K_RANGE)):\n",
    "        cache_clear()\n",
    "        G_0 = find_G()\n",
    "        pi_0 = find_pi_0()\n",
    "        Ks.append(find_L())\n",
    "        rhos.append(ergodicity())\n",
    "    Ks_all.append(Ks)\n",
    "    rhos_all.append(rhos)"
   ]
  },
  {
   "cell_type": "code",
   "execution_count": 86,
   "metadata": {},
   "outputs": [
    {
     "data": {
      "text/plain": [
       "[[94.10829753548063,\n",
       "  45.00264076251007,\n",
       "  37.46136936252472,\n",
       "  35.405877812495234,\n",
       "  34.31684883480525,\n",
       "  33.42466982547269,\n",
       "  32.58694230761525,\n",
       "  31.776421112622696,\n",
       "  30.987526778203843,\n",
       "  30.21876895777664]]"
      ]
     },
     "execution_count": 86,
     "metadata": {},
     "output_type": "execute_result"
    }
   ],
   "source": [
    "Ks_all"
   ]
  },
  {
   "cell_type": "code",
   "execution_count": 1541,
   "metadata": {
    "scrolled": true
   },
   "outputs": [
    {
     "name": "stderr",
     "output_type": "stream",
     "text": [
      "100%|███████████████████████████████████████████| 19/19 [01:14<00:00,  3.93s/it]\n",
      "100%|███████████████████████████████████████████| 19/19 [01:22<00:00,  4.33s/it]\n",
      "100%|███████████████████████████████████████████| 19/19 [01:20<00:00,  4.23s/it]\n",
      "100%|███████████████████████████████████████████| 19/19 [01:21<00:00,  4.29s/it]\n"
     ]
    }
   ],
   "source": [
    "b_1s = [0.5, 1, 1.5, 2]\n",
    "Ks_all = []\n",
    "for b_1 in b_1s:\n",
    "    Ks = []\n",
    "    for K in tqdm(range(1, 20)):\n",
    "        cache_clear()\n",
    "        G_0 = find_G()\n",
    "        pi_0 = find_pi_0()\n",
    "        Ks.append(find_L())\n",
    "    Ks_all.append(Ks)"
   ]
  },
  {
   "cell_type": "code",
   "execution_count": 172,
   "metadata": {},
   "outputs": [],
   "source": [
    "Ks_all = [[3.2041186028556075,\n",
    "  2.1064745390408635,\n",
    "  1.6317581904395786,\n",
    "  1.3102982004774428,\n",
    "  1.0731732331343935,\n",
    "  0.8958327147957804,\n",
    "  0.7629114255748229,\n",
    "  0.6632419736440284,\n",
    "  0.5884974617243494,\n",
    "  0.5324421429241166],\n",
    " [24.009225390695075,\n",
    "  14.38667069528094,\n",
    "  12.42176192804713,\n",
    "  11.471172815270478,\n",
    "  10.728423487040708,\n",
    "  10.059265032959093,\n",
    "  9.438113164005845,\n",
    "  8.8582040107282,\n",
    "  8.316206614432375,\n",
    "  7.809533074325381],\n",
    " [202.56745096091572,\n",
    "  160.71269025637025,\n",
    "  153.3062853176308,\n",
    "  151.14788747530056,\n",
    "  149.97828896538172,\n",
    "  149.00562661390583,\n",
    "  148.07695360933138,\n",
    "  147.16234526298038,\n",
    "  146.25588750086155,\n",
    "  145.35626143775795]]"
   ]
  },
  {
   "cell_type": "code",
   "execution_count": 1,
   "metadata": {},
   "outputs": [
    {
     "ename": "NameError",
     "evalue": "name 'Ks_all' is not defined",
     "output_type": "error",
     "traceback": [
      "\u001b[0;31m---------------------------------------------------------------------------\u001b[0m",
      "\u001b[0;31mNameError\u001b[0m                                 Traceback (most recent call last)",
      "\u001b[0;32m/var/folders/63/kq8pffvs457dmpqgb1w5hs9c0000gn/T/ipykernel_45099/1662975669.py\u001b[0m in \u001b[0;36m<module>\u001b[0;34m\u001b[0m\n\u001b[0;32m----> 1\u001b[0;31m \u001b[0mKs_all\u001b[0m\u001b[0;34m\u001b[0m\u001b[0;34m\u001b[0m\u001b[0m\n\u001b[0m",
      "\u001b[0;31mNameError\u001b[0m: name 'Ks_all' is not defined"
     ]
    }
   ],
   "source": [
    "Ks_all"
   ]
  },
  {
   "cell_type": "code",
   "execution_count": 109,
   "metadata": {
    "scrolled": false
   },
   "outputs": [
    {
     "data": {
      "image/png": "[encoded data removed]",
      "text/plain": [
       "<Figure size 1080x720 with 1 Axes>"
      ]
     },
     "metadata": {
      "needs_background": "light"
     },
     "output_type": "display_data"
    }
   ],
   "source": [
    "linestyles = ['-', '--', '-.', ':', '-']\n",
    "fig = plt.figure(figsize=(15, 10))\n",
    "ax = plt.gca()\n",
    "K_RANGE = 11\n",
    "ax.set_prop_cycle(cycler('color', \n",
    "                          ['b', 'r', 'g', 'blueviolet']))\n",
    "\n",
    "labels = ['$c_{cor}=0$', '$c_{cor}=0.2$', '$c_{cor}=0.4$']\n",
    "x = np.linspace(1, K_RANGE - 1, K_RANGE - 1)\n",
    "for k, style, b, label in zip(Ks_all, linestyles, b_1s, labels):\n",
    "    cubic_interploation_model=interp1d(x,k,kind=\"quadratic\")\n",
    "    tck = interpolate.splrep(x, k, s=0, k=5)\n",
    "    xs = np.linspace(1, K_RANGE - 1, 100)\n",
    "    #ys = np.log10(interpolate.splev(xs, tck, der=0))\n",
    "    ys = interpolate.splev(xs, tck, der=0)\n",
    "#    xs=np.linspace(1,20,60)\n",
    "#    ys=cubic_interploation_model(xs)\n",
    "    ax.plot(xs, ys, label = label, linestyle=style, linewidth=3)\n",
    "\n",
    "plt.xlabel('$K$', fontsize=20)\n",
    "plt.ylabel('$L$', fontsize=20)\n",
    "plt.xticks(fontsize=20)\n",
    "plt.yticks(fontsize=20)\n",
    "plt.legend(prop={'size': 20}, loc=0);\n",
    "\n",
    "ax.set_xticks(x)\n",
    "filename = 'exp_2/K_L'\n",
    "fig.savefig(f'{filename}.png', format='png', dpi=600)\n",
    "fig.savefig(f'{filename}.jpg', format='jpg', dpi=600)\n",
    "plt.show();\n"
   ]
  },
  {
   "cell_type": "code",
   "execution_count": 115,
   "metadata": {},
   "outputs": [
    {
     "data": {
      "text/html": [
       "<div>\n",
       "<style scoped>\n",
       "    .dataframe tbody tr th:only-of-type {\n",
       "        vertical-align: middle;\n",
       "    }\n",
       "\n",
       "    .dataframe tbody tr th {\n",
       "        vertical-align: top;\n",
       "    }\n",
       "\n",
       "    .dataframe thead th {\n",
       "        text-align: right;\n",
       "    }\n",
       "</style>\n",
       "<table border=\"1\" class=\"dataframe\">\n",
       "  <thead>\n",
       "    <tr style=\"text-align: right;\">\n",
       "      <th></th>\n",
       "      <th>$c_{cor}$=0</th>\n",
       "      <th>$c_{cor}$=0.2</th>\n",
       "      <th>$c_{cor}$=0.4</th>\n",
       "    </tr>\n",
       "  </thead>\n",
       "  <tbody>\n",
       "    <tr>\n",
       "      <th>1</th>\n",
       "      <td>0.505709</td>\n",
       "      <td>1.380378</td>\n",
       "      <td>1.973628</td>\n",
       "    </tr>\n",
       "    <tr>\n",
       "      <th>2</th>\n",
       "      <td>0.323556</td>\n",
       "      <td>1.157960</td>\n",
       "      <td>1.653238</td>\n",
       "    </tr>\n",
       "    <tr>\n",
       "      <th>3</th>\n",
       "      <td>0.212656</td>\n",
       "      <td>1.094183</td>\n",
       "      <td>1.573584</td>\n",
       "    </tr>\n",
       "    <tr>\n",
       "      <th>4</th>\n",
       "      <td>0.117370</td>\n",
       "      <td>1.059608</td>\n",
       "      <td>1.549075</td>\n",
       "    </tr>\n",
       "    <tr>\n",
       "      <th>5</th>\n",
       "      <td>0.030670</td>\n",
       "      <td>1.030536</td>\n",
       "      <td>1.535507</td>\n",
       "    </tr>\n",
       "    <tr>\n",
       "      <th>6</th>\n",
       "      <td>-0.047773</td>\n",
       "      <td>1.002566</td>\n",
       "      <td>1.524067</td>\n",
       "    </tr>\n",
       "    <tr>\n",
       "      <th>7</th>\n",
       "      <td>-0.117526</td>\n",
       "      <td>0.974885</td>\n",
       "      <td>1.513044</td>\n",
       "    </tr>\n",
       "    <tr>\n",
       "      <th>8</th>\n",
       "      <td>-0.178328</td>\n",
       "      <td>0.947346</td>\n",
       "      <td>1.502105</td>\n",
       "    </tr>\n",
       "    <tr>\n",
       "      <th>9</th>\n",
       "      <td>-0.230255</td>\n",
       "      <td>0.919925</td>\n",
       "      <td>1.491187</td>\n",
       "    </tr>\n",
       "    <tr>\n",
       "      <th>10</th>\n",
       "      <td>-0.273728</td>\n",
       "      <td>0.892625</td>\n",
       "      <td>1.480277</td>\n",
       "    </tr>\n",
       "  </tbody>\n",
       "</table>\n",
       "</div>"
      ],
      "text/plain": [
       "    $c_{cor}$=0  $c_{cor}$=0.2  $c_{cor}$=0.4\n",
       "1      0.505709       1.380378       1.973628\n",
       "2      0.323556       1.157960       1.653238\n",
       "3      0.212656       1.094183       1.573584\n",
       "4      0.117370       1.059608       1.549075\n",
       "5      0.030670       1.030536       1.535507\n",
       "6     -0.047773       1.002566       1.524067\n",
       "7     -0.117526       0.974885       1.513044\n",
       "8     -0.178328       0.947346       1.502105\n",
       "9     -0.230255       0.919925       1.491187\n",
       "10    -0.273728       0.892625       1.480277"
      ]
     },
     "execution_count": 115,
     "metadata": {},
     "output_type": "execute_result"
    }
   ],
   "source": [
    "columns = ['$c_{cor}$=0','$c_{cor}$=0.2','$c_{cor}$=0.4']\n",
    "df_K = pd.DataFrame(np.log10(np.array(Ks_all).T), \n",
    "             columns=columns,\n",
    "            index=list(range(1,K_RANGE)))\n",
    "df_K.to_excel('exp_2/L_log.xlsx')\n",
    "df_K"
   ]
  },
  {
   "cell_type": "code",
   "execution_count": 112,
   "metadata": {},
   "outputs": [
    {
     "data": {
      "text/html": [
       "<div>\n",
       "<style scoped>\n",
       "    .dataframe tbody tr th:only-of-type {\n",
       "        vertical-align: middle;\n",
       "    }\n",
       "\n",
       "    .dataframe tbody tr th {\n",
       "        vertical-align: top;\n",
       "    }\n",
       "\n",
       "    .dataframe thead th {\n",
       "        text-align: right;\n",
       "    }\n",
       "</style>\n",
       "<table border=\"1\" class=\"dataframe\">\n",
       "  <thead>\n",
       "    <tr style=\"text-align: right;\">\n",
       "      <th></th>\n",
       "      <th>$c_{cor}$=0</th>\n",
       "      <th>$c_{cor}$=0.2</th>\n",
       "      <th>$c_{cor}$=0.4</th>\n",
       "    </tr>\n",
       "  </thead>\n",
       "  <tbody>\n",
       "    <tr>\n",
       "      <th>1</th>\n",
       "      <td>3.204119</td>\n",
       "      <td>24.009225</td>\n",
       "      <td>94.108298</td>\n",
       "    </tr>\n",
       "    <tr>\n",
       "      <th>2</th>\n",
       "      <td>2.106475</td>\n",
       "      <td>14.386671</td>\n",
       "      <td>45.002641</td>\n",
       "    </tr>\n",
       "    <tr>\n",
       "      <th>3</th>\n",
       "      <td>1.631758</td>\n",
       "      <td>12.421762</td>\n",
       "      <td>37.461369</td>\n",
       "    </tr>\n",
       "    <tr>\n",
       "      <th>4</th>\n",
       "      <td>1.310298</td>\n",
       "      <td>11.471173</td>\n",
       "      <td>35.405878</td>\n",
       "    </tr>\n",
       "    <tr>\n",
       "      <th>5</th>\n",
       "      <td>1.073173</td>\n",
       "      <td>10.728423</td>\n",
       "      <td>34.316849</td>\n",
       "    </tr>\n",
       "    <tr>\n",
       "      <th>6</th>\n",
       "      <td>0.895833</td>\n",
       "      <td>10.059265</td>\n",
       "      <td>33.424670</td>\n",
       "    </tr>\n",
       "    <tr>\n",
       "      <th>7</th>\n",
       "      <td>0.762911</td>\n",
       "      <td>9.438113</td>\n",
       "      <td>32.586942</td>\n",
       "    </tr>\n",
       "    <tr>\n",
       "      <th>8</th>\n",
       "      <td>0.663242</td>\n",
       "      <td>8.858204</td>\n",
       "      <td>31.776421</td>\n",
       "    </tr>\n",
       "    <tr>\n",
       "      <th>9</th>\n",
       "      <td>0.588497</td>\n",
       "      <td>8.316207</td>\n",
       "      <td>30.987527</td>\n",
       "    </tr>\n",
       "    <tr>\n",
       "      <th>10</th>\n",
       "      <td>0.532442</td>\n",
       "      <td>7.809533</td>\n",
       "      <td>30.218769</td>\n",
       "    </tr>\n",
       "  </tbody>\n",
       "</table>\n",
       "</div>"
      ],
      "text/plain": [
       "    $c_{cor}$=0  $c_{cor}$=0.2  $c_{cor}$=0.4\n",
       "1      3.204119      24.009225      94.108298\n",
       "2      2.106475      14.386671      45.002641\n",
       "3      1.631758      12.421762      37.461369\n",
       "4      1.310298      11.471173      35.405878\n",
       "5      1.073173      10.728423      34.316849\n",
       "6      0.895833      10.059265      33.424670\n",
       "7      0.762911       9.438113      32.586942\n",
       "8      0.663242       8.858204      31.776421\n",
       "9      0.588497       8.316207      30.987527\n",
       "10     0.532442       7.809533      30.218769"
      ]
     },
     "execution_count": 112,
     "metadata": {},
     "output_type": "execute_result"
    }
   ],
   "source": [
    "columns = ['$c_{cor}$=0','$c_{cor}$=0.2','$c_{cor}$=0.4']\n",
    "df_K = pd.DataFrame(np.array(Ks_all).T, \n",
    "             columns=columns,\n",
    "            index=list(range(1,K_RANGE)))\n",
    "df_K.to_excel('exp_2/L.xlsx')\n",
    "df_K"
   ]
  },
  {
   "cell_type": "code",
   "execution_count": 113,
   "metadata": {},
   "outputs": [
    {
     "data": {
      "text/html": [
       "<div>\n",
       "<style scoped>\n",
       "    .dataframe tbody tr th:only-of-type {\n",
       "        vertical-align: middle;\n",
       "    }\n",
       "\n",
       "    .dataframe tbody tr th {\n",
       "        vertical-align: top;\n",
       "    }\n",
       "\n",
       "    .dataframe thead th {\n",
       "        text-align: right;\n",
       "    }\n",
       "</style>\n",
       "<table border=\"1\" class=\"dataframe\">\n",
       "  <thead>\n",
       "    <tr style=\"text-align: right;\">\n",
       "      <th></th>\n",
       "      <th>$c_{cor}$=0</th>\n",
       "      <th>$c_{cor}$=0.2</th>\n",
       "      <th>$c_{cor}$=0.4</th>\n",
       "    </tr>\n",
       "  </thead>\n",
       "  <tbody>\n",
       "    <tr>\n",
       "      <th>1</th>\n",
       "      <td>0.802740</td>\n",
       "      <td>0.802740</td>\n",
       "      <td>0.802740</td>\n",
       "    </tr>\n",
       "    <tr>\n",
       "      <th>2</th>\n",
       "      <td>0.760459</td>\n",
       "      <td>0.760459</td>\n",
       "      <td>0.760459</td>\n",
       "    </tr>\n",
       "    <tr>\n",
       "      <th>3</th>\n",
       "      <td>0.752071</td>\n",
       "      <td>0.752071</td>\n",
       "      <td>0.752071</td>\n",
       "    </tr>\n",
       "    <tr>\n",
       "      <th>4</th>\n",
       "      <td>0.750409</td>\n",
       "      <td>0.750409</td>\n",
       "      <td>0.750409</td>\n",
       "    </tr>\n",
       "    <tr>\n",
       "      <th>5</th>\n",
       "      <td>0.750081</td>\n",
       "      <td>0.750081</td>\n",
       "      <td>0.750081</td>\n",
       "    </tr>\n",
       "    <tr>\n",
       "      <th>6</th>\n",
       "      <td>0.750016</td>\n",
       "      <td>0.750016</td>\n",
       "      <td>0.750016</td>\n",
       "    </tr>\n",
       "    <tr>\n",
       "      <th>7</th>\n",
       "      <td>0.750003</td>\n",
       "      <td>0.750003</td>\n",
       "      <td>0.750003</td>\n",
       "    </tr>\n",
       "    <tr>\n",
       "      <th>8</th>\n",
       "      <td>0.750001</td>\n",
       "      <td>0.750001</td>\n",
       "      <td>0.750001</td>\n",
       "    </tr>\n",
       "    <tr>\n",
       "      <th>9</th>\n",
       "      <td>0.750000</td>\n",
       "      <td>0.750000</td>\n",
       "      <td>0.750000</td>\n",
       "    </tr>\n",
       "    <tr>\n",
       "      <th>10</th>\n",
       "      <td>0.750000</td>\n",
       "      <td>0.750000</td>\n",
       "      <td>0.750000</td>\n",
       "    </tr>\n",
       "  </tbody>\n",
       "</table>\n",
       "</div>"
      ],
      "text/plain": [
       "    $c_{cor}$=0  $c_{cor}$=0.2  $c_{cor}$=0.4\n",
       "1      0.802740       0.802740       0.802740\n",
       "2      0.760459       0.760459       0.760459\n",
       "3      0.752071       0.752071       0.752071\n",
       "4      0.750409       0.750409       0.750409\n",
       "5      0.750081       0.750081       0.750081\n",
       "6      0.750016       0.750016       0.750016\n",
       "7      0.750003       0.750003       0.750003\n",
       "8      0.750001       0.750001       0.750001\n",
       "9      0.750000       0.750000       0.750000\n",
       "10     0.750000       0.750000       0.750000"
      ]
     },
     "execution_count": 113,
     "metadata": {},
     "output_type": "execute_result"
    }
   ],
   "source": [
    "columns = ['$c_{cor}$=0','$c_{cor}$=0.2','$c_{cor}$=0.4']\n",
    "df_rho = pd.DataFrame(np.array(rhos_all).T, \n",
    "             columns=columns,\n",
    "            index=list(range(1,K_RANGE)))\n",
    "df_rho.to_excel('exp_2/rho.xlsx')\n",
    "df_rho"
   ]
  },
  {
   "cell_type": "markdown",
   "metadata": {},
   "source": [
    "### Experiment 2"
   ]
  },
  {
   "cell_type": "code",
   "execution_count": 634,
   "metadata": {
    "scrolled": true
   },
   "outputs": [
    {
     "name": "stderr",
     "output_type": "stream",
     "text": [
      "100%|█████████████████████████████████████████| 10/10 [00:00<00:00, 4428.58it/s]\n"
     ]
    },
    {
     "name": "stdout",
     "output_type": "stream",
     "text": [
      "0.8187307530779818 0.5\n",
      "0.8015748406169799 0.5\n",
      "0.8001171521950732 0.5\n",
      "0.8000082643678802 0.5\n",
      "0.8000005761213321 0.5\n",
      "0.8000000402019245 0.5\n",
      "0.8000000028100093 0.5\n",
      "0.8000000001965012 0.5\n",
      "0.8000000000137404 0.5\n",
      "0.8000000000009605 0.5\n"
     ]
    },
    {
     "name": "stderr",
     "output_type": "stream",
     "text": [
      "100%|█████████████████████████████████████████| 10/10 [00:00<00:00, 5319.35it/s]\n"
     ]
    },
    {
     "name": "stdout",
     "output_type": "stream",
     "text": [
      "0.6703200460356393 1\n",
      "0.6139447545780646 1\n",
      "0.6027617982299985 1\n",
      "0.6005456254442972 1\n",
      "0.6001079505213316 1\n",
      "0.6000213817391395 1\n",
      "0.6000042364311606 1\n",
      "0.6000008394064832 1\n",
      "0.6000001663191245 1\n",
      "0.6000000329542367 1\n"
     ]
    },
    {
     "name": "stderr",
     "output_type": "stream",
     "text": [
      "100%|█████████████████████████████████████████| 10/10 [00:00<00:00, 5931.70it/s]\n"
     ]
    },
    {
     "name": "stdout",
     "output_type": "stream",
     "text": [
      "0.5488116360940264 1.5\n",
      "0.44906570123842476 1.5\n",
      "0.41780020367212556 1.5\n",
      "0.40671918770492343 1.5\n",
      "0.40257839063478323 1.5\n",
      "0.40099580344972635 1.5\n",
      "0.4003855317484993 1.5\n",
      "0.4001494003988725 1.5\n",
      "0.40005791616519704 1.5\n",
      "0.40002245476826376 1.5\n"
     ]
    },
    {
     "name": "stderr",
     "output_type": "stream",
     "text": [
      "100%|█████████████████████████████████████████| 10/10 [00:00<00:00, 7523.42it/s]"
     ]
    },
    {
     "name": "stdout",
     "output_type": "stream",
     "text": [
      "0.4493289641172216 2\n",
      "0.3151989221329437 2\n",
      "0.2624329169854549 2\n",
      "0.23658136739368135 2\n",
      "0.22234506496688822 2\n",
      "0.21397677196511283 2\n",
      "0.20886744956982115 2\n",
      "0.20567542003722747 2\n",
      "0.20365252351758018 2\n",
      "0.2023589198369303 2\n"
     ]
    },
    {
     "name": "stderr",
     "output_type": "stream",
     "text": [
      "\n"
     ]
    }
   ],
   "source": [
    "b_1s = [0.5, 1, 1.5, 2]\n",
    "rhos_all = []\n",
    "\n",
    "D_0, D_1 = Ds[1]\n",
    "lambd = find_lambda_g()\n",
    "for b_1 in b_1s:\n",
    "    h = np.diag(-D_0).max()\n",
    "    W = len(D_0) - 1\n",
    "    O = np.matrix(np.zeros((W + 1, W + 1)))\n",
    "    I = np.matrix(np.identity(W + 1))\n",
    "    rhos = []\n",
    "    for K in tqdm(range(1, K_RANGE)):\n",
    "        cache_clear()\n",
    "        rhos.append(ergodicity())\n",
    "    rhos_all.append(rhos)"
   ]
  },
  {
   "cell_type": "code",
   "execution_count": 209,
   "metadata": {},
   "outputs": [
    {
     "data": {
      "text/html": [
       "<div>\n",
       "<style scoped>\n",
       "    .dataframe tbody tr th:only-of-type {\n",
       "        vertical-align: middle;\n",
       "    }\n",
       "\n",
       "    .dataframe tbody tr th {\n",
       "        vertical-align: top;\n",
       "    }\n",
       "\n",
       "    .dataframe thead th {\n",
       "        text-align: right;\n",
       "    }\n",
       "</style>\n",
       "<table border=\"1\" class=\"dataframe\">\n",
       "  <thead>\n",
       "    <tr style=\"text-align: right;\">\n",
       "      <th></th>\n",
       "      <th>$b_1$=0.5</th>\n",
       "      <th>$b_1$=1</th>\n",
       "      <th>$b_1$=1.5</th>\n",
       "      <th>$b_1$=2</th>\n",
       "    </tr>\n",
       "  </thead>\n",
       "  <tbody>\n",
       "    <tr>\n",
       "      <th>1</th>\n",
       "      <td>0.764500</td>\n",
       "      <td>0.803215</td>\n",
       "      <td>0.862118</td>\n",
       "      <td>0.937551</td>\n",
       "    </tr>\n",
       "    <tr>\n",
       "      <th>2</th>\n",
       "      <td>0.751625</td>\n",
       "      <td>0.760908</td>\n",
       "      <td>0.787265</td>\n",
       "      <td>0.836894</td>\n",
       "    </tr>\n",
       "    <tr>\n",
       "      <th>3</th>\n",
       "      <td>0.750531</td>\n",
       "      <td>0.752516</td>\n",
       "      <td>0.763802</td>\n",
       "      <td>0.797296</td>\n",
       "    </tr>\n",
       "    <tr>\n",
       "      <th>4</th>\n",
       "      <td>0.750450</td>\n",
       "      <td>0.750853</td>\n",
       "      <td>0.755486</td>\n",
       "      <td>0.777896</td>\n",
       "    </tr>\n",
       "    <tr>\n",
       "      <th>5</th>\n",
       "      <td>0.750444</td>\n",
       "      <td>0.750525</td>\n",
       "      <td>0.752378</td>\n",
       "      <td>0.767212</td>\n",
       "    </tr>\n",
       "    <tr>\n",
       "      <th>6</th>\n",
       "      <td>0.750444</td>\n",
       "      <td>0.750460</td>\n",
       "      <td>0.751191</td>\n",
       "      <td>0.760932</td>\n",
       "    </tr>\n",
       "    <tr>\n",
       "      <th>7</th>\n",
       "      <td>0.750444</td>\n",
       "      <td>0.750447</td>\n",
       "      <td>0.750733</td>\n",
       "      <td>0.757098</td>\n",
       "    </tr>\n",
       "    <tr>\n",
       "      <th>8</th>\n",
       "      <td>0.750443</td>\n",
       "      <td>0.750444</td>\n",
       "      <td>0.750556</td>\n",
       "      <td>0.754703</td>\n",
       "    </tr>\n",
       "    <tr>\n",
       "      <th>9</th>\n",
       "      <td>0.750443</td>\n",
       "      <td>0.750444</td>\n",
       "      <td>0.750487</td>\n",
       "      <td>0.753185</td>\n",
       "    </tr>\n",
       "    <tr>\n",
       "      <th>10</th>\n",
       "      <td>0.750443</td>\n",
       "      <td>0.750444</td>\n",
       "      <td>0.750460</td>\n",
       "      <td>0.752214</td>\n",
       "    </tr>\n",
       "  </tbody>\n",
       "</table>\n",
       "</div>"
      ],
      "text/plain": [
       "    $b_1$=0.5   $b_1$=1  $b_1$=1.5   $b_1$=2\n",
       "1    0.764500  0.803215   0.862118  0.937551\n",
       "2    0.751625  0.760908   0.787265  0.836894\n",
       "3    0.750531  0.752516   0.763802  0.797296\n",
       "4    0.750450  0.750853   0.755486  0.777896\n",
       "5    0.750444  0.750525   0.752378  0.767212\n",
       "6    0.750444  0.750460   0.751191  0.760932\n",
       "7    0.750444  0.750447   0.750733  0.757098\n",
       "8    0.750443  0.750444   0.750556  0.754703\n",
       "9    0.750443  0.750444   0.750487  0.753185\n",
       "10   0.750443  0.750444   0.750460  0.752214"
      ]
     },
     "execution_count": 209,
     "metadata": {},
     "output_type": "execute_result"
    }
   ],
   "source": [
    "columns = ['$b_1$=0.5','$b_1$=1','$b_1$=1.5', '$b_1$=2']\n",
    "df_rho = pd.DataFrame(np.array(rhos_all).T, \n",
    "             columns=columns,\n",
    "            index=list(range(1,K_RANGE)))\n",
    "df_rho.to_excel('exp_1_1/rho.xlsx')\n",
    "df_rho"
   ]
  },
  {
   "cell_type": "code",
   "execution_count": 193,
   "metadata": {},
   "outputs": [
    {
     "name": "stdout",
     "output_type": "stream",
     "text": [
      "0.7644998715930141\n"
     ]
    },
    {
     "name": "stderr",
     "output_type": "stream",
     "text": [
      "100%|███████████████████████████████████████████| 10/10 [04:41<00:00, 28.15s/it]\n"
     ]
    },
    {
     "name": "stdout",
     "output_type": "stream",
     "text": [
      "0.7504435244314284\n"
     ]
    },
    {
     "name": "stderr",
     "output_type": "stream",
     "text": [
      "100%|███████████████████████████████████████████| 10/10 [04:53<00:00, 29.35s/it]\n"
     ]
    },
    {
     "name": "stdout",
     "output_type": "stream",
     "text": [
      "0.7504603507360166\n"
     ]
    },
    {
     "name": "stderr",
     "output_type": "stream",
     "text": [
      "100%|███████████████████████████████████████████| 10/10 [05:54<00:00, 35.50s/it]\n"
     ]
    },
    {
     "name": "stdout",
     "output_type": "stream",
     "text": [
      "0.7522137357590761\n"
     ]
    },
    {
     "name": "stderr",
     "output_type": "stream",
     "text": [
      "100%|███████████████████████████████████████████| 10/10 [13:53<00:00, 83.35s/it]\n"
     ]
    }
   ],
   "source": [
    "K_RANGE = 11\n",
    "\n",
    "Ls_all = []\n",
    "lambd = find_lambda_g()\n",
    "for b_1 in b_1s:\n",
    "    cache_clear()\n",
    "    Ls = []\n",
    "    h = np.diag(-D_0).max()\n",
    "    W = len(D_0) - 1\n",
    "    O = np.matrix(np.zeros((W + 1, W + 1)))\n",
    "    I = np.matrix(np.identity(W + 1))\n",
    "    matrix_size = len(D_0)\n",
    "    print(ergodicity())\n",
    "    for K in tqdm(range(1, K_RANGE)):\n",
    "        cache_clear()\n",
    "        G_0 = find_G()\n",
    "        pi_0 = find_pi_0()\n",
    "        Ls.append(find_L())\n",
    "    Ls_all.append(Ls)\n"
   ]
  },
  {
   "cell_type": "code",
   "execution_count": 511,
   "metadata": {},
   "outputs": [
    {
     "data": {
      "image/png": "[encoded data removed]",
      "text/plain": [
       "<Figure size 1080x720 with 1 Axes>"
      ]
     },
     "metadata": {
      "needs_background": "light"
     },
     "output_type": "display_data"
    }
   ],
   "source": [
    "linestyles = ['-', '--', '-.', ':', '-']\n",
    "fig = plt.figure(figsize=(15, 10))\n",
    "ax = plt.gca()\n",
    "\n",
    "ax.set_prop_cycle(cycler('color', \n",
    "                          ['b', 'r', 'g', 'blueviolet']))\n",
    "\n",
    "labels = ['$b_1$=0.5','$b_1$=1','$b_1$=1.5', '$b_1$=2']\n",
    "x = np.linspace(1, K_RANGE - 1, K_RANGE - 1)\n",
    "for k, style, b, label in zip(Ls_all, linestyles, b_1s, labels):\n",
    "    cubic_interploation_model=interp1d(x,k,kind=\"quadratic\")\n",
    "    tck = interpolate.splrep(x, k, s=0, k=5)\n",
    "    xs = np.linspace(1, K_RANGE - 1, 100)\n",
    "    #ys = np.log10(interpolate.splev(xs, tck, der=0))\n",
    "    ys = interpolate.splev(xs, tck, der=0)\n",
    "#    xs=np.linspace(1,20,60)\n",
    "#    ys=cubic_interploation_model(xs)\n",
    "    ax.plot(xs, ys, label = label, linestyle=style, linewidth=3)\n",
    "\n",
    "plt.xlabel('$K$', fontsize=20)\n",
    "plt.ylabel('$L$', fontsize=20)\n",
    "plt.xticks(fontsize=20)\n",
    "plt.yticks(fontsize=20)\n",
    "plt.legend(prop={'size': 20}, loc=0);\n",
    "\n",
    "ax.set_xticks(x)\n",
    "filename = 'exp_1_1/K_L_b_1'\n",
    "#fig.savefig(f'{filename}.png', format='png', dpi=600)\n",
    "#fig.savefig(f'{filename}.jpg', format='jpg', dpi=600)\n",
    "plt.show();\n",
    "\n"
   ]
  },
  {
   "cell_type": "code",
   "execution_count": 211,
   "metadata": {},
   "outputs": [
    {
     "data": {
      "text/html": [
       "<div>\n",
       "<style scoped>\n",
       "    .dataframe tbody tr th:only-of-type {\n",
       "        vertical-align: middle;\n",
       "    }\n",
       "\n",
       "    .dataframe tbody tr th {\n",
       "        vertical-align: top;\n",
       "    }\n",
       "\n",
       "    .dataframe thead th {\n",
       "        text-align: right;\n",
       "    }\n",
       "</style>\n",
       "<table border=\"1\" class=\"dataframe\">\n",
       "  <thead>\n",
       "    <tr style=\"text-align: right;\">\n",
       "      <th></th>\n",
       "      <th>$b_1$=0.5</th>\n",
       "      <th>$b_1$=1</th>\n",
       "      <th>$b_1$=1.5</th>\n",
       "      <th>$b_1$=2</th>\n",
       "    </tr>\n",
       "  </thead>\n",
       "  <tbody>\n",
       "    <tr>\n",
       "      <th>1</th>\n",
       "      <td>15.737831</td>\n",
       "      <td>24.142544</td>\n",
       "      <td>47.685221</td>\n",
       "      <td>143.056004</td>\n",
       "    </tr>\n",
       "    <tr>\n",
       "      <th>2</th>\n",
       "      <td>12.927491</td>\n",
       "      <td>14.464104</td>\n",
       "      <td>19.476710</td>\n",
       "      <td>34.559980</td>\n",
       "    </tr>\n",
       "    <tr>\n",
       "      <th>3</th>\n",
       "      <td>11.975889</td>\n",
       "      <td>12.490591</td>\n",
       "      <td>14.379347</td>\n",
       "      <td>21.230054</td>\n",
       "    </tr>\n",
       "    <tr>\n",
       "      <th>4</th>\n",
       "      <td>11.205624</td>\n",
       "      <td>11.537647</td>\n",
       "      <td>12.496726</td>\n",
       "      <td>16.448138</td>\n",
       "    </tr>\n",
       "    <tr>\n",
       "      <th>5</th>\n",
       "      <td>10.493347</td>\n",
       "      <td>10.793531</td>\n",
       "      <td>11.440913</td>\n",
       "      <td>14.051885</td>\n",
       "    </tr>\n",
       "    <tr>\n",
       "      <th>6</th>\n",
       "      <td>9.827756</td>\n",
       "      <td>10.123086</td>\n",
       "      <td>10.664196</td>\n",
       "      <td>12.588538</td>\n",
       "    </tr>\n",
       "    <tr>\n",
       "      <th>7</th>\n",
       "      <td>9.205344</td>\n",
       "      <td>9.500576</td>\n",
       "      <td>10.006020</td>\n",
       "      <td>11.563883</td>\n",
       "    </tr>\n",
       "    <tr>\n",
       "      <th>8</th>\n",
       "      <td>8.623279</td>\n",
       "      <td>8.919224</td>\n",
       "      <td>9.413335</td>\n",
       "      <td>10.772838</td>\n",
       "    </tr>\n",
       "    <tr>\n",
       "      <th>9</th>\n",
       "      <td>8.078944</td>\n",
       "      <td>8.375710</td>\n",
       "      <td>8.866863</td>\n",
       "      <td>10.119182</td>\n",
       "    </tr>\n",
       "    <tr>\n",
       "      <th>10</th>\n",
       "      <td>7.569893</td>\n",
       "      <td>7.867462</td>\n",
       "      <td>8.358539</td>\n",
       "      <td>9.553919</td>\n",
       "    </tr>\n",
       "  </tbody>\n",
       "</table>\n",
       "</div>"
      ],
      "text/plain": [
       "    $b_1$=0.5    $b_1$=1  $b_1$=1.5     $b_1$=2\n",
       "1   15.737831  24.142544  47.685221  143.056004\n",
       "2   12.927491  14.464104  19.476710   34.559980\n",
       "3   11.975889  12.490591  14.379347   21.230054\n",
       "4   11.205624  11.537647  12.496726   16.448138\n",
       "5   10.493347  10.793531  11.440913   14.051885\n",
       "6    9.827756  10.123086  10.664196   12.588538\n",
       "7    9.205344   9.500576  10.006020   11.563883\n",
       "8    8.623279   8.919224   9.413335   10.772838\n",
       "9    8.078944   8.375710   8.866863   10.119182\n",
       "10   7.569893   7.867462   8.358539    9.553919"
      ]
     },
     "execution_count": 211,
     "metadata": {},
     "output_type": "execute_result"
    }
   ],
   "source": [
    "columns = ['$b_1$=0.5','$b_1$=1','$b_1$=1.5', '$b_1$=2']\n",
    "df_rho = pd.DataFrame(np.array(Ls_all).T, \n",
    "             columns=columns,\n",
    "            index=list(range(1,K_RANGE)))\n",
    "df_rho.to_excel('exp_1_1/L.xlsx')\n",
    "df_rho"
   ]
  },
  {
   "cell_type": "markdown",
   "metadata": {},
   "source": [
    "### Experiment 2"
   ]
  },
  {
   "cell_type": "markdown",
   "metadata": {},
   "source": [
    "#### N"
   ]
  },
  {
   "cell_type": "code",
   "execution_count": 513,
   "metadata": {},
   "outputs": [
    {
     "name": "stderr",
     "output_type": "stream",
     "text": [
      "100%|███████████████████████████████████████████| 20/20 [13:45<00:00, 41.29s/it]\n",
      "100%|███████████████████████████████████████████| 20/20 [13:38<00:00, 40.91s/it]\n",
      "100%|███████████████████████████████████████████| 20/20 [14:57<00:00, 44.90s/it]\n",
      "100%|███████████████████████████████████████████| 20/20 [24:07<00:00, 72.36s/it]\n"
     ]
    }
   ],
   "source": [
    "K_RANGE = 21\n",
    "\n",
    "Ns_all = []\n",
    "lambd = find_lambda_g()\n",
    "for b_1 in b_1s:\n",
    "    cache_clear()\n",
    "    Ns = []\n",
    "    h = np.diag(-D_0).max()\n",
    "    W = len(D_0) - 1\n",
    "    O = np.matrix(np.zeros((W + 1, W + 1)))\n",
    "    I = np.matrix(np.identity(W + 1))\n",
    "    matrix_size = len(D_0)\n",
    "    for K in tqdm(range(1, K_RANGE)):\n",
    "        cache_clear()\n",
    "        G_0 = find_G()\n",
    "        pi_0 = find_pi_0()\n",
    "        Ns.append(find_N())\n",
    "    Ns_all.append(Ns)"
   ]
  },
  {
   "cell_type": "code",
   "execution_count": 516,
   "metadata": {},
   "outputs": [
    {
     "data": {
      "image/png": "[encoded data removed]",
      "text/plain": [
       "<Figure size 1080x720 with 1 Axes>"
      ]
     },
     "metadata": {
      "needs_background": "light"
     },
     "output_type": "display_data"
    }
   ],
   "source": [
    "linestyles = ['-', '--', '-.', ':', '-']\n",
    "fig = plt.figure(figsize=(15, 10))\n",
    "ax = plt.gca()\n",
    "\n",
    "ax.set_prop_cycle(cycler('color', \n",
    "                          ['b', 'r', 'g', 'blueviolet']))\n",
    "\n",
    "labels = ['$b_1$=0.5','$b_1$=1','$b_1$=1.5', '$b_1$=2']\n",
    "x = np.linspace(1, K_RANGE - 1, K_RANGE - 1)\n",
    "for k, style, b, label in zip(Ns_all, linestyles, b_1s, labels):\n",
    "    cubic_interploation_model=interp1d(x,k,kind=\"quadratic\")\n",
    "    tck = interpolate.splrep(x, k, s=0, k=5)\n",
    "    xs = np.linspace(1, K_RANGE - 1, 100)\n",
    "    #ys = np.log10(interpolate.splev(xs, tck, der=0))\n",
    "    ys = interpolate.splev(xs, tck, der=0)\n",
    "#    xs=np.linspace(1,20,60)\n",
    "#    ys=cubic_interploation_model(xs)\n",
    "    ax.plot(xs, ys, label = label, linestyle=style, linewidth=3)\n",
    "\n",
    "plt.xlabel('$K$', fontsize=20)\n",
    "plt.ylabel('$N$', fontsize=20)\n",
    "plt.xticks(fontsize=20)\n",
    "plt.yticks(fontsize=20)\n",
    "plt.legend(prop={'size': 20}, loc=0);\n",
    "\n",
    "ax.set_xticks(list(range(1, 21, 2)))\n",
    "filename = 'exp_1_2/K_N_b_1'\n",
    "fig.savefig(f'{filename}.png', format='png', dpi=600)\n",
    "fig.savefig(f'{filename}.jpg', format='jpg', dpi=600)\n",
    "plt.show();\n",
    "\n",
    "\n"
   ]
  },
  {
   "cell_type": "code",
   "execution_count": 316,
   "metadata": {},
   "outputs": [
    {
     "name": "stderr",
     "output_type": "stream",
     "text": [
      "100%|█████████████████████████████████████████████| 1/1 [01:12<00:00, 72.19s/it]\n",
      "100%|█████████████████████████████████████████████| 1/1 [01:10<00:00, 70.39s/it]\n",
      "100%|█████████████████████████████████████████████| 1/1 [01:09<00:00, 69.37s/it]\n",
      "100%|█████████████████████████████████████████████| 1/1 [01:11<00:00, 71.65s/it]\n"
     ]
    }
   ],
   "source": [
    "K_ARRAY = [20]\n",
    "#p_0s_all = []\n",
    "\n",
    "#Ns_all = []\n",
    "lambd = find_lambda_g()\n",
    "for b_1 in b_1s:\n",
    "    cache_clear()\n",
    "    Ns = []\n",
    "    p_0s = []\n",
    "    h = np.diag(-D_0).max()\n",
    "    W = len(D_0) - 1\n",
    "    O = np.matrix(np.zeros((W + 1, W + 1)))\n",
    "    I = np.matrix(np.identity(W + 1))\n",
    "    matrix_size = len(D_0)\n",
    "    for K in tqdm(K_ARRAY):\n",
    "        cache_clear()\n",
    "        G_0 = find_G()\n",
    "        pi_0 = find_pi_0()\n",
    "        p_0s.append(float(pi_0 * np.matrix(np.ones(((W + 1) * (K + 1), 1)))))\n",
    "        Ns.append(find_N())\n",
    "    p_0s_all.append(p_0s)\n",
    "    Ns_all.append(Ns)"
   ]
  },
  {
   "cell_type": "code",
   "execution_count": 557,
   "metadata": {},
   "outputs": [
    {
     "data": {
      "text/html": [
       "<div>\n",
       "<style scoped>\n",
       "    .dataframe tbody tr th:only-of-type {\n",
       "        vertical-align: middle;\n",
       "    }\n",
       "\n",
       "    .dataframe tbody tr th {\n",
       "        vertical-align: top;\n",
       "    }\n",
       "\n",
       "    .dataframe thead th {\n",
       "        text-align: right;\n",
       "    }\n",
       "</style>\n",
       "<table border=\"1\" class=\"dataframe\">\n",
       "  <thead>\n",
       "    <tr style=\"text-align: right;\">\n",
       "      <th></th>\n",
       "      <th>$b_1$=0.5</th>\n",
       "      <th>$b_1$=1</th>\n",
       "      <th>$b_1$=1.5</th>\n",
       "      <th>$b_1$=2</th>\n",
       "    </tr>\n",
       "  </thead>\n",
       "  <tbody>\n",
       "    <tr>\n",
       "      <th>1</th>\n",
       "      <td>0.181269</td>\n",
       "      <td>0.329680</td>\n",
       "      <td>0.451188</td>\n",
       "      <td>0.550671</td>\n",
       "    </tr>\n",
       "    <tr>\n",
       "      <th>2</th>\n",
       "      <td>0.283159</td>\n",
       "      <td>0.519297</td>\n",
       "      <td>0.761508</td>\n",
       "      <td>0.995599</td>\n",
       "    </tr>\n",
       "    <tr>\n",
       "      <th>3</th>\n",
       "      <td>0.416426</td>\n",
       "      <td>0.685566</td>\n",
       "      <td>1.011265</td>\n",
       "      <td>1.380750</td>\n",
       "    </tr>\n",
       "    <tr>\n",
       "      <th>4</th>\n",
       "      <td>0.602171</td>\n",
       "      <td>0.880727</td>\n",
       "      <td>1.253933</td>\n",
       "      <td>1.742265</td>\n",
       "    </tr>\n",
       "    <tr>\n",
       "      <th>5</th>\n",
       "      <td>0.840317</td>\n",
       "      <td>1.121111</td>\n",
       "      <td>1.517806</td>\n",
       "      <td>2.101959</td>\n",
       "    </tr>\n",
       "    <tr>\n",
       "      <th>6</th>\n",
       "      <td>1.127817</td>\n",
       "      <td>1.409056</td>\n",
       "      <td>1.816227</td>\n",
       "      <td>2.472886</td>\n",
       "    </tr>\n",
       "    <tr>\n",
       "      <th>7</th>\n",
       "      <td>1.461500</td>\n",
       "      <td>1.742803</td>\n",
       "      <td>2.154286</td>\n",
       "      <td>2.863369</td>\n",
       "    </tr>\n",
       "    <tr>\n",
       "      <th>8</th>\n",
       "      <td>1.838374</td>\n",
       "      <td>2.119678</td>\n",
       "      <td>2.532842</td>\n",
       "      <td>3.278757</td>\n",
       "    </tr>\n",
       "    <tr>\n",
       "      <th>9</th>\n",
       "      <td>2.255639</td>\n",
       "      <td>2.536945</td>\n",
       "      <td>2.950773</td>\n",
       "      <td>3.722263</td>\n",
       "    </tr>\n",
       "    <tr>\n",
       "      <th>10</th>\n",
       "      <td>2.710676</td>\n",
       "      <td>2.991991</td>\n",
       "      <td>3.406147</td>\n",
       "      <td>4.195508</td>\n",
       "    </tr>\n",
       "    <tr>\n",
       "      <th>11</th>\n",
       "      <td>3.201038</td>\n",
       "      <td>3.482366</td>\n",
       "      <td>3.896770</td>\n",
       "      <td>4.698955</td>\n",
       "    </tr>\n",
       "    <tr>\n",
       "      <th>12</th>\n",
       "      <td>3.724435</td>\n",
       "      <td>4.005779</td>\n",
       "      <td>4.420435</td>\n",
       "      <td>5.232255</td>\n",
       "    </tr>\n",
       "    <tr>\n",
       "      <th>13</th>\n",
       "      <td>4.278725</td>\n",
       "      <td>4.560085</td>\n",
       "      <td>4.975019</td>\n",
       "      <td>5.794526</td>\n",
       "    </tr>\n",
       "    <tr>\n",
       "      <th>14</th>\n",
       "      <td>4.861905</td>\n",
       "      <td>5.143282</td>\n",
       "      <td>5.558517</td>\n",
       "      <td>6.384555</td>\n",
       "    </tr>\n",
       "    <tr>\n",
       "      <th>15</th>\n",
       "      <td>5.472104</td>\n",
       "      <td>5.753497</td>\n",
       "      <td>6.169045</td>\n",
       "      <td>7.000945</td>\n",
       "    </tr>\n",
       "    <tr>\n",
       "      <th>16</th>\n",
       "      <td>6.107569</td>\n",
       "      <td>6.388978</td>\n",
       "      <td>6.804845</td>\n",
       "      <td>7.642222</td>\n",
       "    </tr>\n",
       "    <tr>\n",
       "      <th>17</th>\n",
       "      <td>6.766663</td>\n",
       "      <td>7.048087</td>\n",
       "      <td>7.464271</td>\n",
       "      <td>8.306900</td>\n",
       "    </tr>\n",
       "    <tr>\n",
       "      <th>18</th>\n",
       "      <td>7.447855</td>\n",
       "      <td>7.729293</td>\n",
       "      <td>8.145787</td>\n",
       "      <td>8.993520</td>\n",
       "    </tr>\n",
       "    <tr>\n",
       "      <th>19</th>\n",
       "      <td>8.149711</td>\n",
       "      <td>8.431162</td>\n",
       "      <td>8.847958</td>\n",
       "      <td>9.700682</td>\n",
       "    </tr>\n",
       "    <tr>\n",
       "      <th>20</th>\n",
       "      <td>8.870893</td>\n",
       "      <td>9.152356</td>\n",
       "      <td>9.569442</td>\n",
       "      <td>10.427052</td>\n",
       "    </tr>\n",
       "  </tbody>\n",
       "</table>\n",
       "</div>"
      ],
      "text/plain": [
       "    $b_1$=0.5   $b_1$=1  $b_1$=1.5    $b_1$=2\n",
       "1    0.181269  0.329680   0.451188   0.550671\n",
       "2    0.283159  0.519297   0.761508   0.995599\n",
       "3    0.416426  0.685566   1.011265   1.380750\n",
       "4    0.602171  0.880727   1.253933   1.742265\n",
       "5    0.840317  1.121111   1.517806   2.101959\n",
       "6    1.127817  1.409056   1.816227   2.472886\n",
       "7    1.461500  1.742803   2.154286   2.863369\n",
       "8    1.838374  2.119678   2.532842   3.278757\n",
       "9    2.255639  2.536945   2.950773   3.722263\n",
       "10   2.710676  2.991991   3.406147   4.195508\n",
       "11   3.201038  3.482366   3.896770   4.698955\n",
       "12   3.724435  4.005779   4.420435   5.232255\n",
       "13   4.278725  4.560085   4.975019   5.794526\n",
       "14   4.861905  5.143282   5.558517   6.384555\n",
       "15   5.472104  5.753497   6.169045   7.000945\n",
       "16   6.107569  6.388978   6.804845   7.642222\n",
       "17   6.766663  7.048087   7.464271   8.306900\n",
       "18   7.447855  7.729293   8.145787   8.993520\n",
       "19   8.149711  8.431162   8.847958   9.700682\n",
       "20   8.870893  9.152356   9.569442  10.427052"
      ]
     },
     "execution_count": 557,
     "metadata": {},
     "output_type": "execute_result"
    }
   ],
   "source": [
    "columns = ['$b_1$=0.5','$b_1$=1','$b_1$=1.5', '$b_1$=2']\n",
    "df = pd.DataFrame(np.array(Ns_all).T, \n",
    "             columns=columns,\n",
    "            index=list(range(1, 21)))\n",
    "df.to_excel('exp_1_2/N.xlsx')\n",
    "df"
   ]
  },
  {
   "cell_type": "code",
   "execution_count": 337,
   "metadata": {},
   "outputs": [
    {
     "data": {
      "text/html": [
       "<div>\n",
       "<style scoped>\n",
       "    .dataframe tbody tr th:only-of-type {\n",
       "        vertical-align: middle;\n",
       "    }\n",
       "\n",
       "    .dataframe tbody tr th {\n",
       "        vertical-align: top;\n",
       "    }\n",
       "\n",
       "    .dataframe thead th {\n",
       "        text-align: right;\n",
       "    }\n",
       "</style>\n",
       "<table border=\"1\" class=\"dataframe\">\n",
       "  <thead>\n",
       "    <tr style=\"text-align: right;\">\n",
       "      <th></th>\n",
       "      <th>$b_1$=0.5</th>\n",
       "      <th>$b_1$=1</th>\n",
       "      <th>$b_1$=1.5</th>\n",
       "      <th>$b_1$=2</th>\n",
       "    </tr>\n",
       "  </thead>\n",
       "  <tbody>\n",
       "    <tr>\n",
       "      <th>1</th>\n",
       "      <td>0.181269</td>\n",
       "      <td>0.329680</td>\n",
       "      <td>0.451188</td>\n",
       "      <td>0.550671</td>\n",
       "    </tr>\n",
       "    <tr>\n",
       "      <th>4</th>\n",
       "      <td>0.602171</td>\n",
       "      <td>0.880727</td>\n",
       "      <td>1.253933</td>\n",
       "      <td>1.742265</td>\n",
       "    </tr>\n",
       "    <tr>\n",
       "      <th>20</th>\n",
       "      <td>8.870893</td>\n",
       "      <td>9.152356</td>\n",
       "      <td>9.569442</td>\n",
       "      <td>10.427052</td>\n",
       "    </tr>\n",
       "  </tbody>\n",
       "</table>\n",
       "</div>"
      ],
      "text/plain": [
       "    $b_1$=0.5   $b_1$=1  $b_1$=1.5    $b_1$=2\n",
       "1    0.181269  0.329680   0.451188   0.550671\n",
       "4    0.602171  0.880727   1.253933   1.742265\n",
       "20   8.870893  9.152356   9.569442  10.427052"
      ]
     },
     "execution_count": 337,
     "metadata": {},
     "output_type": "execute_result"
    }
   ],
   "source": [
    "columns = ['$b_1$=0.5','$b_1$=1','$b_1$=1.5', '$b_1$=2']\n",
    "df = pd.DataFrame(np.array(t).T, \n",
    "             columns=columns,\n",
    "            index=[1, 4, 20])\n",
    "#df_rho.to_excel('exp_1_1/L.xlsx')\n",
    "df"
   ]
  },
  {
   "cell_type": "markdown",
   "metadata": {},
   "source": [
    "### Experiment 3"
   ]
  },
  {
   "cell_type": "code",
   "execution_count": 345,
   "metadata": {},
   "outputs": [
    {
     "name": "stderr",
     "output_type": "stream",
     "text": [
      "100%|███████████████████████████████████████████| 20/20 [13:33<00:00, 40.68s/it]\n",
      "100%|███████████████████████████████████████████| 20/20 [14:03<00:00, 42.18s/it]\n",
      "100%|███████████████████████████████████████████| 20/20 [15:53<00:00, 47.69s/it]\n",
      "100%|███████████████████████████████████████████| 20/20 [22:31<00:00, 67.57s/it]\n"
     ]
    }
   ],
   "source": [
    "K_RANGE = 21\n",
    "\n",
    "p_0_custom_all = []\n",
    "lambd = find_lambda_g()\n",
    "e = np.matrix(np.ones(((W + 1) * (K + 1), 1)))\n",
    "for b_1 in b_1s:\n",
    "    cache_clear()\n",
    "    p_0_custom = []\n",
    "    h = np.diag(-D_0).max()\n",
    "    W = len(D_0) - 1\n",
    "    O = np.matrix(np.zeros((W + 1, W + 1)))\n",
    "    I = np.matrix(np.identity(W + 1))\n",
    "    matrix_size = len(D_0)\n",
    "    for K in tqdm(range(1, K_RANGE)):\n",
    "        cache_clear()\n",
    "        G_0 = find_G()\n",
    "        pi_0 = find_pi_0()\n",
    "        e = np.matrix(np.ones(((W + 1) * (K + 1), 1)))\n",
    "        p_0_custom.append(float(pi_0 * e))\n",
    "    p_0_custom_all.append(p_0_custom)"
   ]
  },
  {
   "cell_type": "code",
   "execution_count": 504,
   "metadata": {},
   "outputs": [
    {
     "data": {
      "image/png": "[encoded data removed]",
      "text/plain": [
       "<Figure size 1080x720 with 1 Axes>"
      ]
     },
     "metadata": {
      "needs_background": "light"
     },
     "output_type": "display_data"
    }
   ],
   "source": [
    "linestyles = ['-', '--', '-.', ':', '-']\n",
    "fig = plt.figure(figsize=(15, 10))\n",
    "ax = plt.gca()\n",
    "\n",
    "ax.set_prop_cycle(cycler('color', \n",
    "                          ['b', 'r', 'g', 'blueviolet']))\n",
    "\n",
    "labels = ['$b_1$=0.5','$b_1$=1','$b_1$=1.5', '$b_1$=2']\n",
    "x = np.linspace(1, K_RANGE - 1, K_RANGE - 1)\n",
    "for k, style, b, label in zip(p_0_custom_all, linestyles, b_1s, labels):\n",
    "    cubic_interploation_model=interp1d(x,k,kind=\"quadratic\")\n",
    "    tck = interpolate.splrep(x, k, s=0, k=5)\n",
    "    xs = np.linspace(1, K_RANGE - 1, 100)\n",
    "    #ys = np.log10(interpolate.splev(xs, tck, der=0))\n",
    "    ys = interpolate.splev(xs, tck, der=0)\n",
    "#    xs=np.linspace(1,20,60)\n",
    "#    ys=cubic_interploation_model(xs)\n",
    "    ax.plot(xs, ys, label = label, linestyle=style, linewidth=3)\n",
    "\n",
    "plt.xlabel('$K$', fontsize=20)\n",
    "plt.ylabel('$P_{0}^{custom}$', fontsize=20)\n",
    "plt.xticks(fontsize=20)\n",
    "plt.yticks(fontsize=20)\n",
    "plt.legend(prop={'size': 20}, loc=0);\n",
    "\n",
    "ax.set_xticks(list(range(1, 21, 2)))\n",
    "filename = 'exp_1_3/K_P_custom_b_1'\n",
    "fig.savefig(f'{filename}.png', format='png', dpi=600)\n",
    "fig.savefig(f'{filename}.jpg', format='jpg', dpi=600)\n",
    "plt.show();\n",
    "\n",
    "\n",
    "\n"
   ]
  },
  {
   "cell_type": "code",
   "execution_count": 353,
   "metadata": {},
   "outputs": [
    {
     "data": {
      "text/html": [
       "<div>\n",
       "<style scoped>\n",
       "    .dataframe tbody tr th:only-of-type {\n",
       "        vertical-align: middle;\n",
       "    }\n",
       "\n",
       "    .dataframe tbody tr th {\n",
       "        vertical-align: top;\n",
       "    }\n",
       "\n",
       "    .dataframe thead th {\n",
       "        text-align: right;\n",
       "    }\n",
       "</style>\n",
       "<table border=\"1\" class=\"dataframe\">\n",
       "  <thead>\n",
       "    <tr style=\"text-align: right;\">\n",
       "      <th></th>\n",
       "      <th>$b_1$=0.5</th>\n",
       "      <th>$b_1$=1</th>\n",
       "      <th>$b_1$=1.5</th>\n",
       "      <th>$b_1$=2</th>\n",
       "    </tr>\n",
       "  </thead>\n",
       "  <tbody>\n",
       "    <tr>\n",
       "      <th>1</th>\n",
       "      <td>0.093804</td>\n",
       "      <td>0.053115</td>\n",
       "      <td>0.023673</td>\n",
       "      <td>0.007161</td>\n",
       "    </tr>\n",
       "    <tr>\n",
       "      <th>2</th>\n",
       "      <td>0.149388</td>\n",
       "      <td>0.109223</td>\n",
       "      <td>0.065774</td>\n",
       "      <td>0.030206</td>\n",
       "    </tr>\n",
       "    <tr>\n",
       "      <th>3</th>\n",
       "      <td>0.192694</td>\n",
       "      <td>0.147578</td>\n",
       "      <td>0.099099</td>\n",
       "      <td>0.050836</td>\n",
       "    </tr>\n",
       "    <tr>\n",
       "      <th>4</th>\n",
       "      <td>0.232143</td>\n",
       "      <td>0.178500</td>\n",
       "      <td>0.124041</td>\n",
       "      <td>0.067708</td>\n",
       "    </tr>\n",
       "    <tr>\n",
       "      <th>5</th>\n",
       "      <td>0.268937</td>\n",
       "      <td>0.206203</td>\n",
       "      <td>0.144347</td>\n",
       "      <td>0.081290</td>\n",
       "    </tr>\n",
       "    <tr>\n",
       "      <th>6</th>\n",
       "      <td>0.303336</td>\n",
       "      <td>0.231825</td>\n",
       "      <td>0.162040</td>\n",
       "      <td>0.092452</td>\n",
       "    </tr>\n",
       "    <tr>\n",
       "      <th>7</th>\n",
       "      <td>0.335504</td>\n",
       "      <td>0.255712</td>\n",
       "      <td>0.178036</td>\n",
       "      <td>0.101887</td>\n",
       "    </tr>\n",
       "    <tr>\n",
       "      <th>8</th>\n",
       "      <td>0.365586</td>\n",
       "      <td>0.278027</td>\n",
       "      <td>0.192755</td>\n",
       "      <td>0.110066</td>\n",
       "    </tr>\n",
       "    <tr>\n",
       "      <th>9</th>\n",
       "      <td>0.393718</td>\n",
       "      <td>0.298887</td>\n",
       "      <td>0.206408</td>\n",
       "      <td>0.117301</td>\n",
       "    </tr>\n",
       "    <tr>\n",
       "      <th>10</th>\n",
       "      <td>0.420026</td>\n",
       "      <td>0.318391</td>\n",
       "      <td>0.219120</td>\n",
       "      <td>0.123797</td>\n",
       "    </tr>\n",
       "    <tr>\n",
       "      <th>11</th>\n",
       "      <td>0.444630</td>\n",
       "      <td>0.336628</td>\n",
       "      <td>0.230976</td>\n",
       "      <td>0.129694</td>\n",
       "    </tr>\n",
       "    <tr>\n",
       "      <th>12</th>\n",
       "      <td>0.467638</td>\n",
       "      <td>0.353682</td>\n",
       "      <td>0.242045</td>\n",
       "      <td>0.135088</td>\n",
       "    </tr>\n",
       "    <tr>\n",
       "      <th>13</th>\n",
       "      <td>0.489155</td>\n",
       "      <td>0.369630</td>\n",
       "      <td>0.252385</td>\n",
       "      <td>0.140049</td>\n",
       "    </tr>\n",
       "    <tr>\n",
       "      <th>14</th>\n",
       "      <td>0.509277</td>\n",
       "      <td>0.384544</td>\n",
       "      <td>0.262046</td>\n",
       "      <td>0.144628</td>\n",
       "    </tr>\n",
       "    <tr>\n",
       "      <th>15</th>\n",
       "      <td>0.528095</td>\n",
       "      <td>0.398491</td>\n",
       "      <td>0.271075</td>\n",
       "      <td>0.148866</td>\n",
       "    </tr>\n",
       "    <tr>\n",
       "      <th>16</th>\n",
       "      <td>0.545693</td>\n",
       "      <td>0.411533</td>\n",
       "      <td>0.279515</td>\n",
       "      <td>0.152796</td>\n",
       "    </tr>\n",
       "    <tr>\n",
       "      <th>17</th>\n",
       "      <td>0.562150</td>\n",
       "      <td>0.423731</td>\n",
       "      <td>0.287405</td>\n",
       "      <td>0.156446</td>\n",
       "    </tr>\n",
       "    <tr>\n",
       "      <th>18</th>\n",
       "      <td>0.577541</td>\n",
       "      <td>0.435137</td>\n",
       "      <td>0.294782</td>\n",
       "      <td>0.159840</td>\n",
       "    </tr>\n",
       "    <tr>\n",
       "      <th>19</th>\n",
       "      <td>0.591934</td>\n",
       "      <td>0.445804</td>\n",
       "      <td>0.301679</td>\n",
       "      <td>0.162998</td>\n",
       "    </tr>\n",
       "    <tr>\n",
       "      <th>20</th>\n",
       "      <td>0.605394</td>\n",
       "      <td>0.455780</td>\n",
       "      <td>0.308128</td>\n",
       "      <td>0.165939</td>\n",
       "    </tr>\n",
       "  </tbody>\n",
       "</table>\n",
       "</div>"
      ],
      "text/plain": [
       "    $b_1$=0.5   $b_1$=1  $b_1$=1.5   $b_1$=2\n",
       "1    0.093804  0.053115   0.023673  0.007161\n",
       "2    0.149388  0.109223   0.065774  0.030206\n",
       "3    0.192694  0.147578   0.099099  0.050836\n",
       "4    0.232143  0.178500   0.124041  0.067708\n",
       "5    0.268937  0.206203   0.144347  0.081290\n",
       "6    0.303336  0.231825   0.162040  0.092452\n",
       "7    0.335504  0.255712   0.178036  0.101887\n",
       "8    0.365586  0.278027   0.192755  0.110066\n",
       "9    0.393718  0.298887   0.206408  0.117301\n",
       "10   0.420026  0.318391   0.219120  0.123797\n",
       "11   0.444630  0.336628   0.230976  0.129694\n",
       "12   0.467638  0.353682   0.242045  0.135088\n",
       "13   0.489155  0.369630   0.252385  0.140049\n",
       "14   0.509277  0.384544   0.262046  0.144628\n",
       "15   0.528095  0.398491   0.271075  0.148866\n",
       "16   0.545693  0.411533   0.279515  0.152796\n",
       "17   0.562150  0.423731   0.287405  0.156446\n",
       "18   0.577541  0.435137   0.294782  0.159840\n",
       "19   0.591934  0.445804   0.301679  0.162998\n",
       "20   0.605394  0.455780   0.308128  0.165939"
      ]
     },
     "execution_count": 353,
     "metadata": {},
     "output_type": "execute_result"
    }
   ],
   "source": [
    "columns = ['$b_1$=0.5','$b_1$=1','$b_1$=1.5', '$b_1$=2']\n",
    "df_P_custom = pd.DataFrame(np.array(p_0_custom_all).T, \n",
    "             columns=columns,\n",
    "            index=list(range(1,K_RANGE)))\n",
    "df_P_custom.to_excel('exp_1_3/P_custom.xlsx')\n",
    "df_P_custom"
   ]
  },
  {
   "cell_type": "markdown",
   "metadata": {},
   "source": [
    "### Experiment 4"
   ]
  },
  {
   "cell_type": "code",
   "execution_count": 481,
   "metadata": {},
   "outputs": [
    {
     "name": "stderr",
     "output_type": "stream",
     "text": [
      "100%|███████████████████████████████████████████| 20/20 [14:07<00:00, 42.36s/it]\n",
      "100%|███████████████████████████████████████████| 20/20 [14:05<00:00, 42.30s/it]\n",
      "100%|███████████████████████████████████████████| 20/20 [14:50<00:00, 44.53s/it]\n",
      "100%|███████████████████████████████████████████| 20/20 [23:25<00:00, 70.29s/it]\n"
     ]
    }
   ],
   "source": [
    "K_RANGE = 21\n",
    "\n",
    "p_0_energy_all = []\n",
    "lambd = find_lambda_g()\n",
    "e = np.matrix(np.ones(((W + 1) * (K + 1), 1)))\n",
    "for b_1 in b_1s:\n",
    "    cache_clear()\n",
    "    p_0_energy = []\n",
    "    h = np.diag(-D_0).max()\n",
    "    W = len(D_0) - 1\n",
    "    O = np.matrix(np.zeros((W + 1, W + 1)))\n",
    "    I = np.matrix(np.identity(W + 1))\n",
    "    matrix_size = len(D_0)\n",
    "    for K in tqdm(range(1, K_RANGE)):\n",
    "        cache_clear()\n",
    "        G_0 = find_G()\n",
    "        pi_0 = find_pi_0()\n",
    "        e = np.matrix(np.ones(((W + 1) * (K + 1), 1)))\n",
    "        p_0_energy.append(find_P_energy())\n",
    "    p_0_energy_all.append(p_0_energy)"
   ]
  },
  {
   "cell_type": "code",
   "execution_count": 501,
   "metadata": {},
   "outputs": [
    {
     "data": {
      "image/png": "[encoded data removed]",
      "text/plain": [
       "<Figure size 1080x720 with 1 Axes>"
      ]
     },
     "metadata": {
      "needs_background": "light"
     },
     "output_type": "display_data"
    }
   ],
   "source": [
    "linestyles = ['-', '--', '-.', ':', '-']\n",
    "fig = plt.figure(figsize=(15, 10))\n",
    "ax = plt.gca()\n",
    "\n",
    "ax.set_prop_cycle(cycler('color', \n",
    "                          ['b', 'r', 'g', 'blueviolet']))\n",
    "\n",
    "labels = ['$b_1$=0.5','$b_1$=1','$b_1$=1.5', '$b_1$=2']\n",
    "x = np.linspace(1, K_RANGE - 1, K_RANGE - 1)\n",
    "for k, style, b, label in zip(p_0_energy_all, linestyles, b_1s, labels):\n",
    "    cubic_interploation_model=interp1d(x,k,kind=\"quadratic\")\n",
    "    tck = interpolate.splrep(x, k, s=0, k=5)\n",
    "    xs = np.linspace(1, K_RANGE - 1, 100)\n",
    "    #ys = np.log10(interpolate.splev(xs, tck, der=0))\n",
    "    ys = interpolate.splev(xs, tck, der=0)\n",
    "#    xs=np.linspace(1,20,60)\n",
    "#    ys=cubic_interploation_model(xs)\n",
    "    ax.plot(xs, ys, label = label, linestyle=style, linewidth=3)\n",
    "\n",
    "plt.xlabel('$K$', fontsize=20)\n",
    "plt.ylabel('$P_{0}^{energy}$', fontsize=20)\n",
    "plt.xticks(fontsize=20)\n",
    "plt.yticks(fontsize=20)\n",
    "plt.legend(prop={'size': 20}, loc=0);\n",
    "\n",
    "ax.set_xticks(list(range(1, 21, 2)))\n",
    "filename = 'exp_1_4/K_P_energy_b_1'\n",
    "fig.savefig(f'{filename}.png', format='png', dpi=600)\n",
    "fig.savefig(f'{filename}.jpg', format='jpg', dpi=600)\n",
    "plt.show();\n",
    "\n",
    "\n",
    "\n",
    "\n"
   ]
  },
  {
   "cell_type": "code",
   "execution_count": 486,
   "metadata": {},
   "outputs": [
    {
     "data": {
      "text/html": [
       "<div>\n",
       "<style scoped>\n",
       "    .dataframe tbody tr th:only-of-type {\n",
       "        vertical-align: middle;\n",
       "    }\n",
       "\n",
       "    .dataframe tbody tr th {\n",
       "        vertical-align: top;\n",
       "    }\n",
       "\n",
       "    .dataframe thead th {\n",
       "        text-align: right;\n",
       "    }\n",
       "</style>\n",
       "<table border=\"1\" class=\"dataframe\">\n",
       "  <thead>\n",
       "    <tr style=\"text-align: right;\">\n",
       "      <th></th>\n",
       "      <th>$b_1$=0.5</th>\n",
       "      <th>$b_1$=1</th>\n",
       "      <th>$b_1$=1.5</th>\n",
       "      <th>$b_1$=2</th>\n",
       "    </tr>\n",
       "  </thead>\n",
       "  <tbody>\n",
       "    <tr>\n",
       "      <th>1</th>\n",
       "      <td>0.818731</td>\n",
       "      <td>0.670320</td>\n",
       "      <td>0.548812</td>\n",
       "      <td>0.449329</td>\n",
       "    </tr>\n",
       "    <tr>\n",
       "      <th>2</th>\n",
       "      <td>0.748425</td>\n",
       "      <td>0.578845</td>\n",
       "      <td>0.431050</td>\n",
       "      <td>0.308374</td>\n",
       "    </tr>\n",
       "    <tr>\n",
       "      <th>3</th>\n",
       "      <td>0.698269</td>\n",
       "      <td>0.530782</td>\n",
       "      <td>0.376989</td>\n",
       "      <td>0.246409</td>\n",
       "    </tr>\n",
       "    <tr>\n",
       "      <th>4</th>\n",
       "      <td>0.652840</td>\n",
       "      <td>0.493968</td>\n",
       "      <td>0.342933</td>\n",
       "      <td>0.210607</td>\n",
       "    </tr>\n",
       "    <tr>\n",
       "      <th>5</th>\n",
       "      <td>0.610500</td>\n",
       "      <td>0.461359</td>\n",
       "      <td>0.316925</td>\n",
       "      <td>0.186399</td>\n",
       "    </tr>\n",
       "    <tr>\n",
       "      <th>6</th>\n",
       "      <td>0.570922</td>\n",
       "      <td>0.431283</td>\n",
       "      <td>0.294807</td>\n",
       "      <td>0.168290</td>\n",
       "    </tr>\n",
       "    <tr>\n",
       "      <th>7</th>\n",
       "      <td>0.533913</td>\n",
       "      <td>0.403265</td>\n",
       "      <td>0.274991</td>\n",
       "      <td>0.153773</td>\n",
       "    </tr>\n",
       "    <tr>\n",
       "      <th>8</th>\n",
       "      <td>0.499305</td>\n",
       "      <td>0.377097</td>\n",
       "      <td>0.256818</td>\n",
       "      <td>0.141558</td>\n",
       "    </tr>\n",
       "    <tr>\n",
       "      <th>9</th>\n",
       "      <td>0.466939</td>\n",
       "      <td>0.352640</td>\n",
       "      <td>0.239981</td>\n",
       "      <td>0.130931</td>\n",
       "    </tr>\n",
       "    <tr>\n",
       "      <th>10</th>\n",
       "      <td>0.436672</td>\n",
       "      <td>0.329774</td>\n",
       "      <td>0.224311</td>\n",
       "      <td>0.121472</td>\n",
       "    </tr>\n",
       "    <tr>\n",
       "      <th>11</th>\n",
       "      <td>0.408367</td>\n",
       "      <td>0.308394</td>\n",
       "      <td>0.209698</td>\n",
       "      <td>0.112924</td>\n",
       "    </tr>\n",
       "    <tr>\n",
       "      <th>12</th>\n",
       "      <td>0.381896</td>\n",
       "      <td>0.288402</td>\n",
       "      <td>0.196056</td>\n",
       "      <td>0.105120</td>\n",
       "    </tr>\n",
       "    <tr>\n",
       "      <th>13</th>\n",
       "      <td>0.357142</td>\n",
       "      <td>0.269706</td>\n",
       "      <td>0.183314</td>\n",
       "      <td>0.097946</td>\n",
       "    </tr>\n",
       "    <tr>\n",
       "      <th>14</th>\n",
       "      <td>0.333992</td>\n",
       "      <td>0.252223</td>\n",
       "      <td>0.171408</td>\n",
       "      <td>0.091323</td>\n",
       "    </tr>\n",
       "    <tr>\n",
       "      <th>15</th>\n",
       "      <td>0.312342</td>\n",
       "      <td>0.235874</td>\n",
       "      <td>0.160280</td>\n",
       "      <td>0.085188</td>\n",
       "    </tr>\n",
       "    <tr>\n",
       "      <th>16</th>\n",
       "      <td>0.292096</td>\n",
       "      <td>0.220584</td>\n",
       "      <td>0.149878</td>\n",
       "      <td>0.079495</td>\n",
       "    </tr>\n",
       "    <tr>\n",
       "      <th>17</th>\n",
       "      <td>0.273163</td>\n",
       "      <td>0.206286</td>\n",
       "      <td>0.140154</td>\n",
       "      <td>0.074203</td>\n",
       "    </tr>\n",
       "    <tr>\n",
       "      <th>18</th>\n",
       "      <td>0.255456</td>\n",
       "      <td>0.192914</td>\n",
       "      <td>0.131063</td>\n",
       "      <td>0.069279</td>\n",
       "    </tr>\n",
       "    <tr>\n",
       "      <th>19</th>\n",
       "      <td>0.238897</td>\n",
       "      <td>0.180409</td>\n",
       "      <td>0.122562</td>\n",
       "      <td>0.064694</td>\n",
       "    </tr>\n",
       "    <tr>\n",
       "      <th>20</th>\n",
       "      <td>0.223412</td>\n",
       "      <td>0.168715</td>\n",
       "      <td>0.114614</td>\n",
       "      <td>0.060422</td>\n",
       "    </tr>\n",
       "  </tbody>\n",
       "</table>\n",
       "</div>"
      ],
      "text/plain": [
       "    $b_1$=0.5   $b_1$=1  $b_1$=1.5   $b_1$=2\n",
       "1    0.818731  0.670320   0.548812  0.449329\n",
       "2    0.748425  0.578845   0.431050  0.308374\n",
       "3    0.698269  0.530782   0.376989  0.246409\n",
       "4    0.652840  0.493968   0.342933  0.210607\n",
       "5    0.610500  0.461359   0.316925  0.186399\n",
       "6    0.570922  0.431283   0.294807  0.168290\n",
       "7    0.533913  0.403265   0.274991  0.153773\n",
       "8    0.499305  0.377097   0.256818  0.141558\n",
       "9    0.466939  0.352640   0.239981  0.130931\n",
       "10   0.436672  0.329774   0.224311  0.121472\n",
       "11   0.408367  0.308394   0.209698  0.112924\n",
       "12   0.381896  0.288402   0.196056  0.105120\n",
       "13   0.357142  0.269706   0.183314  0.097946\n",
       "14   0.333992  0.252223   0.171408  0.091323\n",
       "15   0.312342  0.235874   0.160280  0.085188\n",
       "16   0.292096  0.220584   0.149878  0.079495\n",
       "17   0.273163  0.206286   0.140154  0.074203\n",
       "18   0.255456  0.192914   0.131063  0.069279\n",
       "19   0.238897  0.180409   0.122562  0.064694\n",
       "20   0.223412  0.168715   0.114614  0.060422"
      ]
     },
     "execution_count": 486,
     "metadata": {},
     "output_type": "execute_result"
    }
   ],
   "source": [
    "columns = ['$b_1$=0.5','$b_1$=1','$b_1$=1.5', '$b_1$=2']\n",
    "df_P_energy = pd.DataFrame(np.array(p_0_energy_all).T, \n",
    "             columns=columns,\n",
    "            index=list(range(1,K_RANGE)))\n",
    "df_P_energy.to_excel('exp_1_4/P_energy.xlsx')\n",
    "df_P_energy"
   ]
  },
  {
   "cell_type": "markdown",
   "metadata": {},
   "source": [
    "### Experiment 5"
   ]
  },
  {
   "cell_type": "code",
   "execution_count": 488,
   "metadata": {},
   "outputs": [
    {
     "name": "stderr",
     "output_type": "stream",
     "text": [
      "100%|███████████████████████████████████████████| 20/20 [14:37<00:00, 43.88s/it]\n",
      "100%|███████████████████████████████████████████| 20/20 [14:27<00:00, 43.39s/it]\n",
      "100%|███████████████████████████████████████████| 20/20 [15:11<00:00, 45.57s/it]\n",
      "100%|███████████████████████████████████████████| 20/20 [24:24<00:00, 73.23s/it]\n"
     ]
    }
   ],
   "source": [
    "K_RANGE = 21\n",
    "\n",
    "p_0_idle_all = []\n",
    "lambd = find_lambda_g()\n",
    "e = np.matrix(np.ones(((W + 1) * (K + 1), 1)))\n",
    "for b_1 in b_1s:\n",
    "    cache_clear()\n",
    "    p_0_idle = []\n",
    "    h = np.diag(-D_0).max()\n",
    "    W = len(D_0) - 1\n",
    "    O = np.matrix(np.zeros((W + 1, W + 1)))\n",
    "    I = np.matrix(np.identity(W + 1))\n",
    "    matrix_size = len(D_0)\n",
    "    for K in tqdm(range(1, K_RANGE)):\n",
    "        cache_clear()\n",
    "        G_0 = find_G()\n",
    "        pi_0 = find_pi_0()\n",
    "        e = np.matrix(np.ones(((W + 1) * (K + 1), 1)))\n",
    "        p_0_idle.append(find_P_idle())\n",
    "    p_0_idle_all.append(p_0_idle)"
   ]
  },
  {
   "cell_type": "code",
   "execution_count": 498,
   "metadata": {},
   "outputs": [
    {
     "data": {
      "image/png": "[encoded data removed]",
      "text/plain": [
       "<Figure size 1080x720 with 1 Axes>"
      ]
     },
     "metadata": {
      "needs_background": "light"
     },
     "output_type": "display_data"
    }
   ],
   "source": [
    "linestyles = ['-', '--', '-.', ':', '-']\n",
    "fig = plt.figure(figsize=(15, 10))\n",
    "ax = plt.gca()\n",
    "\n",
    "ax.set_prop_cycle(cycler('color', \n",
    "                          ['b', 'r', 'g', 'blueviolet']))\n",
    "\n",
    "labels = ['$b_1$=0.5','$b_1$=1','$b_1$=1.5', '$b_1$=2']\n",
    "x = np.linspace(1, K_RANGE - 1, K_RANGE - 1)\n",
    "for k, style, b, label in zip(p_0_idle_all, linestyles, b_1s, labels):\n",
    "    cubic_interploation_model=interp1d(x,k,kind=\"quadratic\")\n",
    "    tck = interpolate.splrep(x, k, s=0, k=5)\n",
    "    xs = np.linspace(1, K_RANGE - 1, 100)\n",
    "    #ys = np.log10(interpolate.splev(xs, tck, der=0))\n",
    "    ys = interpolate.splev(xs, tck, der=0)\n",
    "#    xs=np.linspace(1,20,60)\n",
    "#    ys=cubic_interploation_model(xs)\n",
    "    ax.plot(xs, ys, label = label, linestyle=style, linewidth=3)\n",
    "\n",
    "plt.xlabel('$K$', fontsize=20)\n",
    "plt.ylabel('$P_{idle}$', fontsize=20)\n",
    "plt.xticks(fontsize=20)\n",
    "plt.yticks(fontsize=20)\n",
    "plt.legend(prop={'size': 20}, loc=0);\n",
    "\n",
    "\n",
    "ax.set_xticks(list(range(1, 21, 2)))\n",
    "filename = 'exp_1_5/K_P_idle_b_1'\n",
    "fig.savefig(f'{filename}.png', format='png', dpi=600)\n",
    "fig.savefig(f'{filename}.jpg', format='jpg', dpi=600)\n",
    "plt.show();\n",
    "\n",
    "\n",
    "\n",
    "\n",
    "\n"
   ]
  },
  {
   "cell_type": "code",
   "execution_count": 636,
   "metadata": {},
   "outputs": [
    {
     "ename": "ValueError",
     "evalue": "Shape of passed values is (20, 4), indices imply (10, 4)",
     "output_type": "error",
     "traceback": [
      "\u001b[0;31m---------------------------------------------------------------------------\u001b[0m",
      "\u001b[0;31mValueError\u001b[0m                                Traceback (most recent call last)",
      "\u001b[0;32m/var/folders/63/kq8pffvs457dmpqgb1w5hs9c0000gn/T/ipykernel_23339/3346951536.py\u001b[0m in \u001b[0;36m<module>\u001b[0;34m\u001b[0m\n\u001b[1;32m      1\u001b[0m \u001b[0mcolumns\u001b[0m \u001b[0;34m=\u001b[0m \u001b[0;34m[\u001b[0m\u001b[0;34m'$b_1$=0.5'\u001b[0m\u001b[0;34m,\u001b[0m\u001b[0;34m'$b_1$=1'\u001b[0m\u001b[0;34m,\u001b[0m\u001b[0;34m'$b_1$=1.5'\u001b[0m\u001b[0;34m,\u001b[0m \u001b[0;34m'$b_1$=2'\u001b[0m\u001b[0;34m]\u001b[0m\u001b[0;34m\u001b[0m\u001b[0;34m\u001b[0m\u001b[0m\n\u001b[0;32m----> 2\u001b[0;31m df_P_idle = pd.DataFrame(np.array(p_0_idle_all).T, \n\u001b[0m\u001b[1;32m      3\u001b[0m              \u001b[0mcolumns\u001b[0m\u001b[0;34m=\u001b[0m\u001b[0mcolumns\u001b[0m\u001b[0;34m,\u001b[0m\u001b[0;34m\u001b[0m\u001b[0;34m\u001b[0m\u001b[0m\n\u001b[1;32m      4\u001b[0m             index=list(range(1,K_RANGE)))\n\u001b[1;32m      5\u001b[0m \u001b[0;31m#df_P_energy.to_excel('exp_5/P_idle.xlsx')\u001b[0m\u001b[0;34m\u001b[0m\u001b[0;34m\u001b[0m\u001b[0m\n",
      "\u001b[0;32m/opt/anaconda3/envs/py39/lib/python3.9/site-packages/pandas/core/frame.py\u001b[0m in \u001b[0;36m__init__\u001b[0;34m(self, data, index, columns, dtype, copy)\u001b[0m\n\u001b[1;32m    670\u001b[0m                 )\n\u001b[1;32m    671\u001b[0m             \u001b[0;32melse\u001b[0m\u001b[0;34m:\u001b[0m\u001b[0;34m\u001b[0m\u001b[0;34m\u001b[0m\u001b[0m\n\u001b[0;32m--> 672\u001b[0;31m                 mgr = ndarray_to_mgr(\n\u001b[0m\u001b[1;32m    673\u001b[0m                     \u001b[0mdata\u001b[0m\u001b[0;34m,\u001b[0m\u001b[0;34m\u001b[0m\u001b[0;34m\u001b[0m\u001b[0m\n\u001b[1;32m    674\u001b[0m                     \u001b[0mindex\u001b[0m\u001b[0;34m,\u001b[0m\u001b[0;34m\u001b[0m\u001b[0;34m\u001b[0m\u001b[0m\n",
      "\u001b[0;32m/opt/anaconda3/envs/py39/lib/python3.9/site-packages/pandas/core/internals/construction.py\u001b[0m in \u001b[0;36mndarray_to_mgr\u001b[0;34m(values, index, columns, dtype, copy, typ)\u001b[0m\n\u001b[1;32m    322\u001b[0m     )\n\u001b[1;32m    323\u001b[0m \u001b[0;34m\u001b[0m\u001b[0m\n\u001b[0;32m--> 324\u001b[0;31m     \u001b[0m_check_values_indices_shape_match\u001b[0m\u001b[0;34m(\u001b[0m\u001b[0mvalues\u001b[0m\u001b[0;34m,\u001b[0m \u001b[0mindex\u001b[0m\u001b[0;34m,\u001b[0m \u001b[0mcolumns\u001b[0m\u001b[0;34m)\u001b[0m\u001b[0;34m\u001b[0m\u001b[0;34m\u001b[0m\u001b[0m\n\u001b[0m\u001b[1;32m    325\u001b[0m \u001b[0;34m\u001b[0m\u001b[0m\n\u001b[1;32m    326\u001b[0m     \u001b[0;32mif\u001b[0m \u001b[0mtyp\u001b[0m \u001b[0;34m==\u001b[0m \u001b[0;34m\"array\"\u001b[0m\u001b[0;34m:\u001b[0m\u001b[0;34m\u001b[0m\u001b[0;34m\u001b[0m\u001b[0m\n",
      "\u001b[0;32m/opt/anaconda3/envs/py39/lib/python3.9/site-packages/pandas/core/internals/construction.py\u001b[0m in \u001b[0;36m_check_values_indices_shape_match\u001b[0;34m(values, index, columns)\u001b[0m\n\u001b[1;32m    391\u001b[0m         \u001b[0mpassed\u001b[0m \u001b[0;34m=\u001b[0m \u001b[0mvalues\u001b[0m\u001b[0;34m.\u001b[0m\u001b[0mshape\u001b[0m\u001b[0;34m\u001b[0m\u001b[0;34m\u001b[0m\u001b[0m\n\u001b[1;32m    392\u001b[0m         \u001b[0mimplied\u001b[0m \u001b[0;34m=\u001b[0m \u001b[0;34m(\u001b[0m\u001b[0mlen\u001b[0m\u001b[0;34m(\u001b[0m\u001b[0mindex\u001b[0m\u001b[0;34m)\u001b[0m\u001b[0;34m,\u001b[0m \u001b[0mlen\u001b[0m\u001b[0;34m(\u001b[0m\u001b[0mcolumns\u001b[0m\u001b[0;34m)\u001b[0m\u001b[0;34m)\u001b[0m\u001b[0;34m\u001b[0m\u001b[0;34m\u001b[0m\u001b[0m\n\u001b[0;32m--> 393\u001b[0;31m         \u001b[0;32mraise\u001b[0m \u001b[0mValueError\u001b[0m\u001b[0;34m(\u001b[0m\u001b[0;34mf\"Shape of passed values is {passed}, indices imply {implied}\"\u001b[0m\u001b[0;34m)\u001b[0m\u001b[0;34m\u001b[0m\u001b[0;34m\u001b[0m\u001b[0m\n\u001b[0m\u001b[1;32m    394\u001b[0m \u001b[0;34m\u001b[0m\u001b[0m\n\u001b[1;32m    395\u001b[0m \u001b[0;34m\u001b[0m\u001b[0m\n",
      "\u001b[0;31mValueError\u001b[0m: Shape of passed values is (20, 4), indices imply (10, 4)"
     ]
    }
   ],
   "source": [
    "columns = ['$b_1$=0.5','$b_1$=1','$b_1$=1.5', '$b_1$=2']\n",
    "df_P_idle = pd.DataFrame(np.array(p_0_idle_all).T, \n",
    "             columns=columns,\n",
    "            index=list(range(1,K_RANGE)))\n",
    "#df_P_energy.to_excel('exp_5/P_idle.xlsx')\n",
    "df_P_idle"
   ]
  },
  {
   "cell_type": "markdown",
   "metadata": {},
   "source": [
    "$$\\theta D(1)=0, \\theta e = 1$$"
   ]
  },
  {
   "cell_type": "code",
   "execution_count": 63,
   "metadata": {},
   "outputs": [],
   "source": [
    "def find_theta():\n",
    "    W = len(D_0) - 1\n",
    "    a = np.concatenate((\n",
    "    np.delete((D_0 + D_1), 0, 1).transpose(), \n",
    "    np.ones([W + 1, 1]).transpose()))\n",
    "    b = np.concatenate((np.zeros([W, 1]), np.matrix(1)))\n",
    "    return LA.solve(a = a, b = b).T"
   ]
  },
  {
   "cell_type": "code",
   "execution_count": 533,
   "metadata": {},
   "outputs": [
    {
     "data": {
      "text/plain": [
       "matrix([[0.73102212, 0.26897788]])"
      ]
     },
     "execution_count": 533,
     "metadata": {},
     "output_type": "execute_result"
    }
   ],
   "source": [
    "theta = find_theta()\n",
    "theta"
   ]
  },
  {
   "cell_type": "markdown",
   "metadata": {},
   "source": [
    "$$\\lambda=\\theta D_1e$$"
   ]
  },
  {
   "cell_type": "code",
   "execution_count": 64,
   "metadata": {},
   "outputs": [],
   "source": [
    "def find_lambda():\n",
    "    theta = find_theta()\n",
    "    e = np.matrix(np.ones(((W + 1), 1)))\n",
    "    return float(theta * D_1 * e)"
   ]
  },
  {
   "cell_type": "code",
   "execution_count": 535,
   "metadata": {},
   "outputs": [
    {
     "data": {
      "text/plain": [
       "0.3001773998804549"
      ]
     },
     "execution_count": 535,
     "metadata": {},
     "output_type": "execute_result"
    }
   ],
   "source": [
    "find_lambda()"
   ]
  },
  {
   "cell_type": "markdown",
   "metadata": {},
   "source": [
    "$$\\lambda_g=-\\theta D_0e$$"
   ]
  },
  {
   "cell_type": "code",
   "execution_count": 65,
   "metadata": {},
   "outputs": [],
   "source": [
    "def find_lambda_g():\n",
    "    theta = find_theta()\n",
    "    e = np.matrix(np.ones(((W + 1), 1)))\n",
    "    return float(-theta * D_0 * e)"
   ]
  },
  {
   "cell_type": "code",
   "execution_count": 929,
   "metadata": {},
   "outputs": [
    {
     "data": {
      "text/plain": [
       "-1.2960370688145906"
      ]
     },
     "execution_count": 929,
     "metadata": {},
     "output_type": "execute_result"
    }
   ],
   "source": [
    "lambda_g = find_lambda_g()\n",
    "lambda_g"
   ]
  },
  {
   "cell_type": "code",
   "execution_count": 66,
   "metadata": {},
   "outputs": [],
   "source": [
    "def set_lambda(D_0, D_1):\n",
    "    e = np.matrix(np.ones(((W + 1), 1)))\n",
    "\n",
    "    theta = find_theta()\n",
    "    lambda_g = find_lambda_g()\n",
    "    D_0_new = D_0  * lambd / lambda_g\n",
    "    D_1_new = D_1 * lambd / lambda_g \n",
    "    temp = np.zeros((W + 1, W + 1))\n",
    "    temp[-1] = ((D_0_new + D_1_new) * e).T\n",
    "    D_1_new = D_1_new - temp.T\n",
    "    return D_0_new.copy(), D_1_new.copy()"
   ]
  },
  {
   "cell_type": "code",
   "execution_count": 930,
   "metadata": {},
   "outputs": [],
   "source": [
    "D_0, D_1 = set_lambda(D_0, D_1)"
   ]
  },
  {
   "cell_type": "markdown",
   "metadata": {},
   "source": [
    "$$c_{var}^2=2\\lambda_b\\theta(-D_0)^{-1}e-1$$"
   ]
  },
  {
   "cell_type": "code",
   "execution_count": 67,
   "metadata": {},
   "outputs": [],
   "source": [
    "def find_c_var():\n",
    "    e = np.matrix(np.ones(((W + 1), 1)))\n",
    "    return float(2 * lambda_g * theta * (-D_0)**(-1) * e - 1)"
   ]
  },
  {
   "cell_type": "code",
   "execution_count": 71,
   "metadata": {},
   "outputs": [
    {
     "data": {
      "text/plain": [
       "(0.3991961615807982, 16.021816529511618)"
      ]
     },
     "execution_count": 71,
     "metadata": {},
     "output_type": "execute_result"
    }
   ],
   "source": [
    "D_0 = np.matrix([\n",
    "    [-1.35, 0],\n",
    "    [0, -0.034]\n",
    "])\n",
    "\n",
    "D_1 = np.matrix([\n",
    "    [1.34811, 0.05],\n",
    "    [0.005, 0.21]\n",
    "])\n",
    "cache_clear()\n",
    "D_0, D_1 = set_lambda(D_0, D_1)\n",
    "cache_clear()\n",
    "theta = find_theta()\n",
    "lambda_g = find_lambda_g()\n",
    "c_var = find_c_var()\n",
    "c_cor = find_c_cor()\n",
    "c_cor, c_var"
   ]
  },
  {
   "cell_type": "code",
   "execution_count": 100,
   "metadata": {},
   "outputs": [
    {
     "data": {
      "text/plain": [
       "(0.3991955425446128, 16.021599842554053)"
      ]
     },
     "execution_count": 100,
     "metadata": {},
     "output_type": "execute_result"
    }
   ],
   "source": [
    "D_0, D_1 = set_lambda(D_0, D_1)\n",
    "cache_clear()\n",
    "theta = find_theta()\n",
    "lambda_g = find_lambda_g()\n",
    "c_var = find_c_var()\n",
    "c_cor = find_c_cor()\n",
    "c_cor, c_var"
   ]
  },
  {
   "cell_type": "code",
   "execution_count": 1253,
   "metadata": {},
   "outputs": [
    {
     "data": {
      "text/plain": [
       "[(matrix([[-0.40578 ,  0.      ],\n",
       "          [ 0.      , -0.013173]]),\n",
       "  matrix([[0.40308 , 0.0027  ],\n",
       "          [0.007338, 0.005835]])),\n",
       " (matrix([[-0.21632047,  0.        ],\n",
       "          [ 0.        , -0.00544807]]),\n",
       "  matrix([[0.21601763, 0.00030285],\n",
       "          [0.00080119, 0.00464688]]))]"
      ]
     },
     "execution_count": 1253,
     "metadata": {},
     "output_type": "execute_result"
    }
   ],
   "source": [
    "Ds[1:]"
   ]
  },
  {
   "cell_type": "code",
   "execution_count": 1238,
   "metadata": {},
   "outputs": [],
   "source": [
    "Ds[2] = D_0.copy(), D_1.copy()"
   ]
  },
  {
   "cell_type": "code",
   "execution_count": 1145,
   "metadata": {},
   "outputs": [],
   "source": [
    "D_0, D_1 = Ds[2]"
   ]
  },
  {
   "cell_type": "code",
   "execution_count": 89,
   "metadata": {},
   "outputs": [
    {
     "name": "stdout",
     "output_type": "stream",
     "text": [
      "(matrix([[-0.21632047,  0.        ],\n",
      "        [ 0.        , -0.00544807]]), matrix([[0.21601763, 0.00030285],\n",
      "        [0.00080119, 0.00464688]]))\n"
     ]
    }
   ],
   "source": [
    "for x in Ds[2:]:\n",
    "    print(x)"
   ]
  },
  {
   "cell_type": "code",
   "execution_count": 87,
   "metadata": {},
   "outputs": [
    {
     "data": {
      "text/plain": [
       "matrix([[-0.40950161,  0.        ],\n",
       "        [ 0.        , -0.01031337]])"
      ]
     },
     "execution_count": 87,
     "metadata": {},
     "output_type": "execute_result"
    }
   ],
   "source": [
    "D_0"
   ]
  },
  {
   "cell_type": "code",
   "execution_count": 93,
   "metadata": {},
   "outputs": [],
   "source": [
    "cache_clear()"
   ]
  },
  {
   "cell_type": "code",
   "execution_count": 94,
   "metadata": {
    "scrolled": true
   },
   "outputs": [
    {
     "data": {
      "text/plain": [
       "16.021599842553982"
      ]
     },
     "execution_count": 94,
     "metadata": {},
     "output_type": "execute_result"
    }
   ],
   "source": [
    "c_var = find_c_var()\n",
    "c_var"
   ]
  },
  {
   "cell_type": "markdown",
   "metadata": {},
   "source": [
    "$$c_{cor}=(\\lambda_g\\theta(-D_0)^{-1}(D(1)-D_0)(-D_0)^{-1}e-1)/c_{var}^2$$"
   ]
  },
  {
   "cell_type": "code",
   "execution_count": 69,
   "metadata": {},
   "outputs": [],
   "source": [
    "def find_c_cor():\n",
    "    e = np.matrix(np.ones(((W + 1), 1)))\n",
    "    return float((lambda_g*theta*(-D_0)**(-1)*D_1*(-D_0)**(-1)*e - 1) / c_var)"
   ]
  },
  {
   "cell_type": "code",
   "execution_count": 95,
   "metadata": {},
   "outputs": [],
   "source": [
    "theta = find_theta()\n",
    "lambda_g = find_lambda_g()"
   ]
  },
  {
   "cell_type": "code",
   "execution_count": 96,
   "metadata": {},
   "outputs": [
    {
     "data": {
      "text/plain": [
       "0.3991955425446127"
      ]
     },
     "execution_count": 96,
     "metadata": {},
     "output_type": "execute_result"
    }
   ],
   "source": [
    "c_cor = find_c_cor()\n",
    "c_cor"
   ]
  },
  {
   "cell_type": "markdown",
   "metadata": {},
   "source": [
    "$$N = \\sum\\limits_{i=0}^{\\infty}\\sum\\limits_{k=1}^{K}k\\pi(i, k)e$$"
   ]
  },
  {
   "cell_type": "code",
   "execution_count": 70,
   "metadata": {},
   "outputs": [],
   "source": [
    "def find_N(): \n",
    "    i = 0\n",
    "    norm = 1\n",
    "    summa = 0\n",
    "    e = np.matrix(np.ones(((W + 1), 1)))\n",
    "    while norm > epsilon_f:\n",
    "        pi = pi_l(i).reshape((K + 1, W + 1))\n",
    "        element = 0\n",
    "        for k in range(1, K + 1):\n",
    "            element += k * pi[k] * e\n",
    "        summa += element\n",
    "        norm = element\n",
    "        i +=1 \n",
    "    return float(summa)"
   ]
  },
  {
   "cell_type": "code",
   "execution_count": 276,
   "metadata": {},
   "outputs": [
    {
     "data": {
      "text/plain": [
       "10.427051664654375"
      ]
     },
     "execution_count": 276,
     "metadata": {},
     "output_type": "execute_result"
    }
   ],
   "source": [
    "find_N()"
   ]
  },
  {
   "cell_type": "markdown",
   "metadata": {},
   "source": [
    "$$P_0^{custom}=\\pi_0e$$"
   ]
  },
  {
   "cell_type": "code",
   "execution_count": 475,
   "metadata": {},
   "outputs": [],
   "source": [
    "def P_custom():\n",
    "    e = np.matrix(np.ones(((W + 1) * (K + 1), 1)))\n",
    "    return float(pi_0 * e)"
   ]
  },
  {
   "cell_type": "markdown",
   "metadata": {},
   "source": [
    "$$P_0^{energy}=\\sum\\limits_{i=0}^{\\infty}\\pi(i, 0)e$$"
   ]
  },
  {
   "cell_type": "code",
   "execution_count": 479,
   "metadata": {},
   "outputs": [],
   "source": [
    "def find_P_energy():\n",
    "    i = 0\n",
    "    norm = 1\n",
    "    summa = 0\n",
    "    e = np.matrix(np.ones(((W + 1), 1)))\n",
    "    while norm > epsilon_f:\n",
    "        pi = pi_l(i).reshape((K + 1, W + 1))[0]\n",
    "        element = pi * e\n",
    "        summa += element\n",
    "        norm = element\n",
    "        i +=1 \n",
    "    return float(summa)"
   ]
  },
  {
   "cell_type": "markdown",
   "metadata": {},
   "source": [
    "$$P_0^{idle}=\\sum\\limits_{i=1}^{\\infty}\\pi(i, 0)e$$"
   ]
  },
  {
   "cell_type": "code",
   "execution_count": 487,
   "metadata": {},
   "outputs": [],
   "source": [
    "def find_P_idle():\n",
    "    i = 1\n",
    "    norm = 1\n",
    "    summa = 0\n",
    "    e = np.matrix(np.ones(((W + 1), 1)))\n",
    "    while norm > epsilon_f:\n",
    "        pi = pi_l(i).reshape((K + 1, W + 1))[0]\n",
    "        element = pi * e\n",
    "        summa += element\n",
    "        norm = element\n",
    "        i +=1 \n",
    "    return float(summa)"
   ]
  },
  {
   "cell_type": "code",
   "execution_count": null,
   "metadata": {},
   "outputs": [],
   "source": []
  },
  {
   "cell_type": "code",
   "execution_count": null,
   "metadata": {},
   "outputs": [],
   "source": []
  },
  {
   "cell_type": "code",
   "execution_count": null,
   "metadata": {},
   "outputs": [],
   "source": []
  },
  {
   "cell_type": "code",
   "execution_count": null,
   "metadata": {},
   "outputs": [],
   "source": []
  },
  {
   "cell_type": "markdown",
   "metadata": {},
   "source": [
    "$$\\tau=b_1+\\pi(0,0)(-D_0+\\gamma I)^{-1}(D_1\\gamma^{-1}+\\gamma(-D_0)^{-1})e+\\gamma^{-1}\\sum\\limits_{i=1}^{\\infty}\\pi(i,0)e+\\sum\\limits_{k=1}^{K}\\pi(0,k)(-D_0)^{-1}e$$"
   ]
  },
  {
   "cell_type": "code",
   "execution_count": 430,
   "metadata": {},
   "outputs": [],
   "source": [
    "def find_tau():\n",
    "    W = len(D_0) - 1\n",
    "    pi = pi_l(0).reshape((K + 1, W + 1))\n",
    "    e = np.matrix(np.ones(((W + 1), 1)))\n",
    "    \n",
    "    i = 1\n",
    "    norm = 1\n",
    "    summa_1 = 0\n",
    "    e = np.matrix(np.ones(((W + 1), 1)))\n",
    "    while norm > epsilon_f:\n",
    "        pi_i = pi_l(i).reshape((K + 1, W + 1))[0]\n",
    "        element = pi_i * e\n",
    "        summa_1 += element\n",
    "        norm = element\n",
    "        i +=1 \n",
    "    summa_1 /= gamma\n",
    "    \n",
    "    summa_2 = 0\n",
    "    for k in range(1, K + 1):\n",
    "        summa_2 += pi[k] * (-D_0)**(-1)*e\n",
    "    \n",
    "    return float(b_1 + pi[0] * (-D_0 + gamma * I)**(-1) * (D_1 / gamma + gamma * (-D_0)**(-1)) * e + summa_1 + summa_2)"
   ]
  },
  {
   "cell_type": "code",
   "execution_count": 472,
   "metadata": {},
   "outputs": [],
   "source": [
    "cache_clear()\n",
    "G_0 = find_G()\n",
    "pi_0 = find_pi_0()"
   ]
  },
  {
   "cell_type": "code",
   "execution_count": 473,
   "metadata": {},
   "outputs": [
    {
     "data": {
      "text/plain": [
       "0.3001773998804543"
      ]
     },
     "execution_count": 473,
     "metadata": {},
     "output_type": "execute_result"
    }
   ],
   "source": [
    "find_lambda_g()"
   ]
  },
  {
   "cell_type": "code",
   "execution_count": 474,
   "metadata": {
    "scrolled": true
   },
   "outputs": [
    {
     "data": {
      "text/plain": [
       "0.30474722251873254"
      ]
     },
     "execution_count": 474,
     "metadata": {},
     "output_type": "execute_result"
    }
   ],
   "source": [
    "1 / find_tau()"
   ]
  },
  {
   "cell_type": "code",
   "execution_count": 446,
   "metadata": {},
   "outputs": [],
   "source": [
    "D_0, D_1 = Ds[1]"
   ]
  },
  {
   "cell_type": "code",
   "execution_count": 469,
   "metadata": {},
   "outputs": [],
   "source": [
    "K=4\n",
    "b_1 = 1"
   ]
  },
  {
   "cell_type": "code",
   "execution_count": 470,
   "metadata": {},
   "outputs": [],
   "source": [
    "epsilon = 1e-7\n",
    "epsilon_f = 1e-10\n",
    "epsilon = 1e-7\n",
    "cache_clear()"
   ]
  },
  {
   "cell_type": "code",
   "execution_count": null,
   "metadata": {},
   "outputs": [],
   "source": []
  },
  {
   "cell_type": "code",
   "execution_count": null,
   "metadata": {},
   "outputs": [],
   "source": [
    "fig = plt.figure(figsize=(15, 10))\n",
    "x = np.linspace(1, 20, 20)\n",
    "y = Ks_all[1]\n",
    "tck = interpolate.splrep(x, y, s=0, k=5)\n",
    "xnew = np.linspace(1, 20, 100)\n",
    "ynew = interpolate.splev(xnew, tck, der=0)\n",
    "plt.plot(x, y)\n",
    "plt.plot(xnew, ynew)\n",
    "plt.show()"
   ]
  }
 ],
 "metadata": {
  "kernelspec": {
   "display_name": "Python 3 (ipykernel)",
   "language": "python",
   "name": "python3"
  },
  "language_info": {
   "codemirror_mode": {
    "name": "ipython",
    "version": 3
   },
   "file_extension": ".py",
   "mimetype": "text/x-python",
   "name": "python",
   "nbconvert_exporter": "python",
   "pygments_lexer": "ipython3",
   "version": "3.9.7"
  }
 },
 "nbformat": 4,
 "nbformat_minor": 4
}
